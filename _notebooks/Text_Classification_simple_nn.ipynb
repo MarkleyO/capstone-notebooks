{
  "nbformat": 4,
  "nbformat_minor": 0,
  "metadata": {
    "kernelspec": {
      "name": "python3",
      "display_name": "Python 3.8.6 64-bit",
      "metadata": {
        "interpreter": {
          "hash": "1ef63b898a85616871e078e6511258e27adff349acc8e961d6c4e5343555c5a7"
        }
      }
    },
    "language_info": {
      "codemirror_mode": {
        "name": "ipython",
        "version": 3
      },
      "file_extension": ".py",
      "mimetype": "text/x-python",
      "name": "python",
      "nbconvert_exporter": "python",
      "pygments_lexer": "ipython3",
      "version": "3.8.6-final"
    },
    "widgets": {
      "application/vnd.jupyter.widget-state+json": {
        "cbdd6e4d0b3746638ae6dab5a1a7e534": {
          "model_module": "@jupyter-widgets/controls",
          "model_name": "ButtonModel",
          "state": {
            "_view_name": "ButtonView",
            "style": "IPY_MODEL_af0d26375a684d398c2dd524ed4506b4",
            "_dom_classes": [],
            "description": "Click to see Vocab",
            "_model_name": "ButtonModel",
            "button_style": "",
            "_view_module": "@jupyter-widgets/controls",
            "_model_module_version": "1.5.0",
            "tooltip": "",
            "_view_count": null,
            "disabled": false,
            "_view_module_version": "1.5.0",
            "layout": "IPY_MODEL_2597a278bed34e18b0ec67729284336f",
            "_model_module": "@jupyter-widgets/controls",
            "icon": ""
          }
        },
        "af0d26375a684d398c2dd524ed4506b4": {
          "model_module": "@jupyter-widgets/controls",
          "model_name": "ButtonStyleModel",
          "state": {
            "_view_name": "StyleView",
            "_model_name": "ButtonStyleModel",
            "_view_module": "@jupyter-widgets/base",
            "_model_module_version": "1.5.0",
            "_view_count": null,
            "button_color": null,
            "font_weight": "",
            "_view_module_version": "1.2.0",
            "_model_module": "@jupyter-widgets/controls"
          }
        },
        "2597a278bed34e18b0ec67729284336f": {
          "model_module": "@jupyter-widgets/base",
          "model_name": "LayoutModel",
          "state": {
            "_view_name": "LayoutView",
            "grid_template_rows": null,
            "right": null,
            "justify_content": null,
            "_view_module": "@jupyter-widgets/base",
            "overflow": null,
            "_model_module_version": "1.2.0",
            "_view_count": null,
            "flex_flow": null,
            "width": null,
            "min_width": null,
            "border": null,
            "align_items": null,
            "bottom": null,
            "_model_module": "@jupyter-widgets/base",
            "top": null,
            "grid_column": null,
            "overflow_y": null,
            "overflow_x": null,
            "grid_auto_flow": null,
            "grid_area": null,
            "grid_template_columns": null,
            "flex": null,
            "_model_name": "LayoutModel",
            "justify_items": null,
            "grid_row": null,
            "max_height": null,
            "align_content": null,
            "visibility": null,
            "align_self": null,
            "height": null,
            "min_height": null,
            "padding": null,
            "grid_auto_rows": null,
            "grid_gap": null,
            "max_width": null,
            "order": null,
            "_view_module_version": "1.2.0",
            "grid_template_areas": null,
            "object_position": null,
            "object_fit": null,
            "grid_auto_columns": null,
            "margin": null,
            "display": null,
            "left": null
          }
        }
      }
    },
    "colab": {
      "name": "Text Classification.ipynb",
      "provenance": [],
      "collapsed_sections": []
    }
  },
  "cells": [
    {
      "cell_type": "markdown",
      "metadata": {
        "id": "yud3kMDNFobS"
      },
      "source": [
        "# Text Classification\n",
        "\n",
        "Text classification is the process of assigning tags or categories to text according to its content. It’s one of the fundamental tasks in natural language processing. \n",
        "\n",
        "The text we wanna classify is given as input to an algorithm, the algorithm will then analyze the text’s content, and then categorize the input as one of the tags or categories previously given.\n",
        "\n",
        "**Input → Classifying Algorithm → Classification of Input**\n",
        "\n",
        "Real life examples: \n",
        "\n",
        "+ sentiment analysis: how does the writer of the sentence feel about what they are writing about, do they think positively or negatively of the subject?Ex. restaurant reviews\n",
        "+ topic labeling: given sentences and a set of topics, which topic does this sentence fall under?  Ex. is this essay about history? Math? etc?\n",
        "+ spam detection. Ex. Email filtering: is this email a real important email or spam?\n",
        "\n",
        "Example. \n",
        "A restaurant wants to evaluate their ratings but don’t want to read through all of them. Therefore, they wanna use a computer algorithm to do all their work. They simply want to know if the customer’s review is positive or negative.\n",
        "\n",
        "Here’s an example of a customer’s review and a simple way an algorithm could classify their review.\n",
        "\n",
        "Input: “The food here was too salty and too expensive” \n",
        "\n",
        "Algorithm: \n",
        "Goes through every word in the sentence and counts how many positive words and how many negative words are in the sentence.\n",
        "\n",
        "\t\t“The, food, here, was, too, and” are all neutral words\n",
        "\n",
        "\t\t“Salty, expensive” are negative words.\n",
        "\n",
        "\t\tNegative words: 2\n",
        "\t\tPositive words: 0\n",
        "\n",
        "Classification: Negative Review, because there are more negative words (2) than positive (0).\n",
        "\n",
        "However, this algorithm obviously doesn’t work in a lot of cases. \n",
        "\n",
        "For example, “The food here was good, not expensive and not salty” would be classified as negative but it’s actually a positive review. \n",
        "\n",
        "Language and text can get very complicated which makes creating these algorithms difficult. Some things that make language difficult could be words that have multiple meanings, negation words (words such as not), slang, etc.\n",
        "\n"
      ]
    },
    {
      "cell_type": "markdown",
      "metadata": {
        "id": "4X8mkZErFoba"
      },
      "source": [
        "## Importing Data"
      ]
    },
    {
      "cell_type": "code",
      "metadata": {
        "id": "qS67p4NnFobb",
        "colab": {
          "base_uri": "https://localhost:8080/"
        },
        "outputId": "316d46be-d75e-49f5-b60a-a64b6b2bd45f"
      },
      "source": [
        "import sys\n",
        "import string\n",
        "from scipy import sparse\n",
        "import numpy as np\n",
        "import re\n",
        "import nltk\n",
        "from nltk.corpus import stopwords\n",
        "from IPython.display import display\n",
        "import ipywidgets as widgets\n",
        "\n",
        "# Our two files that contain our data, split up into a training set and a testing set.\n",
        "\n",
        "trainingFile = \"dataset/trainingSet.txt\"\n",
        "testingFile = \"dataset/testSet.txt\""
      ],
      "execution_count": 2,
      "outputs": [
        {
          "output_type": "stream",
          "text": [
            "Mounted at /content/gdrive\n"
          ],
          "name": "stdout"
        }
      ]
    },
    {
      "cell_type": "code",
      "metadata": {
        "id": "eq1xTUPUFobc"
      },
      "source": [
        "def getData(fileName):\n",
        "    f = open(fileName)\n",
        "    file = f.readlines()\n",
        "\n",
        "    sentences = []\n",
        "    sentiments = []\n",
        "\n",
        "    for line in file:\n",
        "        sentence, sentiment = line.split('\\t')\n",
        "        sentences.append(sentence.strip())\n",
        "        sentiments.append(int(sentiment.strip())) # Sentiment in {0,1}\n",
        "\n",
        "    return sentences, np.array(sentiments)"
      ],
      "execution_count": 3,
      "outputs": []
    },
    {
      "cell_type": "code",
      "metadata": {
        "id": "0clq6iMtFobd"
      },
      "source": [
        "trainingSentences, trainingLabels = getData(trainingFile)\n",
        "testingSentences, testingLabels = getData(testingFile)"
      ],
      "execution_count": 4,
      "outputs": []
    },
    {
      "cell_type": "markdown",
      "metadata": {
        "id": "h5bmxzE0Fobd"
      },
      "source": [
        "## Pre-Processing Data"
      ]
    },
    {
      "cell_type": "code",
      "metadata": {
        "id": "CEFiIbsLFobd"
      },
      "source": [
        "def cleanText(sentence):\n",
        "\n",
        "    # Remove punctuations and numbers\n",
        "    sentence = re.sub('[^a-zA-Z]', ' ', sentence)\n",
        "\n",
        "    # Single character removal\n",
        "    sentence = re.sub(r\"\\s+[a-zA-Z]\\s+\", ' ', sentence)\n",
        "\n",
        "    # Removing multiple spaces\n",
        "    sentence = re.sub(r'\\s+', ' ', sentence)\n",
        "\n",
        "    return sentence\n",
        "\n",
        "def preProcess(text):\n",
        "    # Make lower case\n",
        "    text = text.lower()\n",
        "\n",
        "    # Replace non-text characters with spaces\n",
        "    nonText = string.punctuation + (\"\")\n",
        "    text = text.translate(str.maketrans(nonText, ' ' * (len(nonText))))\n",
        "\n",
        "    # Tokenize\n",
        "    words = text.split()\n",
        "\n",
        "    return words"
      ],
      "execution_count": 5,
      "outputs": []
    },
    {
      "cell_type": "code",
      "metadata": {
        "id": "9NpPZFmdFobe",
        "colab": {
          "base_uri": "https://localhost:8080/",
          "height": 350
        },
        "outputId": "2c343207-01f9-4c00-cc5b-7f12c64902d2"
      },
      "source": [
        "train_sentence = []\n",
        "train_words = []\n",
        "test_sentence = []\n",
        "test_words = []\n",
        "# get cleaned sentences and bag of words\n",
        "for sen in trainingSentences:\n",
        "    train_sentence.append(cleanText(sen))\n",
        "    train_words.append(preProcess(sen))\n",
        "for sen in testingSentences:\n",
        "    test_sentence.append(cleanText(sen))\n",
        "    test_words.append(preProcess(sen))\n",
        "print(train_sentence[0])\n",
        "\n",
        "\n",
        "print(train_words)\n",
        "\n",
        "import seaborn as sns\n",
        "import pandas as pd\n",
        "train_df = pd.DataFrame(data=trainingLabels, columns=[\"sentiment\"])\n",
        "sns.countplot(x='sentiment', data=train_df)"
      ],
      "execution_count": 6,
      "outputs": [
        {
          "output_type": "stream",
          "text": [
            "Wow Loved this place \n",
            "[['wow', 'loved', 'this', 'place'], ['not', 'tasty', 'and', 'the', 'texture', 'was', 'just', 'nasty'], ['stopped', 'by', 'during', 'the', 'late', 'may', 'bank', 'holiday', 'off', 'rick', 'steve', 'recommendation', 'and', 'loved', 'it'], ['the', 'selection', 'on', 'the', 'menu', 'was', 'great', 'and', 'so', 'were', 'the', 'prices'], ['now', 'i', 'am', 'getting', 'angry', 'and', 'i', 'want', 'my', 'damn', 'pho'], ['honeslty', 'it', 'didn', 't', 'taste', 'that', 'fresh'], ['the', 'potatoes', 'were', 'like', 'rubber', 'and', 'you', 'could', 'tell', 'they', 'had', 'been', 'made', 'up', 'ahead', 'of', 'time', 'being', 'kept', 'under', 'a', 'warmer'], ['the', 'fries', 'were', 'great', 'too'], ['a', 'great', 'touch'], ['service', 'was', 'very', 'prompt'], ['the', 'cashier', 'had', 'no', 'care', 'what', 'so', 'ever', 'on', 'what', 'i', 'had', 'to', 'say', 'it', 'still', 'ended', 'up', 'being', 'wayyy', 'overpriced'], ['i', 'tried', 'the', 'cape', 'cod', 'ravoli', 'chicken', 'with', 'cranberry', 'mmmm'], ['i', 'was', 'disgusted', 'because', 'i', 'was', 'pretty', 'sure', 'that', 'was', 'human', 'hair'], ['highly', 'recommended'], ['waitress', 'was', 'a', 'little', 'slow', 'in', 'service'], ['this', 'place', 'is', 'not', 'worth', 'your', 'time', 'let', 'alone', 'vegas'], ['did', 'not', 'like', 'at', 'all'], ['the', 'burrittos', 'blah'], ['that', 's', 'right', 'the', 'red', 'velvet', 'cake', 'ohhh', 'this', 'stuff', 'is', 'so', 'good'], ['they', 'never', 'brought', 'a', 'salad', 'we', 'asked', 'for'], ['took', 'an', 'hour', 'to', 'get', 'our', 'food', 'only', '4', 'tables', 'in', 'restaurant', 'my', 'food', 'was', 'luke', 'warm', 'our', 'sever', 'was', 'running', 'around', 'like', 'he', 'was', 'totally', 'overwhelmed'], ['overall', 'i', 'like', 'this', 'place', 'a', 'lot'], ['the', 'only', 'redeeming', 'quality', 'of', 'the', 'restaurant', 'was', 'that', 'it', 'was', 'very', 'inexpensive'], ['poor', 'service', 'the', 'waiter', 'made', 'me', 'feel', 'like', 'i', 'was', 'stupid', 'every', 'time', 'he', 'came', 'to', 'the', 'table'], ['my', 'first', 'visit', 'to', 'hiro', 'was', 'a', 'delight'], ['the', 'shrimp', 'tender', 'and', 'moist'], ['there', 'is', 'not', 'a', 'deal', 'good', 'enough', 'that', 'would', 'drag', 'me', 'into', 'that', 'establishment', 'again'], ['hard', 'to', 'judge', 'whether', 'these', 'sides', 'were', 'good', 'because', 'we', 'were', 'grossed', 'out', 'by', 'the', 'melted', 'styrofoam', 'and', 'didn', 't', 'want', 'to', 'eat', 'it', 'for', 'fear', 'of', 'getting', 'sick'], ['on', 'a', 'positive', 'note', 'our', 'server', 'was', 'very', 'attentive', 'and', 'provided', 'great', 'service'], ['the', 'only', 'thing', 'i', 'did', 'like', 'was', 'the', 'prime', 'rib', 'and', 'dessert', 'section'], ['the', 'burger', 'is', 'good', 'beef', 'cooked', 'just', 'right'], ['we', 'ordered', 'the', 'duck', 'rare', 'and', 'it', 'was', 'pink', 'and', 'tender', 'on', 'the', 'inside', 'with', 'a', 'nice', 'char', 'on', 'the', 'outside'], ['he', 'came', 'running', 'after', 'us', 'when', 'he', 'realized', 'my', 'husband', 'had', 'left', 'his', 'sunglasses', 'on', 'the', 'table'], ['they', 'have', 'horrible', 'attitudes', 'towards', 'customers', 'and', 'talk', 'down', 'to', 'each', 'one', 'when', 'customers', 'don', 't', 'enjoy', 'their', 'food'], ['not', 'much', 'seafood', 'and', 'like', '5', 'strings', 'of', 'pasta', 'at', 'the', 'bottom'], ['at', 'least', 'think', 'to', 'refill', 'my', 'water', 'before', 'i', 'struggle', 'to', 'wave', 'you', 'over', 'for', '10', 'minutes'], ['this', 'place', 'receives', 'stars', 'for', 'their', 'appetizers'], ['the', 'cocktails', 'are', 'all', 'handmade', 'and', 'delicious'], ['we', 'd', 'definitely', 'go', 'back', 'here', 'again'], ['we', 'are', 'so', 'glad', 'we', 'found', 'this', 'place'], ['always', 'a', 'great', 'time', 'at', 'dos', 'gringos'], ['a', 'great', 'way', 'to', 'finish', 'a', 'great'], ['the', 'scallop', 'dish', 'is', 'quite', 'appalling', 'for', 'value', 'as', 'well'], ['there', 'is', 'so', 'much', 'good', 'food', 'in', 'vegas', 'that', 'i', 'feel', 'cheated', 'for', 'wasting', 'an', 'eating', 'opportunity', 'by', 'going', 'to', 'rice', 'and', 'company'], ['coming', 'here', 'is', 'like', 'experiencing', 'an', 'underwhelming', 'relationship', 'where', 'both', 'parties', 'can', 't', 'wait', 'for', 'the', 'other', 'person', 'to', 'ask', 'to', 'break', 'up'], ['the', 'turkey', 'and', 'roast', 'beef', 'were', 'bland'], ['this', 'place', 'has', 'it'], ['i', 'love', 'the', 'pho', 'and', 'the', 'spring', 'rolls', 'oh', 'so', 'yummy', 'you', 'have', 'to', 'try'], ['omelets', 'are', 'to', 'die', 'for'], ['in', 'summary', 'this', 'was', 'a', 'largely', 'disappointing', 'dining', 'experience'], ['it', 's', 'like', 'a', 'really', 'sexy', 'party', 'in', 'your', 'mouth', 'where', 'you', 're', 'outrageously', 'flirting', 'with', 'the', 'hottest', 'person', 'at', 'the', 'party'], ['best', 'breakfast', 'buffet'], ['will', 'be', 'back', 'again'], ['our', 'server', 'was', 'fantastic', 'and', 'when', 'he', 'found', 'out', 'the', 'wife', 'loves', 'roasted', 'garlic', 'and', 'bone', 'marrow', 'he', 'added', 'extra', 'to', 'our', 'meal', 'and', 'another', 'marrow', 'to', 'go'], ['the', 'only', 'good', 'thing', 'was', 'our', 'waiter', 'he', 'was', 'very', 'helpful', 'and', 'kept', 'the', 'bloddy', 'mary', 's', 'coming'], ['best', 'buffet', 'in', 'town', 'for', 'the', 'price', 'you', 'cannot', 'beat', 'it'], ['so', 'we', 'went', 'to', 'tigerlilly', 'and', 'had', 'a', 'fantastic', 'afternoon'], ['the', 'food', 'was', 'delicious', 'our', 'bartender', 'was', 'attentive', 'and', 'personable', 'and', 'we', 'got', 'a', 'great', 'deal'], ['the', 'ambience', 'is', 'wonderful', 'and', 'there', 'is', 'music', 'playing'], ['will', 'go', 'back', 'next', 'trip', 'out'], ['real', 'sushi', 'lovers', 'let', 's', 'be', 'honest', 'yama', 'is', 'not', 'that', 'good'], ['at', 'least', '40min', 'passed', 'in', 'between', 'us', 'ordering', 'and', 'the', 'food', 'arriving', 'and', 'it', 'wasn', 't', 'that', 'busy'], ['this', 'is', 'a', 'really', 'fantastic', 'thai', 'restaurant', 'which', 'is', 'definitely', 'worth', 'a', 'visit'], ['nice', 'spicy', 'and', 'tender'], ['good', 'prices'], ['i', 'just', 'don', 't', 'know', 'how', 'this', 'place', 'managed', 'to', 'served', 'the', 'blandest', 'food', 'i', 'have', 'ever', 'eaten', 'when', 'they', 'are', 'preparing', 'indian', 'cuisine'], ['host', 'staff', 'were', 'for', 'lack', 'of', 'a', 'better', 'word', 'bitches'], ['bland', 'not', 'a', 'liking', 'this', 'place', 'for', 'a', 'number', 'of', 'reasons', 'and', 'i', 'don', 't', 'want', 'to', 'waste', 'time', 'on', 'bad', 'reviewing', 'i', 'll', 'leave', 'it', 'at', 'that'], ['this', 'place', 'is', 'way', 'too', 'overpriced', 'for', 'mediocre', 'food'], ['they', 'have', 'a', 'good', 'selection', 'of', 'food', 'including', 'a', 'massive', 'meatloaf', 'sandwich', 'a', 'crispy', 'chicken', 'wrap', 'a', 'delish', 'tuna', 'melt', 'and', 'some', 'tasty', 'burgers'], ['the', 'management', 'is', 'rude'], ['delicious', 'nyc', 'bagels', 'good', 'selections', 'of', 'cream', 'cheese', 'real', 'lox', 'with', 'capers', 'even'], ['great', 'subway', 'in', 'fact', 'it', 's', 'so', 'good', 'when', 'you', 'come', 'here', 'every', 'other', 'subway', 'will', 'not', 'meet', 'your', 'expectations'], ['he', 'was', 'extremely', 'rude', 'and', 'really', 'there', 'are', 'so', 'many', 'other', 'restaurants', 'i', 'would', 'love', 'to', 'dine', 'at', 'during', 'a', 'weekend', 'in', 'vegas'], ['the', 'waiter', 'wasn', 't', 'helpful', 'or', 'friendly', 'and', 'rarely', 'checked', 'on', 'us'], ['and', 'the', 'red', 'curry', 'had', 'so', 'much', 'bamboo', 'shoots', 'and', 'wasn', 't', 'very', 'tasty', 'to', 'me'], ['nice', 'blanket', 'of', 'moz', 'over', 'top', 'but', 'i', 'feel', 'like', 'this', 'was', 'done', 'to', 'cover', 'up', 'the', 'subpar', 'food'], ['the', 'bathrooms', 'are', 'clean', 'and', 'the', 'place', 'itself', 'is', 'well', 'decorated'], ['the', 'menu', 'is', 'always', 'changing', 'food', 'quality', 'is', 'going', 'down', 'service', 'is', 'extremely', 'slow'], ['the', 'service', 'was', 'a', 'little', 'slow', 'considering', 'that', 'were', 'served', 'by', '3', 'people', 'servers', 'so', 'the', 'food', 'was', 'coming', 'in', 'a', 'slow', 'pace'], ['i', 'give', 'it', '2', 'thumbs', 'down'], ['we', 'watched', 'our', 'waiter', 'pay', 'a', 'lot', 'more', 'attention', 'to', 'other', 'tables', 'and', 'ignore', 'us'], ['my', 'fiancé', 'and', 'i', 'came', 'in', 'the', 'middle', 'of', 'the', 'day', 'and', 'we', 'were', 'greeted', 'and', 'seated', 'right', 'away'], ['some', 'highlights', 'great', 'quality', 'nigiri', 'here'], ['the', 'staff', 'is', 'friendly', 'and', 'the', 'joint', 'is', 'always', 'clean'], ['this', 'was', 'a', 'different', 'cut', 'than', 'the', 'piece', 'the', 'other', 'day', 'but', 'still', 'wonderful', 'and', 'tender', 's', 'well', 'as', 'well', 'flavored'], ['this', 'place', 'is', 'good'], ['unfortunately', 'we', 'must', 'have', 'hit', 'the', 'bakery', 'on', 'leftover', 'day', 'because', 'everything', 'we', 'ordered', 'was', 'stale'], ['i', 'was', 'seated', 'immediately'], ['avoid', 'at', 'all', 'cost'], ['restaurant', 'is', 'always', 'full', 'but', 'never', 'a', 'wait'], ['delicious'], ['this', 'place', 'is', 'hands', 'down', 'one', 'of', 'the', 'best', 'places', 'to', 'eat', 'in', 'the', 'phoenix', 'metro', 'area'], ['we', 'also', 'ordered', 'the', 'spinach', 'and', 'avocado', 'salad', 'the', 'ingredients', 'were', 'sad', 'and', 'the', 'dressing', 'literally', 'had', 'zero', 'taste'], ['the', 'waitresses', 'are', 'very', 'friendly'], ['lordy', 'the', 'khao', 'soi', 'is', 'a', 'dish', 'that', 'is', 'not', 'to', 'be', 'missed', 'for', 'curry', 'lovers'], ['the', 'atmosphere', 'is', 'modern', 'and', 'hip', 'while', 'maintaining', 'a', 'touch', 'of', 'coziness'], ['i', 'also', 'decided', 'not', 'to', 'send', 'it', 'back', 'because', 'our', 'waitress', 'looked', 'like', 'she', 'was', 'on', 'the', 'verge', 'of', 'having', 'a', 'heart', 'attack'], ['i', 'dressed', 'up', 'to', 'be', 'treated', 'so', 'rudely'], ['i', 'ordered', 'the', 'lemon', 'raspberry', 'ice', 'cocktail', 'which', 'was', 'also', 'incredible'], ['the', 'food', 'sucked', 'which', 'we', 'expected', 'but', 'it', 'sucked', 'more', 'than', 'we', 'could', 'have', 'imagined'], ['interesting', 'decor'], ['what', 'i', 'really', 'like', 'there', 'is', 'the', 'crepe', 'station'], ['you', 'can', 'watch', 'them', 'preparing', 'the', 'delicious', 'food'], ['i', 'had', 'a', 'salad', 'with', 'the', 'wings', 'and', 'some', 'ice', 'cream', 'for', 'dessert', 'and', 'left', 'feeling', 'quite', 'satisfied'], ['the', 'live', 'music', 'on', 'fridays', 'totally', 'blows'], ['i', 've', 'never', 'been', 'more', 'insulted', 'or', 'felt', 'disrespected'], ['great', 'brunch', 'spot'], ['service', 'is', 'friendly', 'and', 'inviting'], ['very', 'good', 'lunch', 'spot'], ['the', 'worst', 'experience', 'ever'], ['the', 'sides', 'are', 'delish', 'mixed', 'mushrooms', 'yukon', 'gold', 'puree', 'white', 'corn', 'beateous'], ['if', 'that', 'bug', 'never', 'showed', 'up', 'i', 'would', 'have', 'given', 'a', '4', 'for', 'sure', 'but', 'on', 'the', 'other', 'side', 'of', 'the', 'wall', 'where', 'this', 'bug', 'was', 'climbing', 'was', 'the', 'kitchen'], ['my', 'friend', 'loved', 'the', 'salmon', 'tartar'], ['soggy', 'and', 'not', 'good'], ['which', 'are', 'small', 'and', 'not', 'worth', 'the', 'price'], ['hopefully', 'this', 'bodes', 'for', 'them', 'going', 'out', 'of', 'business', 'and', 'someone', 'who', 'can', 'cook', 'can', 'come', 'in'], ['i', 'loved', 'the', 'bacon', 'wrapped', 'dates'], ['this', 'is', 'an', 'unbelievable', 'bargain'], ['as', 'for', 'the', 'mains', 'also', 'uninspired'], ['very', 'very', 'fun', 'chef'], ['great', 'place', 'to', 'have', 'a', 'couple', 'drinks', 'and', 'watch', 'any', 'and', 'all', 'sporting', 'events', 'as', 'the', 'walls', 'are', 'covered', 'with', 'tv', 's'], ['i', 'd', 'say', 'that', 'would', 'be', 'the', 'hardest', 'decision', 'honestly', 'all', 'of', 'm', 's', 'dishes', 'taste', 'how', 'they', 'are', 'supposed', 'to', 'taste', 'amazing'], ['by', 'this', 'time', 'our', 'side', 'of', 'the', 'restaurant', 'was', 'almost', 'empty', 'so', 'there', 'was', 'no', 'excuse'], ['drinks', 'took', 'close', 'to', '30', 'minutes', 'to', 'come', 'out', 'at', 'one', 'point'], ['the', 'lighting', 'is', 'just', 'dark', 'enough', 'to', 'set', 'the', 'mood'], ['based', 'on', 'the', 'sub', 'par', 'service', 'i', 'received', 'and', 'no', 'effort', 'to', 'show', 'their', 'gratitude', 'for', 'my', 'business', 'i', 'won', 't', 'be', 'going', 'back'], ['owner', 's', 'are', 'really', 'great', 'people'], ['the', 'greek', 'dressing', 'was', 'very', 'creamy', 'and', 'flavorful'], ['now', 'the', 'pizza', 'itself', 'was', 'good', 'the', 'peanut', 'sauce', 'was', 'very', 'tasty'], ['we', 'had', '7', 'at', 'our', 'table', 'and', 'the', 'service', 'was', 'pretty', 'fast'], ['i', 'as', 'well', 'would', 've', 'given', 'godfathers', 'zero', 'stars', 'if', 'possible'], ['they', 'know', 'how', 'to', 'make', 'them', 'here'], ['the', 'restaurant', 'atmosphere', 'was', 'exquisite'], ['good', 'service', 'very', 'clean', 'and', 'inexpensive', 'to', 'boot'], ['plus', 'it', 's', 'only', '8', 'bucks'], ['the', 'service', 'was', 'not', 'up', 'to', 'par', 'either'], ['thus', 'far', 'have', 'only', 'visited', 'twice', 'and', 'the', 'food', 'was', 'absolutely', 'delicious', 'each', 'time'], ['just', 'as', 'good', 'as', 'when', 'i', 'had', 'it', 'more', 'than', 'a', 'year', 'ago'], ['for', 'a', 'self', 'proclaimed', 'coffee', 'cafe', 'i', 'was', 'wildly', 'disappointed'], ['the', 'veggitarian', 'platter', 'is', 'out', 'of', 'this', 'world'], ['you', 'cant', 'go', 'wrong', 'with', 'any', 'of', 'the', 'food', 'here'], ['stopped', 'by', 'this', 'place', 'while', 'in', 'madison', 'for', 'the', 'ironman', 'very', 'friendly', 'kind', 'staff'], ['the', 'chefs', 'were', 'friendly', 'and', 'did', 'a', 'good', 'job'], ['i', 've', 'had', 'better', 'not', 'only', 'from', 'dedicated', 'boba', 'tea', 'spots', 'but', 'even', 'from', 'jenni', 'pho'], ['i', 'liked', 'the', 'patio', 'and', 'the', 'service', 'was', 'outstanding'], ['i', 'think', 'not', 'again'], ['i', 'had', 'the', 'mac', 'salad', 'and', 'it', 'was', 'pretty', 'bland', 'so', 'i', 'will', 'not', 'be', 'getting', 'that', 'again'], ['service', 'stinks', 'here'], ['i', 'waited', 'and', 'waited'], ['i', 'would', 'definitely', 'recommend', 'the', 'wings', 'as', 'well', 'as', 'the', 'pizza'], ['things', 'that', 'went', 'wrong', 'they', 'burned', 'the', 'saganaki'], ['we', 'waited', 'an', 'hour', 'for', 'what', 'was', 'a', 'breakfast', 'i', 'could', 'have', 'done', '100', 'times', 'better', 'at', 'home'], ['waited', '2', 'hours', 'never', 'got', 'either', 'of', 'our', 'pizzas', 'as', 'many', 'other', 'around', 'us', 'who', 'came', 'in', 'later', 'did'], ['just', 'don', 't', 'know', 'why', 'they', 'were', 'so', 'slow'], ['the', 'staff', 'is', 'great', 'the', 'food', 'is', 'delish', 'and', 'they', 'have', 'an', 'incredible', 'beer', 'selection'], ['i', 'didn', 't', 'know', 'pulled', 'pork', 'could', 'be', 'soooo', 'delicious'], ['you', 'get', 'incredibly', 'fresh', 'fish', 'prepared', 'with', 'care'], ['the', 'food', 'was', 'excellent', 'and', 'service', 'was', 'very', 'good'], ['good', 'beer', 'drink', 'selection', 'and', 'good', 'food', 'selection'], ['the', 'potato', 'chip', 'order', 'was', 'sad', 'i', 'could', 'probably', 'count', 'how', 'many', 'chips', 'were', 'in', 'that', 'box', 'and', 'it', 'was', 'probably', 'around', '12'], ['food', 'was', 'really', 'boring'], ['good', 'service', 'check'], ['as', 'much', 'as', 'i', 'd', 'like', 'to', 'go', 'back', 'i', 'can', 't', 'get', 'passed', 'the', 'atrocious', 'service', 'and', 'will', 'never', 'return'], ['i', 'did', 'not', 'expect', 'this', 'to', 'be', 'so', 'good'], ['never', 'going', 'back'], ['the', 'bus', 'boy', 'on', 'the', 'other', 'hand', 'was', 'so', 'rude'], ['by', 'this', 'point', 'my', 'friends', 'and', 'i', 'had', 'basically', 'figured', 'out', 'this', 'place', 'was', 'a', 'joke', 'and', 'didn', 't', 'mind', 'making', 'it', 'publicly', 'and', 'loudly', 'known'], ['the', 'only', 'downside', 'is', 'the', 'service'], ['also', 'the', 'fries', 'are', 'without', 'a', 'doubt', 'the', 'worst', 'fries', 'i', 've', 'ever', 'had'], ['a', 'couple', 'of', 'months', 'later', 'i', 'returned', 'and', 'had', 'an', 'amazing', 'meal'], ['favorite', 'place', 'in', 'town', 'for', 'shawarrrrrrma'], ['they', 'could', 'serve', 'it', 'with', 'just', 'the', 'vinaigrette', 'and', 'it', 'may', 'make', 'for', 'a', 'better', 'overall', 'dish', 'but', 'it', 'was', 'still', 'very', 'good'], ['when', 'my', 'mom', 'and', 'i', 'got', 'home', 'she', 'immediately', 'got', 'sick', 'and', 'she', 'only', 'had', 'a', 'few', 'bites', 'of', 'salad'], ['the', 'servers', 'are', 'not', 'pleasant', 'to', 'deal', 'with', 'and', 'they', 'don', 't', 'always', 'honor', 'pizza', 'hut', 'coupons'], ['everything', 'was', 'gross'], ['the', 'spaghetti', 'is', 'nothing', 'special', 'whatsoever'], ['the', 'vegetables', 'are', 'so', 'fresh', 'and', 'the', 'sauce', 'feels', 'like', 'authentic', 'thai'], ['it', 's', 'worth', 'driving', 'up', 'from', 'tucson'], ['the', 'selection', 'was', 'probably', 'the', 'worst', 'i', 've', 'seen', 'in', 'vegas', 'there', 'was', 'none'], ['this', 'place', 'is', 'like', 'chipotle', 'but', 'better'], ['5', 'stars', 'for', 'the', 'brick', 'oven', 'bread', 'app'], ['i', 'have', 'eaten', 'here', 'multiple', 'times', 'and', 'each', 'time', 'the', 'food', 'was', 'delicious'], ['on', 'the', 'good', 'side', 'the', 'staff', 'was', 'genuinely', 'pleasant', 'and', 'enthusiastic', 'a', 'real', 'treat'], ['as', 'always', 'the', 'evening', 'was', 'wonderful', 'and', 'the', 'food', 'delicious'], ['the', 'buffet', 'is', 'small', 'and', 'all', 'the', 'food', 'they', 'offered', 'was', 'bland'], ['pretty', 'cool', 'i', 'would', 'say'], ['my', 'wife', 'had', 'the', 'lobster', 'bisque', 'soup', 'which', 'was', 'lukewarm'], ['the', 'staff', 'are', 'great', 'the', 'ambiance', 'is', 'great'], ['the', 'dining', 'space', 'is', 'tiny', 'but', 'elegantly', 'decorated', 'and', 'comfortable'], ['they', 'will', 'customize', 'your', 'order', 'any', 'way', 'you', 'd', 'like', 'my', 'usual', 'is', 'eggplant', 'with', 'green', 'bean', 'stir', 'fry', 'love', 'it'], ['and', 'the', 'beans', 'and', 'rice', 'were', 'mediocre', 'at', 'best'], ['best', 'tacos', 'in', 'town', 'by', 'far'], ['i', 'took', 'back', 'my', 'money', 'and', 'got', 'outta', 'there'], ['in', 'an', 'interesting', 'part', 'of', 'town', 'this', 'place', 'is', 'amazing'], ['the', 'staff', 'are', 'now', 'not', 'as', 'friendly', 'the', 'wait', 'times', 'for', 'being', 'served', 'are', 'horrible', 'no', 'one', 'even', 'says', 'hi', 'for', 'the', 'first', '10', 'minutes'], ['i', 'won', 't', 'be', 'back'], ['the', 'service', 'was', 'outshining', 'i', 'definitely', 'recommend', 'the', 'halibut'], ['the', 'food', 'was', 'terrible'], ['will', 'never', 'ever', 'go', 'back', 'and', 'have', 'told', 'many', 'people', 'what', 'had', 'happened'], ['i', 'don', 't', 'recommend', 'unless', 'your', 'car', 'breaks', 'down', 'in', 'front', 'of', 'it', 'and', 'you', 'are', 'starving'], ['i', 'will', 'come', 'back', 'here', 'every', 'time', 'i', 'm', 'in', 'vegas'], ['this', 'is', 'a', 'disgrace'], ['if', 'you', 'want', 'healthy', 'authentic', 'or', 'ethic', 'food', 'try', 'this', 'place'], ['i', 'have', 'been', 'here', 'several', 'times', 'in', 'the', 'past', 'and', 'the', 'experience', 'has', 'always', 'been', 'great'], ['service', 'was', 'excellent', 'and', 'prices', 'are', 'pretty', 'reasonable', 'considering', 'this', 'is', 'vegas', 'and', 'located', 'inside', 'the', 'crystals', 'shopping', 'mall', 'by', 'aria'], ['kids', 'pizza', 'is', 'always', 'a', 'hit', 'too', 'with', 'lots', 'of', 'great', 'side', 'dish', 'options', 'for', 'the', 'kiddos'], ['service', 'is', 'perfect', 'and', 'the', 'family', 'atmosphere', 'is', 'nice', 'to', 'see'], ['great', 'place', 'to', 'eat', 'reminds', 'me', 'of', 'the', 'little', 'mom', 'and', 'pop', 'shops', 'in', 'the', 'san', 'francisco', 'bay', 'area'], ['today', 'was', 'my', 'first', 'taste', 'of', 'a', 'buldogis', 'gourmet', 'hot', 'dog', 'and', 'i', 'have', 'to', 'tell', 'you', 'it', 'was', 'more', 'than', 'i', 'ever', 'thought', 'possible'], ['left', 'very', 'frustrated'], ['i', 'll', 'definitely', 'be', 'in', 'soon', 'again'], ['food', 'was', 'really', 'good', 'and', 'i', 'got', 'full', 'petty', 'fast'], ['total', 'waste', 'of', 'time'], ['for', 'service', 'i', 'give', 'them', 'no', 'stars'], ['gave', 'up', 'trying', 'to', 'eat', 'any', 'of', 'the', 'crust', 'teeth', 'still', 'sore'], ['but', 'now', 'i', 'was', 'completely', 'grossed', 'out'], ['first', 'time', 'going', 'but', 'i', 'think', 'i', 'will', 'quickly', 'become', 'a', 'regular'], ['from', 'what', 'my', 'dinner', 'companions', 'told', 'me', 'everything', 'was', 'very', 'fresh', 'with', 'nice', 'texture', 'and', 'taste'], ['on', 'the', 'ground', 'right', 'next', 'to', 'our', 'table', 'was', 'a', 'large', 'smeared', 'been', 'stepped', 'in', 'and', 'tracked', 'everywhere', 'pile', 'of', 'green', 'bird', 'poop'], ['this', 'is', 'some', 'seriously', 'good', 'pizza', 'and', 'i', 'm', 'an', 'expert', 'connisseur', 'on', 'the', 'topic'], ['waiter', 'was', 'a', 'jerk'], ['these', 'are', 'the', 'nicest', 'restaurant', 'owners', 'i', 've', 'ever', 'come', 'across'], ['service', 'is', 'quick', 'and', 'friendly'], ['it', 'was', 'a', 'huge', 'awkward', '1', '5lb', 'piece', 'of', 'cow', 'that', 'was', '3', '4ths', 'gristle', 'and', 'fat'], ['wow', 'very', 'spicy', 'but', 'delicious'], ['i', 'll', 'take', 'my', 'business', 'dinner', 'dollars', 'elsewhere'], ['i', 'd', 'love', 'to', 'go', 'back'], ['anyway', 'this', 'fs', 'restaurant', 'has', 'a', 'wonderful', 'breakfast', 'lunch'], ['each', 'day', 'of', 'the', 'week', 'they', 'have', 'a', 'different', 'deal', 'and', 'it', 's', 'all', 'so', 'delicious'], ['not', 'to', 'mention', 'the', 'combination', 'of', 'pears', 'almonds', 'and', 'bacon', 'is', 'a', 'big', 'winner'], ['sauce', 'was', 'tasteless'], ['the', 'food', 'is', 'delicious', 'and', 'just', 'spicy', 'enough', 'so', 'be', 'sure', 'to', 'ask', 'for', 'spicier', 'if', 'you', 'prefer', 'it', 'that', 'way'], ['food', 'was', 'so', 'gooodd'], ['the', 'last', '3', 'times', 'i', 'had', 'lunch', 'here', 'has', 'been', 'bad'], ['the', 'chicken', 'wings', 'contained', 'the', 'driest', 'chicken', 'meat', 'i', 'have', 'ever', 'eaten'], ['the', 'food', 'was', 'very', 'good', 'and', 'i', 'enjoyed', 'every', 'mouthful', 'an', 'enjoyable', 'relaxed', 'venue', 'for', 'couples', 'small', 'family', 'groups', 'etc'], ['best', 'tater', 'tots', 'in', 'the', 'southwest'], ['im', 'in', 'az', 'all', 'the', 'time', 'and', 'now', 'have', 'my', 'new', 'spot'], ['the', 'manager', 'was', 'the', 'worst'], ['i', 'don', 't', 'think', 'i', 'll', 'be', 'running', 'back', 'to', 'carly', 's', 'anytime', 'soon', 'for', 'food'], ['don', 't', 'waste', 'your', 'time', 'here'], ['total', 'letdown', 'i', 'would', 'much', 'rather', 'just', 'go', 'to', 'the', 'camelback', 'flower', 'shop', 'and', 'cartel', 'coffee'], ['the', 'steaks', 'are', 'all', 'well', 'trimmed', 'and', 'also', 'perfectly', 'cooked'], ['we', 'had', 'a', 'group', 'of', '70', 'when', 'we', 'claimed', 'we', 'would', 'only', 'have', '40', 'and', 'they', 'handled', 'us', 'beautifully'], ['i', 'loved', 'it'], ['we', 'asked', 'for', 'the', 'bill', 'to', 'leave', 'without', 'eating', 'and', 'they', 'didn', 't', 'bring', 'that', 'either'], ['seafood', 'was', 'limited', 'to', 'boiled', 'shrimp', 'and', 'crab', 'legs', 'but', 'the', 'crab', 'legs', 'definitely', 'did', 'not', 'taste', 'fresh'], ['delicious', 'and', 'i', 'will', 'absolutely', 'be', 'back'], ['this', 'isn', 't', 'a', 'small', 'family', 'restaurant', 'this', 'is', 'a', 'fine', 'dining', 'establishment'], ['i', 'dont', 'think', 'i', 'will', 'be', 'back', 'for', 'a', 'very', 'long', 'time'], ['i', 'will', 'be', 'back', 'many', 'times', 'soon'], ['and', 'then', 'tragedy', 'struck'], ['waitress', 'was', 'sweet', 'and', 'funny'], ['i', 'also', 'had', 'to', 'taste', 'my', 'mom', 's', 'multi', 'grain', 'pumpkin', 'pancakes', 'with', 'pecan', 'butter', 'and', 'they', 'were', 'amazing', 'fluffy', 'and', 'delicious'], ['cant', 'say', 'enough', 'good', 'things', 'about', 'this', 'place'], ['the', 'waitress', 'and', 'manager', 'are', 'so', 'friendly'], ['i', 'would', 'not', 'recommend', 'this', 'place'], ['overall', 'i', 'wasn', 't', 'very', 'impressed', 'with', 'noca'], ['everything', 'was', 'perfect', 'the', 'night', 'we', 'were', 'in'], ['the', 'food', 'is', 'very', 'good', 'for', 'your', 'typical', 'bar', 'food'], ['at', 'first', 'glance', 'it', 'is', 'a', 'lovely', 'bakery', 'cafe', 'nice', 'ambiance', 'clean', 'friendly', 'staff'], ['anyway', 'i', 'do', 'not', 'think', 'i', 'will', 'go', 'back', 'there'], ['oh', 'this', 'is', 'such', 'a', 'thing', 'of', 'beauty', 'this', 'restaurant'], ['if', 'you', 'haven', 't', 'gone', 'here', 'go', 'now'], ['a', 'greasy', 'unhealthy', 'meal'], ['those', 'burgers', 'were', 'amazing'], ['be', 'sure', 'to', 'order', 'dessert', 'even', 'if', 'you', 'need', 'to', 'pack', 'it', 'to', 'go', 'the', 'tiramisu', 'and', 'cannoli', 'are', 'both', 'to', 'die', 'for'], ['this', 'was', 'my', 'first', 'time', 'and', 'i', 'can', 't', 'wait', 'until', 'the', 'next'], ['this', 'place', 'is', 'two', 'thumbs', 'up', 'way', 'up'], ['terrible', 'management'], ['great', 'steak', 'great', 'sides', 'great', 'wine', 'amazing', 'desserts'], ['the', 'steak', 'and', 'the', 'shrimp', 'are', 'in', 'my', 'opinion', 'the', 'best', 'entrees', 'at', 'gc'], ['we', 'waited', 'for', 'thirty', 'minutes', 'to', 'be', 'seated', 'although', 'there', 'were', '8', 'vacant', 'tables', 'and', 'we', 'were', 'the', 'only', 'folks', 'waiting'], ['i', 'won', 't', 'try', 'going', 'back', 'there', 'even', 'if', 'it', 's', 'empty'], ['just', 'spicy', 'enough', 'perfect', 'actually'], ['last', 'night', 'was', 'my', 'second', 'time', 'dining', 'here', 'and', 'i', 'was', 'so', 'happy', 'i', 'decided', 'to', 'go', 'back'], ['the', 'desserts', 'were', 'a', 'bit', 'strange'], ['my', 'boyfriend', 'and', 'i', 'came', 'here', 'for', 'the', 'first', 'time', 'on', 'a', 'recent', 'trip', 'to', 'vegas', 'and', 'could', 'not', 'have', 'been', 'more', 'pleased', 'with', 'the', 'quality', 'of', 'food', 'and', 'service'], ['nice', 'ambiance'], ['i', 'would', 'recommend', 'saving', 'room', 'for', 'this'], ['a', 'good', 'time'], ['generous', 'portions', 'and', 'great', 'taste'], ['food', 'was', 'delicious'], ['i', 'consider', 'this', 'theft'], ['we', 'recently', 'witnessed', 'her', 'poor', 'quality', 'of', 'management', 'towards', 'other', 'guests', 'as', 'well'], ['waited', 'and', 'waited', 'and', 'waited'], ['i', 'swung', 'in', 'to', 'give', 'them', 'a', 'try', 'but', 'was', 'deeply', 'disappointed'], ['service', 'was', 'good', 'and', 'the', 'company', 'was', 'better'], ['the', 'staff', 'are', 'also', 'very', 'friendly', 'and', 'efficient'], ['if', 'you', 'look', 'for', 'authentic', 'thai', 'food', 'go', 'else', 'where'], ['their', 'steaks', 'are', '100', 'recommended'], ['i', 'hate', 'those', 'things', 'as', 'much', 'as', 'cheap', 'quality', 'black', 'olives'], ['the', 'kids', 'play', 'area', 'is', 'nasty'], ['great', 'place', 'fo', 'take', 'out', 'or', 'eat', 'in'], ['the', 'waitress', 'was', 'friendly', 'and', 'happy', 'to', 'accomodate', 'for', 'vegan', 'veggie', 'options'], ['it', 'was', 'a', 'pale', 'color', 'instead', 'of', 'nice', 'and', 'char', 'and', 'has', 'no', 'flavor'], ['the', 'croutons', 'also', 'taste', 'homemade', 'which', 'is', 'an', 'extra', 'plus'], ['i', 'got', 'home', 'to', 'see', 'the', 'driest', 'damn', 'wings', 'ever'], ['i', 'really', 'enjoyed', 'crema', 'café', 'before', 'they', 'expanded', 'i', 'even', 'told', 'friends', 'they', 'had', 'the', 'best', 'breakfast'], ['not', 'good', 'for', 'the', 'money'], ['i', 'miss', 'it', 'and', 'wish', 'they', 'had', 'one', 'in', 'philadelphia'], ['they', 'also', 'have', 'the', 'best', 'cheese', 'crisp', 'in', 'town'], ['good', 'value', 'great', 'food', 'great', 'service'], ['the', 'food', 'is', 'good'], ['it', 'was', 'awesome'], ['we', 'made', 'the', 'drive', 'all', 'the', 'way', 'from', 'north', 'scottsdale', 'and', 'i', 'was', 'not', 'one', 'bit', 'disappointed'], ['the', 'owners', 'really', 'really', 'need', 'to', 'quit', 'being', 'soooooo', 'cheap', 'let', 'them', 'wrap', 'my', 'freaking', 'sandwich', 'in', 'two', 'papers', 'not', 'one'], ['i', 'checked', 'out', 'this', 'place', 'a', 'couple', 'years', 'ago', 'and', 'was', 'not', 'impressed'], ['the', 'chicken', 'i', 'got', 'was', 'definitely', 'reheated', 'and', 'was', 'only', 'ok', 'the', 'wedges', 'were', 'cold', 'and', 'soggy'], ['an', 'absolute', 'must', 'visit'], ['despite', 'how', 'hard', 'i', 'rate', 'businesses', 'its', 'actually', 'rare', 'for', 'me', 'to', 'give', 'a', '1', 'star'], ['i', 'will', 'not', 'return'], ['i', 'had', 'the', 'chicken', 'pho', 'and', 'it', 'tasted', 'very', 'bland'], ['the', 'grilled', 'chicken', 'was', 'so', 'tender', 'and', 'yellow', 'from', 'the', 'saffron', 'seasoning'], ['pretty', 'awesome', 'place'], ['the', 'staff', 'is', 'always', 'super', 'friendly', 'and', 'helpful', 'which', 'is', 'especially', 'cool', 'when', 'you', 'bring', 'two', 'small', 'boys', 'and', 'a', 'baby'], ['four', 'stars', 'for', 'the', 'food', 'the', 'guy', 'in', 'the', 'blue', 'shirt', 'for', 'his', 'great', 'vibe', 'still', 'letting', 'us', 'in', 'to', 'eat'], ['the', 'roast', 'beef', 'sandwich', 'tasted', 'really', 'good'], ['ordered', 'burger', 'rare', 'came', 'in', 'we', 'll', 'done'], ['i', 'was', 'proven', 'dead', 'wrong', 'by', 'this', 'sushi', 'bar', 'not', 'only', 'because', 'the', 'quality', 'is', 'great', 'but', 'the', 'service', 'is', 'fast', 'and', 'the', 'food', 'impeccable'], ['this', 'is', 'a', 'good', 'joint'], ['i', 'm', 'not', 'eating', 'here'], ['this', 'place', 'has', 'a', 'lot', 'of', 'promise', 'but', 'fails', 'to', 'deliver'], ['very', 'bad', 'experience'], ['what', 'a', 'mistake'], ['food', 'was', 'average', 'at', 'best'], ['we', 'won', 't', 'be', 'going', 'back', 'anytime', 'soon'], ['very', 'very', 'disappointed', 'ordered', 'the', '35', 'big', 'bay', 'plater'], ['great', 'place', 'to', 'relax', 'and', 'have', 'an', 'awesome', 'burger', 'and', 'beer'], ['it', 'is', 'perfect', 'for', 'a', 'sit', 'down', 'family', 'meal', 'or', 'get', 'together', 'with', 'a', 'few', 'friends'], ['not', 'much', 'flavor', 'to', 'them', 'and', 'very', 'poorly', 'constructed'], ['the', 'patio', 'seating', 'was', 'very', 'comfortable'], ['the', 'fried', 'rice', 'was', 'dry', 'as', 'well'], ['i', 'personally', 'love', 'the', 'hummus', 'pita', 'baklava', 'falafels', 'and', 'baba', 'ganoush', 'it', 's', 'amazing', 'what', 'they', 'do', 'with', 'eggplant'], ['the', 'owners', 'are', 'super', 'friendly', 'and', 'the', 'staff', 'is', 'courteous'], ['both', 'great'], ['eclectic', 'selection'], ['the', 'staff', 'was', 'very', 'attentive'], ['and', 'the', 'chef', 'was', 'generous', 'with', 'his', 'time', 'even', 'came', 'around', 'twice', 'so', 'we', 'can', 'take', 'pictures', 'with', 'him'], ['the', 'owner', 'used', 'to', 'work', 'at', 'nobu', 'so', 'this', 'place', 'is', 'really', 'similar', 'for', 'half', 'the', 'price'], ['i', 'can', 't', 'wait', 'to', 'go', 'back'], ['the', 'plantains', 'were', 'the', 'worst', 'i', 've', 'ever', 'tasted'], ['it', 's', 'a', 'great', 'place', 'and', 'i', 'highly', 'recommend', 'it'], ['your', 'staff', 'spends', 'more', 'time', 'talking', 'to', 'themselves', 'than', 'me'], ['damn', 'good', 'steak'], ['total', 'brunch', 'fail'], ['the', 'decor', 'is', 'nice', 'and', 'the', 'piano', 'music', 'soundtrack', 'is', 'pleasant'], ['i', 'probably', 'won', 't', 'be', 'back', 'to', 'be', 'honest'], ['the', 'sergeant', 'pepper', 'beef', 'sandwich', 'with', 'auju', 'sauce', 'is', 'an', 'excellent', 'sandwich', 'as', 'well'], ['went', 'for', 'lunch', 'service', 'was', 'slow'], ['we', 'had', 'so', 'much', 'to', 'say', 'about', 'the', 'place', 'before', 'we', 'walked', 'in', 'that', 'he', 'expected', 'it', 'to', 'be', 'amazing', 'but', 'was', 'quickly', 'disappointed'], ['i', 'was', 'mortified'], ['i', 'wasn', 't', 'really', 'impressed', 'with', 'strip', 'steak'], ['have', 'been', 'going', 'since', '2007', 'and', 'every', 'meal', 'has', 'been', 'awesome'], ['the', 'cashier', 'was', 'friendly', 'and', 'even', 'brought', 'the', 'food', 'out', 'to', 'me'], ['would', 'not', 'recommend', 'to', 'others'], ['i', 'mean', 'really', 'how', 'do', 'you', 'get', 'so', 'famous', 'for', 'your', 'fish', 'and', 'chips', 'when', 'it', 's', 'so', 'terrible'], ['2', 'thumbs', 'up'], ['they', 'have', 'a', 'really', 'nice', 'atmosphere'], ['tonight', 'i', 'had', 'the', 'elk', 'filet', 'special', 'and', 'it', 'sucked'], ['we', 'ordered', 'some', 'old', 'classics', 'and', 'some', 'new', 'dishes', 'after', 'going', 'there', 'a', 'few', 'times', 'and', 'were', 'sorely', 'disappointed', 'with', 'everything'], ['cute', 'quaint', 'simple', 'honest'], ['the', 'chicken', 'was', 'deliciously', 'seasoned', 'and', 'had', 'the', 'perfect', 'fry', 'on', 'the', 'outside', 'and', 'moist', 'chicken', 'on', 'the', 'inside'], ['special', 'thanks', 'to', 'dylan', 't', 'for', 'the', 'recommendation', 'on', 'what', 'to', 'order', 'all', 'yummy', 'for', 'my', 'tummy'], ['great', 'food', 'and', 'awesome', 'service'], ['a', 'fly', 'was', 'in', 'my', 'apple', 'juice', 'a', 'fly'], ['the', 'food', 'was', 'barely', 'lukewarm', 'so', 'it', 'must', 'have', 'been', 'sitting', 'waiting', 'for', 'the', 'server', 'to', 'bring', 'it', 'out', 'to', 'us'], ['overall', 'i', 'like', 'there', 'food', 'and', 'the', 'service'], ['they', 'also', 'now', 'serve', 'indian', 'naan', 'bread', 'with', 'hummus', 'and', 'some', 'spicy', 'pine', 'nut', 'sauce', 'that', 'was', 'out', 'of', 'this', 'world'], ['probably', 'never', 'coming', 'back', 'and', 'wouldn', 't', 'recommend', 'it'], ['try', 'them', 'in', 'the', 'airport', 'to', 'experience', 'some', 'tasty', 'food', 'and', 'speedy', 'friendly', 'service'], ['never', 'had', 'anything', 'to', 'complain', 'about', 'here'], ['the', 'restaurant', 'is', 'very', 'clean', 'and', 'has', 'a', 'family', 'restaurant', 'feel', 'to', 'it'], ['it', 'was', 'way', 'over', 'fried'], ['will', 'not', 'be', 'back'], ['an', 'extensive', 'menu', 'provides', 'lots', 'of', 'options', 'for', 'breakfast'], ['i', 'have', 'watched', 'their', 'prices', 'inflate', 'portions', 'get', 'smaller', 'and', 'management', 'attitudes', 'grow', 'rapidly'], ['wonderful', 'lil', 'tapas', 'and', 'the', 'ambience', 'made', 'me', 'feel', 'all', 'warm', 'and', 'fuzzy', 'inside'], ['level', '5', 'spicy', 'was', 'perfect', 'where', 'spice', 'didn', 't', 'over', 'whelm', 'the', 'soup'], ['when', 'i', 'm', 'on', 'this', 'side', 'of', 'town', 'this', 'will', 'definitely', 'be', 'a', 'spot', 'i', 'll', 'hit', 'up', 'again'], ['the', 'chicken', 'dishes', 'are', 'ok', 'the', 'beef', 'is', 'like', 'shoe', 'leather'], ['the', 'block', 'was', 'amazing'], ['both', 'the', 'hot', 'sour', 'the', 'egg', 'flower', 'soups', 'were', 'absolutely', '5', 'stars'], ['great', 'time', 'family', 'dinner', 'on', 'a', 'sunday', 'night'], ['what', 'did', 'bother', 'me', 'was', 'the', 'slow', 'service'], ['their', 'frozen', 'margaritas', 'are', 'way', 'too', 'sugary', 'for', 'my', 'taste'], ['unfortunately', 'it', 'was', 'not', 'good'], ['i', 'had', 'a', 'pretty', 'satifying', 'experience'], ['bland', 'and', 'flavorless', 'is', 'a', 'good', 'way', 'of', 'describing', 'the', 'barely', 'tepid', 'meat'], ['the', 'chains', 'which', 'i', 'm', 'no', 'fan', 'of', 'beat', 'this', 'place', 'easily'], ['once', 'your', 'food', 'arrives', 'it', 's', 'meh'], ['paying', '7', '85', 'for', 'a', 'hot', 'dog', 'and', 'fries', 'that', 'looks', 'like', 'it', 'came', 'out', 'of', 'a', 'kid', 's', 'meal', 'at', 'the', 'wienerschnitzel', 'is', 'not', 'my', 'idea', 'of', 'a', 'good', 'meal'], ['my', 'brother', 'in', 'law', 'who', 'works', 'at', 'the', 'mall', 'ate', 'here', 'same', 'day', 'and', 'guess', 'what', 'he', 'was', 'sick', 'all', 'night', 'too'], ['so', 'good', 'i', 'am', 'going', 'to', 'have', 'to', 'review', 'this', 'place', 'twice', 'once', 'hereas', 'a', 'tribute', 'to', 'the', 'place', 'and', 'once', 'as', 'a', 'tribute', 'to', 'an', 'event', 'held', 'here', 'last', 'night'], ['the', 'chips', 'and', 'salsa', 'were', 'really', 'good', 'the', 'salsa', 'was', 'very', 'fresh'], ['mediocre', 'food'], ['once', 'you', 'get', 'inside', 'you', 'll', 'be', 'impressed', 'with', 'the', 'place'], ['and', 'service', 'was', 'super', 'friendly'], ['why', 'are', 'these', 'sad', 'little', 'vegetables', 'so', 'overcooked'], ['this', 'place', 'was', 'such', 'a', 'nice', 'surprise'], ['they', 'were', 'golden', 'crispy', 'and', 'delicious'], ['i', 'had', 'high', 'hopes', 'for', 'this', 'place', 'since', 'the', 'burgers', 'are', 'cooked', 'over', 'a', 'charcoal', 'grill', 'but', 'unfortunately', 'the', 'taste', 'fell', 'flat', 'way', 'flat'], ['i', 'could', 'eat', 'their', 'bruschetta', 'all', 'day', 'it', 'is', 'devine'], ['not', 'a', 'single', 'employee', 'came', 'out', 'to', 'see', 'if', 'we', 'were', 'ok', 'or', 'even', 'needed', 'a', 'water', 'refill', 'once', 'they', 'finally', 'served', 'us', 'our', 'food'], ['the', 'first', 'time', 'i', 'ever', 'came', 'here', 'i', 'had', 'an', 'amazing', 'experience', 'i', 'still', 'tell', 'people', 'how', 'awesome', 'the', 'duck', 'was'], ['the', 'server', 'was', 'very', 'negligent', 'of', 'our', 'needs', 'and', 'made', 'us', 'feel', 'very', 'unwelcome', 'i', 'would', 'not', 'suggest', 'this', 'place'], ['this', 'place', 'is', 'overpriced', 'not', 'consistent', 'with', 'their', 'boba', 'and', 'it', 'really', 'is', 'overpriced'], ['it', 'was', 'packed'], ['the', 'seasonal', 'fruit', 'was', 'fresh', 'white', 'peach', 'puree'], ['it', 'kept', 'getting', 'worse', 'and', 'worse', 'so', 'now', 'i', 'm', 'officially', 'done'], ['this', 'place', 'should', 'honestly', 'be', 'blown', 'up'], ['but', 'i', 'definitely', 'would', 'not', 'eat', 'here', 'again'], ['the', 'crêpe', 'was', 'delicate', 'and', 'thin', 'and', 'moist'], ['awful', 'service'], ['the', 'service', 'here', 'is', 'fair', 'at', 'best'], ['no', 'one', 'at', 'the', 'table', 'thought', 'the', 'food', 'was', 'above', 'average', 'or', 'worth', 'the', 'wait', 'that', 'we', 'had', 'for', 'it'], ['best', 'service', 'and', 'food', 'ever', 'maria', 'our', 'server', 'was', 'so', 'good', 'and', 'friendly', 'she', 'made', 'our', 'day'], ['they', 'were', 'excellent'], ['i', 'paid', 'the', 'bill', 'but', 'did', 'not', 'tip', 'because', 'i', 'felt', 'the', 'server', 'did', 'a', 'terrible', 'job'], ['just', 'had', 'lunch', 'here', 'and', 'had', 'a', 'great', 'experience'], ['the', 'food', 'came', 'out', 'at', 'a', 'good', 'pace'], ['i', 'ate', 'there', 'twice', 'on', 'my', 'last', 'visit', 'and', 'especially', 'enjoyed', 'the', 'salmon', 'salad'], ['we', 'could', 'not', 'believe', 'how', 'dirty', 'the', 'oysters', 'were'], ['i', 'would', 'not', 'recommend', 'this', 'place'], ['to', 'my', 'disbelief', 'each', 'dish', 'qualified', 'as', 'the', 'worst', 'version', 'of', 'these', 'foods', 'i', 'have', 'ever', 'tasted'], ['bad', 'day', 'or', 'not', 'i', 'have', 'a', 'very', 'low', 'tolerance', 'for', 'rude', 'customer', 'service', 'people', 'it', 'is', 'your', 'job', 'to', 'be', 'nice', 'and', 'polite', 'wash', 'dishes', 'otherwise'], ['the', 'potatoes', 'were', 'great', 'and', 'so', 'was', 'the', 'biscuit'], ['so', 'flavorful', 'and', 'has', 'just', 'the', 'perfect', 'amount', 'of', 'heat'], ['went', 'in', 'for', 'happy', 'hour', 'great', 'list', 'of', 'wines'], ['some', 'may', 'say', 'this', 'buffet', 'is', 'pricey', 'but', 'i', 'think', 'you', 'get', 'what', 'you', 'pay', 'for', 'and', 'this', 'place', 'you', 'are', 'getting', 'quite', 'a', 'lot'], ['this', 'place', 'is', 'pretty', 'good', 'nice', 'little', 'vibe', 'in', 'the', 'restaurant'], ['talk', 'about', 'great', 'customer', 'service', 'of', 'course', 'we', 'will', 'be', 'back'], ['i', 'love', 'their', 'fries', 'and', 'their', 'beans'], ['they', 'have', 'a', 'plethora', 'of', 'salads', 'and', 'sandwiches', 'and', 'everything', 'i', 've', 'tried', 'gets', 'my', 'seal', 'of', 'approval'], ['for', 'sushi', 'on', 'the', 'strip', 'this', 'is', 'the', 'place', 'to', 'go'], ['the', 'feel', 'of', 'the', 'dining', 'room', 'was', 'more', 'college', 'cooking', 'course', 'than', 'high', 'class', 'dining', 'and', 'the', 'service', 'was', 'slow', 'at', 'best'], ['i', 'started', 'this', 'review', 'with', 'two', 'stars', 'but', 'i', 'm', 'editing', 'it', 'to', 'give', 'it', 'only', 'one'], ['weird', 'vibe', 'from', 'owners'], ['there', 'was', 'hardly', 'any', 'meat'], ['i', 've', 'had', 'better', 'bagels', 'from', 'the', 'grocery', 'store'], ['i', 'love', 'the', 'owner', 'chef', 'his', 'one', 'authentic', 'japanese', 'cool', 'dude'], ['now', 'the', 'burgers', 'aren', 't', 'as', 'good', 'the', 'pizza', 'which', 'used', 'to', 'be', 'amazing', 'is', 'doughy', 'and', 'flavorless'], ['the', 'service', 'was', 'terrible', 'food', 'was', 'mediocre'], ['i', 'ordered', 'albondigas', 'soup', 'which', 'was', 'just', 'warm', 'and', 'tasted', 'like', 'tomato', 'soup', 'with', 'frozen', 'meatballs'], ['on', 'three', 'different', 'occasions', 'i', 'asked', 'for', 'well', 'done', 'or', 'medium', 'well', 'and', 'all', 'three', 'times', 'i', 'got', 'the', 'bloodiest', 'piece', 'of', 'meat', 'on', 'my', 'plate'], ['the', 'service', 'was', 'extremely', 'slow'], ['after', '20', 'minutes', 'wait', 'i', 'got', 'a', 'table'], ['no', 'allergy', 'warnings', 'on', 'the', 'menu', 'and', 'the', 'waitress', 'had', 'absolutely', 'no', 'clue', 'as', 'to', 'which', 'meals', 'did', 'or', 'did', 'not', 'contain', 'peanuts'], ['my', 'boyfriend', 'tried', 'the', 'mediterranean', 'chicken', 'salad', 'and', 'fell', 'in', 'love'], ['i', 'want', 'to', 'first', 'say', 'our', 'server', 'was', 'great', 'and', 'we', 'had', 'perfect', 'service'], ['the', 'pizza', 'selections', 'are', 'good'], ['i', 'had', 'strawberry', 'tea', 'which', 'was', 'good'], ['spend', 'your', 'money', 'elsewhere'], ['their', 'regular', 'toasted', 'bread', 'was', 'equally', 'satisfying', 'with', 'the', 'occasional', 'pats', 'of', 'butter', 'mmmm'], ['the', 'buffet', 'at', 'bellagio', 'was', 'far', 'from', 'what', 'i', 'anticipated'], ['and', 'the', 'drinks', 'are', 'weak', 'people'], ['my', 'order', 'was', 'not', 'correct'], ['very', 'very', 'sad'], ['i', 'm', 'not', 'impressed', 'with', 'the', 'concept', 'or', 'the', 'food'], ['i', 'got', 'food', 'poisoning', 'here', 'at', 'the', 'buffet'], ['they', 'brought', 'a', 'fresh', 'batch', 'of', 'fries', 'and', 'i', 'was', 'thinking', 'yay', 'something', 'warm', 'but', 'no'], ['what', 'should', 'have', 'been', 'a', 'hilarious', 'yummy', 'christmas', 'eve', 'dinner', 'to', 'remember', 'was', 'the', 'biggest', 'fail', 'of', 'the', 'entire', 'trip', 'for', 'us'], ['needless', 'to', 'say', 'i', 'won', 't', 'be', 'going', 'back', 'anytime', 'soon'], ['the', 'ri', 'style', 'calamari', 'was', 'a', 'joke'], ['it', 'was', 'so', 'bad', 'i', 'had', 'lost', 'the', 'heart', 'to', 'finish', 'it'], ['we', 'aren', 't', 'ones', 'to', 'make', 'a', 'scene', 'at', 'restaurants', 'but', 'i', 'just', 'don', 't', 'get', 'it', 'definitely', 'lost', 'the', 'love', 'after', 'this', 'one'], ['the', 'food', 'is', 'about', 'on', 'par', 'with', 'denny', 's', 'which', 'is', 'to', 'say', 'not', 'good', 'at', 'all'], ['waaaaaayyyyyyyyyy', 'over', 'rated', 'is', 'all', 'i', 'am', 'saying'], ['this', 'place', 'lacked', 'style'], ['the', 'sangria', 'was', 'about', 'half', 'of', 'a', 'glass', 'wine', 'full', 'and', 'was', '12', 'ridiculous'], ['don', 't', 'bother', 'coming', 'here'], ['the', 'building', 'itself', 'seems', 'pretty', 'neat', 'the', 'bathroom', 'is', 'pretty', 'trippy', 'but', 'i', 'wouldn', 't', 'eat', 'here', 'again'], ['probably', 'not', 'in', 'a', 'hurry', 'to', 'go', 'back'], ['not', 'good', 'by', 'any', 'stretch', 'of', 'the', 'imagination'], ['the', 'cashew', 'cream', 'sauce', 'was', 'bland', 'and', 'the', 'vegetables', 'were', 'undercooked'], ['it', 'was', 'a', 'bit', 'too', 'sweet', 'not', 'really', 'spicy', 'enough', 'and', 'lacked', 'flavor'], ['this', 'place', 'is', 'horrible', 'and', 'way', 'overpriced'], ['it', 'wasn', 't', 'busy', 'at', 'all', 'and', 'now', 'we', 'know', 'why'], ['the', 'ambiance', 'here', 'did', 'not', 'feel', 'like', 'a', 'buffet', 'setting', 'but', 'more', 'of', 'a', 'douchey', 'indoor', 'garden', 'for', 'tea', 'and', 'biscuits'], ['con', 'spotty', 'service'], ['the', 'fries', 'were', 'not', 'hot', 'and', 'neither', 'was', 'my', 'burger'], ['the', 'real', 'disappointment', 'was', 'our', 'waiter'], ['my', 'husband', 'said', 'she', 'was', 'very', 'rude', 'did', 'not', 'even', 'apologize', 'for', 'the', 'bad', 'food', 'or', 'anything'], ['she', 'was', 'quite', 'disappointed', 'although', 'some', 'blame', 'needs', 'to', 'be', 'placed', 'at', 'her', 'door'], ['del', 'taco', 'is', 'pretty', 'nasty', 'and', 'should', 'be', 'avoided', 'if', 'possible'], ['we', 've', 'have', 'gotten', 'a', 'much', 'better', 'service', 'from', 'the', 'pizza', 'place', 'next', 'door', 'than', 'the', 'services', 'we', 'received', 'from', 'this', 'restaurant'], ['the', 'ambiance', 'isn', 't', 'much', 'better'], ['unfortunately', 'it', 'only', 'set', 'us', 'up', 'for', 'disapppointment', 'with', 'our', 'entrees'], ['the', 'food', 'wasn', 't', 'good'], ['too', 'bad', 'cause', 'i', 'know', 'it', 's', 'family', 'owned', 'i', 'really', 'wanted', 'to', 'like', 'this', 'place'], ['i', 'kept', 'looking', 'at', 'the', 'time', 'and', 'it', 'had', 'soon', 'become', '35', 'minutes', 'yet', 'still', 'no', 'food'], ['we', 'started', 'with', 'the', 'tuna', 'sashimi', 'which', 'was', 'brownish', 'in', 'color', 'and', 'obviously', 'wasn', 't', 'fresh'], ['food', 'was', 'below', 'average'], ['it', 'sure', 'does', 'beat', 'the', 'nachos', 'at', 'the', 'movies', 'but', 'i', 'would', 'expect', 'a', 'little', 'bit', 'more', 'coming', 'from', 'a', 'restaurant'], ['the', 'problem', 'i', 'have', 'is', 'that', 'they', 'charge', '11', '99', 'for', 'a', 'sandwich', 'that', 'is', 'no', 'bigger', 'than', 'a', 'subway', 'sub', 'which', 'offers', 'better', 'and', 'more', 'amount', 'of', 'vegetables'], ['it', 'lacked', 'flavor', 'seemed', 'undercooked', 'and', 'dry'], ['the', 'refried', 'beans', 'that', 'came', 'with', 'my', 'meal', 'were', 'dried', 'out', 'and', 'crusty', 'and', 'the', 'food', 'was', 'bland'], ['a', 'lady', 'at', 'the', 'table', 'next', 'to', 'us', 'found', 'a', 'live', 'green', 'caterpillar', 'in', 'her', 'salad']]\n"
          ],
          "name": "stdout"
        },
        {
          "output_type": "execute_result",
          "data": {
            "text/plain": [
              "<matplotlib.axes._subplots.AxesSubplot at 0x7f7f72de3e10>"
            ]
          },
          "metadata": {
            "tags": []
          },
          "execution_count": 6
        },
        {
          "output_type": "display_data",
          "data": {
            "image/png": "[encoded data removed]",
            "text/plain": [
              "<Figure size 432x288 with 1 Axes>"
            ]
          },
          "metadata": {
            "tags": [],
            "needs_background": "light"
          }
        }
      ]
    },
    {
      "cell_type": "markdown",
      "metadata": {
        "id": "XKcwnJeaFobf"
      },
      "source": [
        "## Getting Data and Setting it Up"
      ]
    },
    {
      "cell_type": "code",
      "metadata": {
        "id": "lf1CNuIbFobf"
      },
      "source": [
        "from keras.preprocessing.text import one_hot\n",
        "from keras.preprocessing.sequence import pad_sequences\n",
        "from keras.models import Sequential\n",
        "from keras.layers.core import Activation, Dropout, Dense\n",
        "from keras.layers import Flatten\n",
        "from keras.layers import GlobalMaxPooling1D\n",
        "from keras.layers.embeddings import Embedding\n",
        "from sklearn.model_selection import train_test_split\n",
        "from keras.preprocessing.text import Tokenizer\n",
        "def getVocab(sentences):\n",
        "    vocab = set()\n",
        "    for sentence in sentences:\n",
        "        for word in sentence:\n",
        "            vocab.add(word)\n",
        "    return sorted(vocab)"
      ],
      "execution_count": 7,
      "outputs": []
    },
    {
      "cell_type": "code",
      "metadata": {
        "id": "eCzDbXPaFobg"
      },
      "source": [
        "vocabulary = getVocab(train_words)"
      ],
      "execution_count": 9,
      "outputs": []
    },
    {
      "cell_type": "code",
      "metadata": {
        "id": "Hu59MgyyFobg",
        "colab": {
          "base_uri": "https://localhost:8080/",
          "height": 86,
          "referenced_widgets": [
            "cbdd6e4d0b3746638ae6dab5a1a7e534",
            "af0d26375a684d398c2dd524ed4506b4",
            "2597a278bed34e18b0ec67729284336f"
          ]
        },
        "outputId": "b596a48d-4108-4345-92af-f94da968247e"
      },
      "source": [
        "def clicked(arg):\n",
        "    print(vocabulary)\n",
        "\n",
        "button_download = widgets.Button(description = 'Click to see Vocab')   \n",
        "button_download.on_click(clicked)\n",
        "display(button_download)"
      ],
      "execution_count": 10,
      "outputs": [
        {
          "output_type": "display_data",
          "data": {
            "application/vnd.jupyter.widget-view+json": {
              "model_id": "cbdd6e4d0b3746638ae6dab5a1a7e534",
              "version_minor": 0,
              "version_major": 2
            },
            "text/plain": [
              "Button(description='Click to see Vocab', style=ButtonStyle())"
            ]
          },
          "metadata": {
            "tags": []
          }
        },
        {
          "output_type": "stream",
          "text": [
            "['1', '10', '100', '11', '12', '2', '20', '2007', '3', '30', '35', '4', '40', '40min', '4ths', '5', '5lb', '7', '70', '8', '85', '99', 'a', 'about', 'above', 'absolute', 'absolutely', 'accomodate', 'across', 'actually', 'added', 'after', 'afternoon', 'again', 'ago', 'ahead', 'airport', 'albondigas', 'all', 'allergy', 'almonds', 'almost', 'alone', 'also', 'although', 'always', 'am', 'amazing', 'ambiance', 'ambience', 'amount', 'an', 'and', 'angry', 'another', 'anticipated', 'any', 'anything', 'anytime', 'anyway', 'apologize', 'app', 'appalling', 'appetizers', 'apple', 'approval', 'are', 'area', 'aren', 'aria', 'around', 'arrives', 'arriving', 'as', 'ask', 'asked', 'at', 'ate', 'atmosphere', 'atrocious', 'attack', 'attention', 'attentive', 'attitudes', 'auju', 'authentic', 'average', 'avocado', 'avoid', 'avoided', 'away', 'awesome', 'awful', 'awkward', 'az', 'baba', 'baby', 'back', 'bacon', 'bad', 'bagels', 'bakery', 'baklava', 'bamboo', 'bank', 'bar', 'barely', 'bargain', 'bartender', 'based', 'basically', 'batch', 'bathroom', 'bathrooms', 'bay', 'be', 'bean', 'beans', 'beat', 'beateous', 'beautifully', 'beauty', 'because', 'become', 'beef', 'been', 'beer', 'before', 'being', 'believe', 'bellagio', 'below', 'best', 'better', 'between', 'big', 'bigger', 'biggest', 'bill', 'bird', 'biscuit', 'biscuits', 'bisque', 'bit', 'bitches', 'bites', 'black', 'blah', 'blame', 'bland', 'blandest', 'blanket', 'block', 'bloddy', 'bloodiest', 'blown', 'blows', 'blue', 'boba', 'bodes', 'boiled', 'bone', 'boot', 'boring', 'both', 'bother', 'bottom', 'box', 'boy', 'boyfriend', 'boys', 'bread', 'break', 'breakfast', 'breaks', 'brick', 'bring', 'brother', 'brought', 'brownish', 'brunch', 'bruschetta', 'bucks', 'buffet', 'bug', 'building', 'buldogis', 'burger', 'burgers', 'burned', 'burrittos', 'bus', 'business', 'businesses', 'busy', 'but', 'butter', 'by', 'cafe', 'café', 'cake', 'calamari', 'came', 'camelback', 'can', 'cannoli', 'cannot', 'cant', 'cape', 'capers', 'car', 'care', 'carly', 'cartel', 'cashew', 'cashier', 'caterpillar', 'cause', 'chains', 'changing', 'char', 'charcoal', 'charge', 'cheap', 'cheated', 'check', 'checked', 'cheese', 'chef', 'chefs', 'chicken', 'chip', 'chipotle', 'chips', 'christmas', 'claimed', 'class', 'classics', 'clean', 'climbing', 'close', 'clue', 'cocktail', 'cocktails', 'cod', 'coffee', 'cold', 'college', 'color', 'combination', 'come', 'comfortable', 'coming', 'companions', 'company', 'complain', 'completely', 'con', 'concept', 'connisseur', 'consider', 'considering', 'consistent', 'constructed', 'contain', 'contained', 'cook', 'cooked', 'cooking', 'cool', 'corn', 'correct', 'cost', 'could', 'count', 'couple', 'couples', 'coupons', 'course', 'courteous', 'cover', 'covered', 'cow', 'coziness', 'crab', 'cranberry', 'cream', 'creamy', 'crema', 'crepe', 'crisp', 'crispy', 'croutons', 'crust', 'crusty', 'crystals', 'crêpe', 'cuisine', 'curry', 'customer', 'customers', 'customize', 'cut', 'cute', 'd', 'damn', 'dark', 'dates', 'day', 'dead', 'deal', 'decided', 'decision', 'decor', 'decorated', 'dedicated', 'deeply', 'definitely', 'del', 'delicate', 'delicious', 'deliciously', 'delight', 'delish', 'deliver', 'denny', 'describing', 'despite', 'dessert', 'desserts', 'devine', 'did', 'didn', 'die', 'different', 'dine', 'dining', 'dinner', 'dirty', 'disappointed', 'disappointing', 'disappointment', 'disapppointment', 'disbelief', 'disgrace', 'disgusted', 'dish', 'dishes', 'disrespected', 'do', 'does', 'dog', 'dollars', 'don', 'done', 'dont', 'door', 'dos', 'doubt', 'douchey', 'doughy', 'down', 'downside', 'drag', 'dressed', 'dressing', 'dried', 'driest', 'drink', 'drinks', 'drive', 'driving', 'dry', 'duck', 'dude', 'during', 'dylan', 'each', 'easily', 'eat', 'eaten', 'eating', 'eclectic', 'editing', 'efficient', 'effort', 'egg', 'eggplant', 'either', 'elegantly', 'elk', 'else', 'elsewhere', 'employee', 'empty', 'ended', 'enjoy', 'enjoyable', 'enjoyed', 'enough', 'enthusiastic', 'entire', 'entrees', 'equally', 'especially', 'establishment', 'etc', 'ethic', 'eve', 'even', 'evening', 'event', 'events', 'ever', 'every', 'everything', 'everywhere', 'excellent', 'excuse', 'expanded', 'expect', 'expectations', 'expected', 'experience', 'experiencing', 'expert', 'exquisite', 'extensive', 'extra', 'extremely', 'fact', 'fail', 'fails', 'fair', 'falafels', 'family', 'famous', 'fan', 'fantastic', 'far', 'fast', 'fat', 'favorite', 'fear', 'feel', 'feeling', 'feels', 'fell', 'felt', 'few', 'fiancé', 'figured', 'filet', 'finally', 'fine', 'finish', 'first', 'fish', 'flat', 'flavor', 'flavored', 'flavorful', 'flavorless', 'flirting', 'flower', 'fluffy', 'fly', 'fo', 'folks', 'food', 'foods', 'for', 'found', 'four', 'francisco', 'freaking', 'fresh', 'fridays', 'fried', 'friend', 'friendly', 'friends', 'fries', 'from', 'front', 'frozen', 'fruit', 'frustrated', 'fry', 'fs', 'full', 'fun', 'funny', 'fuzzy', 'ganoush', 'garden', 'garlic', 'gave', 'gc', 'generous', 'genuinely', 'get', 'gets', 'getting', 'give', 'given', 'glad', 'glance', 'glass', 'go', 'godfathers', 'going', 'gold', 'golden', 'gone', 'good', 'gooodd', 'got', 'gotten', 'gourmet', 'grain', 'gratitude', 'greasy', 'great', 'greek', 'green', 'greeted', 'grill', 'grilled', 'gringos', 'gristle', 'grocery', 'gross', 'grossed', 'ground', 'group', 'groups', 'grow', 'guess', 'guests', 'guy', 'had', 'hair', 'half', 'halibut', 'hand', 'handled', 'handmade', 'hands', 'happened', 'happy', 'hard', 'hardest', 'hardly', 'has', 'hate', 'have', 'haven', 'having', 'he', 'healthy', 'heart', 'heat', 'held', 'helpful', 'her', 'here', 'hereas', 'hi', 'high', 'highlights', 'highly', 'hilarious', 'him', 'hip', 'hiro', 'his', 'hit', 'holiday', 'home', 'homemade', 'honeslty', 'honest', 'honestly', 'honor', 'hopefully', 'hopes', 'horrible', 'host', 'hot', 'hottest', 'hour', 'hours', 'how', 'huge', 'human', 'hummus', 'hurry', 'husband', 'hut', 'i', 'ice', 'idea', 'if', 'ignore', 'im', 'imagination', 'imagined', 'immediately', 'impeccable', 'impressed', 'in', 'including', 'incredible', 'incredibly', 'indian', 'indoor', 'inexpensive', 'inflate', 'ingredients', 'inside', 'instead', 'insulted', 'interesting', 'into', 'inviting', 'ironman', 'is', 'isn', 'it', 'its', 'itself', 'japanese', 'jenni', 'jerk', 'job', 'joint', 'joke', 'judge', 'juice', 'just', 'kept', 'khao', 'kid', 'kiddos', 'kids', 'kind', 'kitchen', 'know', 'known', 'lack', 'lacked', 'lady', 'large', 'largely', 'last', 'late', 'later', 'law', 'least', 'leather', 'leave', 'left', 'leftover', 'legs', 'lemon', 'let', 'letdown', 'letting', 'level', 'lighting', 'like', 'liked', 'liking', 'lil', 'limited', 'list', 'literally', 'little', 'live', 'll', 'lobster', 'located', 'long', 'look', 'looked', 'looking', 'looks', 'lordy', 'lost', 'lot', 'lots', 'loudly', 'love', 'loved', 'lovely', 'lovers', 'loves', 'low', 'lox', 'luke', 'lukewarm', 'lunch', 'm', 'mac', 'made', 'madison', 'mains', 'maintaining', 'make', 'making', 'mall', 'managed', 'management', 'manager', 'many', 'margaritas', 'maria', 'marrow', 'mary', 'massive', 'may', 'me', 'meal', 'meals', 'mean', 'meat', 'meatballs', 'meatloaf', 'mediocre', 'mediterranean', 'medium', 'meet', 'meh', 'melt', 'melted', 'mention', 'menu', 'metro', 'middle', 'mind', 'minutes', 'miss', 'missed', 'mistake', 'mixed', 'mmmm', 'modern', 'moist', 'mom', 'money', 'months', 'mood', 'more', 'mortified', 'mouth', 'mouthful', 'movies', 'moz', 'much', 'multi', 'multiple', 'mushrooms', 'music', 'must', 'my', 'naan', 'nachos', 'nasty', 'neat', 'need', 'needed', 'needless', 'needs', 'negligent', 'neither', 'never', 'new', 'next', 'nice', 'nicest', 'night', 'nigiri', 'no', 'nobu', 'noca', 'none', 'north', 'not', 'note', 'nothing', 'now', 'number', 'nut', 'nyc', 'obviously', 'occasional', 'occasions', 'of', 'off', 'offered', 'offers', 'officially', 'oh', 'ohhh', 'ok', 'old', 'olives', 'omelets', 'on', 'once', 'one', 'ones', 'only', 'opinion', 'opportunity', 'options', 'or', 'order', 'ordered', 'ordering', 'other', 'others', 'otherwise', 'our', 'out', 'outrageously', 'outshining', 'outside', 'outstanding', 'outta', 'oven', 'over', 'overall', 'overcooked', 'overpriced', 'overwhelmed', 'owned', 'owner', 'owners', 'oysters', 'pace', 'pack', 'packed', 'paid', 'pale', 'pancakes', 'papers', 'par', 'part', 'parties', 'party', 'passed', 'past', 'pasta', 'patio', 'pats', 'pay', 'paying', 'peach', 'peanut', 'peanuts', 'pears', 'pecan', 'people', 'pepper', 'perfect', 'perfectly', 'person', 'personable', 'personally', 'petty', 'philadelphia', 'pho', 'phoenix', 'piano', 'pictures', 'piece', 'pile', 'pine', 'pink', 'pita', 'pizza', 'pizzas', 'place', 'placed', 'places', 'plantains', 'plate', 'plater', 'platter', 'play', 'playing', 'pleasant', 'pleased', 'plethora', 'plus', 'point', 'poisoning', 'polite', 'poop', 'poor', 'poorly', 'pop', 'pork', 'portions', 'positive', 'possible', 'potato', 'potatoes', 'prefer', 'prepared', 'preparing', 'pretty', 'price', 'prices', 'pricey', 'prime', 'probably', 'problem', 'proclaimed', 'promise', 'prompt', 'proven', 'provided', 'provides', 'publicly', 'pulled', 'pumpkin', 'puree', 'quaint', 'qualified', 'quality', 'quick', 'quickly', 'quit', 'quite', 'rapidly', 'rare', 'rarely', 'raspberry', 'rate', 'rated', 'rather', 'ravoli', 're', 'real', 'realized', 'really', 'reasonable', 'reasons', 'received', 'receives', 'recent', 'recently', 'recommend', 'recommendation', 'recommended', 'red', 'redeeming', 'refill', 'refried', 'regular', 'reheated', 'relationship', 'relax', 'relaxed', 'remember', 'reminds', 'restaurant', 'restaurants', 'return', 'returned', 'review', 'reviewing', 'ri', 'rib', 'rice', 'rick', 'ridiculous', 'right', 'roast', 'roasted', 'rolls', 'room', 'rubber', 'rude', 'rudely', 'running', 's', 'sad', 'saffron', 'saganaki', 'said', 'salad', 'salads', 'salmon', 'salsa', 'same', 'san', 'sandwich', 'sandwiches', 'sangria', 'sashimi', 'satifying', 'satisfied', 'satisfying', 'sauce', 'saving', 'say', 'saying', 'says', 'scallop', 'scene', 'scottsdale', 'seafood', 'seal', 'seasonal', 'seasoned', 'seasoning', 'seated', 'seating', 'second', 'section', 'see', 'seemed', 'seems', 'seen', 'selection', 'selections', 'self', 'send', 'sergeant', 'seriously', 'serve', 'served', 'server', 'servers', 'service', 'services', 'set', 'setting', 'sever', 'several', 'sexy', 'shawarrrrrrma', 'she', 'shirt', 'shoe', 'shoots', 'shop', 'shopping', 'shops', 'should', 'show', 'showed', 'shrimp', 'sick', 'side', 'sides', 'similar', 'simple', 'since', 'single', 'sit', 'sitting', 'slow', 'small', 'smaller', 'smeared', 'so', 'soggy', 'soi', 'some', 'someone', 'something', 'soon', 'soooo', 'soooooo', 'sore', 'sorely', 'soundtrack', 'soup', 'soups', 'sour', 'southwest', 'space', 'spaghetti', 'special', 'speedy', 'spend', 'spends', 'spice', 'spicier', 'spicy', 'spinach', 'sporting', 'spot', 'spots', 'spotty', 'spring', 'staff', 'stale', 'star', 'stars', 'started', 'starving', 'station', 'steak', 'steaks', 'stepped', 'steve', 'still', 'stinks', 'stir', 'stopped', 'store', 'strange', 'strawberry', 'stretch', 'strings', 'strip', 'struck', 'struggle', 'stuff', 'stupid', 'style', 'styrofoam', 'sub', 'subpar', 'subway', 'such', 'sucked', 'sugary', 'suggest', 'summary', 'sunday', 'sunglasses', 'super', 'supposed', 'sure', 'surprise', 'sushi', 'sweet', 'swung', 't', 'table', 'tables', 'taco', 'tacos', 'take', 'talk', 'talking', 'tapas', 'tartar', 'taste', 'tasted', 'tasteless', 'tasty', 'tater', 'tea', 'teeth', 'tell', 'tender', 'tepid', 'terrible', 'texture', 'thai', 'than', 'thanks', 'that', 'the', 'theft', 'their', 'them', 'themselves', 'then', 'there', 'these', 'they', 'thin', 'thing', 'things', 'think', 'thinking', 'thirty', 'this', 'those', 'thought', 'three', 'thumbs', 'thus', 'tigerlilly', 'time', 'times', 'tiny', 'tip', 'tiramisu', 'to', 'toasted', 'today', 'together', 'told', 'tolerance', 'tomato', 'tonight', 'too', 'took', 'top', 'topic', 'total', 'totally', 'tots', 'touch', 'towards', 'town', 'tracked', 'tragedy', 'treat', 'treated', 'tribute', 'tried', 'trimmed', 'trip', 'trippy', 'try', 'trying', 'tucson', 'tummy', 'tuna', 'turkey', 'tv', 'twice', 'two', 'typical', 'unbelievable', 'under', 'undercooked', 'underwhelming', 'unfortunately', 'unhealthy', 'uninspired', 'unless', 'until', 'unwelcome', 'up', 'us', 'used', 'usual', 'vacant', 'value', 've', 'vegan', 'vegas', 'vegetables', 'veggie', 'veggitarian', 'velvet', 'venue', 'verge', 'version', 'very', 'vibe', 'vinaigrette', 'visit', 'visited', 'waaaaaayyyyyyyyyy', 'wait', 'waited', 'waiter', 'waiting', 'waitress', 'waitresses', 'walked', 'wall', 'walls', 'want', 'wanted', 'warm', 'warmer', 'warnings', 'was', 'wash', 'wasn', 'waste', 'wasting', 'watch', 'watched', 'water', 'wave', 'way', 'wayyy', 'we', 'weak', 'wedges', 'week', 'weekend', 'weird', 'well', 'went', 'were', 'what', 'whatsoever', 'whelm', 'when', 'where', 'whether', 'which', 'while', 'white', 'who', 'why', 'wienerschnitzel', 'wife', 'wildly', 'will', 'wine', 'wines', 'wings', 'winner', 'wish', 'with', 'without', 'witnessed', 'won', 'wonderful', 'word', 'work', 'works', 'world', 'worse', 'worst', 'worth', 'would', 'wouldn', 'wow', 'wrap', 'wrapped', 'wrong', 'yama', 'yay', 'year', 'years', 'yellow', 'yet', 'you', 'your', 'yukon', 'yummy', 'zero']\n"
          ],
          "name": "stdout"
        }
      ]
    },
    {
      "cell_type": "code",
      "metadata": {
        "id": "ug9ZUaUrFobh"
      },
      "source": [
        "def createVector(vocab, sentences):\n",
        "    indices = []\n",
        "    wordOccurrences = []\n",
        "\n",
        "    for sentenceIndex, sentence in enumerate(sentences):\n",
        "        alreadyCounted = set() # Keep track of words so we don't double count.\n",
        "        for word in sentence:\n",
        "            if (word in vocab) and word not in alreadyCounted:\n",
        "                # If we just want {0,1} for the presence of the word (bernoulli NB),\n",
        "                # only count each word once. Otherwise (multinomial NB) count each\n",
        "                # occurrence of the word.\n",
        "                \n",
        "            \n",
        "                #which sentence, which word\n",
        "                indices.append((sentenceIndex, vocab.index(word)))\n",
        "                \n",
        "                wordOccurrences.append(1)\n",
        "                alreadyCounted.add(word)\n",
        "\n",
        "    # Unzip\n",
        "    rows = [row for row, _ in indices]\n",
        "    columns = [column for _, column in indices]\n",
        "\n",
        "    sentenceVectors = sparse.csr_matrix((wordOccurrences, (rows, columns)), dtype=int, shape=(len(sentences), len(vocab)))\n",
        "\n",
        "    return sentenceVectors"
      ],
      "execution_count": 11,
      "outputs": []
    },
    {
      "cell_type": "code",
      "metadata": {
        "id": "uiOAc62-Fobh",
        "colab": {
          "base_uri": "https://localhost:8080/"
        },
        "outputId": "0a601504-b931-4fab-9c2d-2a58efe968fc"
      },
      "source": [
        "tokenizer = Tokenizer(num_words=2000)\n",
        "tokenizer.fit_on_texts(train_sentence)\n",
        "\n",
        "X_train = tokenizer.texts_to_sequences(train_sentence)\n",
        "X_test = tokenizer.texts_to_sequences(test_sentence)\n",
        "print(X_train)"
      ],
      "execution_count": 12,
      "outputs": [
        {
          "output_type": "stream",
          "text": [
            "[[348, 168, 8, 14], [12, 169, 2, 1, 349, 3, 54, 247], [350, 70, 351, 1, 537, 248, 538, 539, 540, 541, 542, 352, 2, 168, 7], [1, 124, 30, 1, 202, 3, 19, 2, 21, 25, 1, 203], [82, 249, 170, 543, 2, 171, 22, 250, 204], [544, 7, 141, 63, 31, 94], [1, 353, 25, 38, 545, 2, 35, 95, 251, 29, 18, 71, 142, 49, 546, 10, 36, 205, 206, 547, 548], [1, 125, 25, 19, 126], [96, 19, 354], [16, 3, 20, 549], [1, 355, 18, 56, 356, 55, 21, 57, 30, 55, 18, 4, 97, 7, 127, 550, 49, 205, 551, 172], [6, 252, 1, 552, 553, 554, 72, 24, 555, 357], [6, 3, 556, 143, 3, 73, 173, 31, 3, 557, 558], [358, 359], [144, 3, 145, 98, 15, 16], [8, 14, 5, 12, 174, 64, 36, 253, 559, 128], [58, 12, 38, 27, 41], [1, 560, 561], [31, 207, 1, 360, 562, 563, 564, 8, 565, 5, 21, 13], [29, 83, 254, 108, 17, 255, 9], [256, 43, 257, 4, 99, 39, 11, 50, 258, 15, 51, 22, 11, 3, 566, 208, 39, 567, 3, 259, 209, 38, 84, 3, 361, 568], [210, 38, 8, 14, 211], [1, 50, 569, 129, 10, 1, 51, 3, 31, 7, 3, 20, 362], [363, 16, 1, 146, 142, 85, 109, 38, 3, 570, 175, 36, 84, 65, 4, 1, 130], [22, 100, 212, 4, 571, 3, 572], [1, 260, 176, 2, 261], [52, 5, 12, 213, 13, 147, 31, 46, 573, 85, 574, 31, 364, 101], [365, 4, 575, 576, 214, 262, 25, 13, 143, 17, 25, 366, 44, 70, 1, 577, 578, 2, 141, 171, 4, 102, 7, 9, 579, 10, 170, 263], [30, 580, 581, 39, 131, 3, 20, 264, 2, 582, 19, 16], [1, 50, 265, 58, 38, 3, 1, 583, 584, 2, 266, 585], [1, 215, 5, 13, 177, 267, 54, 207], [17, 110, 1, 367, 268, 2, 7, 3, 586, 2, 176, 30, 1, 178, 24, 59, 368, 30, 1, 369], [84, 65, 259, 216, 60, 74, 84, 587, 22, 370, 18, 269, 217, 588, 30, 1, 130], [29, 26, 270, 371, 372, 373, 2, 374, 148, 4, 179, 75, 74, 373, 86, 589, 76, 11], [12, 87, 375, 2, 38, 590, 10, 591, 27, 1, 592], [27, 376, 132, 4, 377, 22, 378, 271, 593, 4, 594, 35, 149, 9, 150], [8, 14, 595, 133, 9, 76, 596], [1, 597, 23, 41, 598, 2, 47], [17, 88, 48, 32, 33, 101], [17, 23, 21, 599, 17, 272, 8, 14], [103, 19, 36, 27, 600, 601], [96, 19, 77, 4, 379, 19], [1, 602, 180, 5, 218, 603, 9, 380, 37, 66], [52, 5, 21, 87, 13, 11, 15, 128, 31, 109, 604, 9, 605, 43, 273, 606, 70, 67, 4, 274, 2, 381], [151, 33, 5, 38, 607, 43, 608, 609, 181, 219, 610, 111, 134, 9, 1, 104, 382, 4, 383, 4, 611, 49], [1, 612, 2, 384, 177, 25, 112], [8, 14, 105, 7], [6, 106, 1, 204, 2, 1, 613, 614, 385, 21, 275, 35, 26, 4, 182], [615, 23, 4, 386, 9], [15, 616, 8, 3, 617, 618, 152, 113], [7, 38, 40, 619, 387, 15, 64, 620, 181, 35, 621, 622, 623, 24, 1, 624, 382, 27, 1, 387], [61, 183, 135], [45, 28, 32, 101], [39, 131, 3, 276, 2, 74, 84, 272, 44, 1, 388, 625, 626, 627, 2, 628, 389, 84, 629, 390, 4, 39, 114, 2, 630, 389, 4, 48], [1, 50, 13, 265, 3, 39, 146, 84, 3, 20, 277, 2, 206, 1, 631, 632, 151], [61, 135, 15, 153, 9, 1, 278, 35, 633, 279, 7], [21, 17, 220, 4, 634, 2, 18, 276, 635], [1, 11, 3, 47, 39, 636, 3, 264, 2, 637, 2, 17, 78, 19, 213], [1, 391, 5, 184, 2, 52, 5, 280, 638], [45, 48, 32, 185, 281, 44], [221, 282, 392, 253, 28, 283, 639, 5, 12, 31, 13], [27, 376, 640, 393, 15, 641, 60, 642, 2, 1, 11, 643, 2, 7, 115, 31, 394], [8, 5, 40, 276, 284, 51, 53, 5, 88, 174, 212], [59, 136, 2, 176], [13, 203], [6, 54, 86, 154, 116, 8, 14, 644, 4, 222, 1, 645, 11, 26, 57, 285, 74, 29, 23, 395, 396, 646], [647, 62, 25, 9, 648, 10, 89, 649, 650], [112, 12, 651, 8, 14, 9, 652, 10, 653, 2, 86, 171, 4, 286, 36, 30, 137, 654, 138, 397, 7, 27, 31], [8, 14, 5, 77, 126, 172, 9, 223, 11], [29, 26, 13, 124, 10, 11, 655, 656, 657, 155, 398, 72, 399, 287, 400, 658, 2, 90, 169, 224], [1, 225, 5, 186], [47, 659, 401, 13, 402, 10, 288, 403, 221, 660, 24, 661, 91], [19, 289, 15, 662, 7, 21, 13, 74, 35, 187, 33, 175, 104, 289, 45, 12, 663, 64, 664], [84, 3, 290, 186, 2, 40, 52, 23, 21, 188, 104, 404, 46, 106, 4, 665, 27, 351, 666, 15, 128], [1, 146, 115, 277, 68, 42, 2, 667, 405, 30, 60], [2, 1, 360, 406, 18, 21, 87, 668, 669, 2, 115, 20, 169, 4, 85], [59, 670, 10, 671, 149, 672, 34, 109, 38, 8, 3, 189, 4, 673, 49, 1, 674, 11], [1, 675, 23, 190, 2, 1, 14, 291, 5, 66, 407], [1, 202, 5, 103, 676, 11, 129, 5, 67, 148, 16, 5, 290, 98], [1, 16, 3, 145, 98, 408, 31, 25, 222, 70, 156, 409, 21, 1, 11, 3, 151, 15, 98, 410], [6, 191, 7, 292, 148], [17, 411, 39, 146, 412, 211, 79, 677, 4, 104, 258, 2, 678, 60], [22, 679, 2, 65, 15, 1, 680, 10, 1, 117, 2, 17, 25, 681, 2, 293, 207, 682], [90, 683, 19, 129, 684, 33], [1, 62, 5, 42, 2, 1, 413, 5, 103, 190], [8, 3, 294, 685, 118, 1, 295, 1, 104, 117, 34, 127, 184, 2, 176, 66, 37, 66, 686], [8, 14, 5, 13], [226, 17, 296, 26, 297, 1, 414, 30, 687, 117, 143, 157, 17, 110, 3, 688], [6, 3, 293, 415], [689, 27, 41, 690], [51, 5, 103, 298, 34, 83, 134], [47], [8, 14, 5, 691, 148, 75, 10, 1, 61, 692, 4, 102, 15, 1, 693, 694, 299], [17, 80, 110, 1, 695, 2, 696, 108, 1, 697, 25, 227, 2, 1, 416, 698, 18, 417, 63], [1, 699, 23, 20, 42], [700, 1, 701, 702, 5, 180, 31, 5, 12, 4, 28, 703, 9, 406, 392], [1, 228, 5, 704, 2, 705, 418, 706, 354, 10, 707], [6, 80, 419, 12, 4, 708, 7, 32, 143, 39, 144, 709, 38, 158, 3, 30, 1, 710, 10, 711, 420, 712], [6, 713, 49, 4, 28, 714, 21, 715], [6, 110, 1, 716, 717, 421, 718, 53, 3, 80, 422], [1, 11, 300, 53, 17, 423, 34, 7, 300, 79, 118, 17, 95, 26, 719], [424, 425], [55, 40, 38, 52, 5, 1, 720, 721], [35, 111, 426, 119, 395, 1, 47, 11], [6, 18, 108, 24, 1, 229, 2, 90, 421, 288, 9, 266, 2, 269, 722, 218, 723], [1, 427, 280, 30, 724, 361, 725], [6, 92, 83, 71, 79, 726, 68, 428, 727], [19, 429, 230], [16, 5, 42, 2, 728], [20, 13, 192, 230], [1, 159, 113, 57], [1, 262, 23, 287, 729, 730, 731, 732, 430, 431, 733, 734], [93, 31, 432, 83, 735, 49, 46, 26, 433, 9, 173, 34, 30, 1, 104, 193, 10, 1, 736, 181, 8, 432, 3, 737, 3, 1, 738], [22, 739, 168, 1, 434, 740], [435, 2, 12, 13], [53, 23, 194, 2, 12, 174, 1, 278], [741, 8, 742, 9, 119, 67, 44, 10, 301, 2, 743, 302, 111, 744, 111, 187, 15], [6, 168, 1, 436, 745, 746], [8, 5, 43, 747, 748], [37, 9, 1, 749, 80, 750], [20, 20, 751, 303], [19, 14, 4, 26, 304, 305, 2, 426, 160, 2, 41, 752, 753, 37, 1, 754, 23, 755, 24, 756], [6, 97, 31, 46, 28, 1, 757, 758, 437, 41, 10, 759, 231, 63, 116, 29, 23, 760, 4, 63, 81], [70, 8, 36, 39, 193, 10, 1, 51, 3, 761, 438, 21, 52, 3, 56, 762], [305, 256, 763, 4, 150, 4, 187, 44, 27, 75, 439], [1, 764, 5, 54, 765, 147, 4, 440, 1, 766], [767, 30, 1, 441, 306, 16, 442, 2, 56, 768, 4, 769, 76, 770, 9, 22, 301, 161, 28, 67, 32], [307, 23, 40, 19, 156], [1, 771, 416, 3, 20, 772, 2, 443], [82, 1, 120, 291, 3, 13, 1, 773, 162, 3, 20, 169], [17, 18, 27, 39, 130, 2, 1, 16, 3, 73, 308], [6, 37, 66, 46, 92, 433, 774, 417, 133, 93, 309], [29, 154, 116, 4, 310, 119, 33], [1, 51, 228, 3, 775], [13, 16, 20, 190, 2, 362, 4, 776], [444, 7, 50, 777], [1, 16, 3, 12, 49, 4, 306, 311], [778, 312, 26, 50, 779, 232, 2, 1, 11, 3, 233, 47, 179, 36], [54, 37, 13, 37, 74, 18, 7, 79, 118, 780, 445], [9, 781, 782, 446, 447, 3, 783, 139], [1, 784, 785, 5, 44, 10, 8, 448], [35, 449, 48, 313, 24, 160, 10, 1, 11, 33], [350, 70, 8, 14, 418, 15, 786, 9, 1, 787, 20, 42, 788, 62], [1, 789, 25, 42, 2, 58, 13, 314], [6, 92, 18, 89, 12, 50, 69, 790, 450, 315, 791, 34, 91, 69, 792, 204], [6, 793, 1, 451, 2, 1, 16, 3, 794], [6, 132, 12, 101], [6, 18, 1, 795, 108, 2, 7, 3, 73, 112, 21, 45, 12, 28, 170, 31, 101], [16, 796, 33], [6, 121, 2, 121], [6, 46, 88, 107, 1, 229, 37, 66, 37, 1, 120], [316, 31, 220, 313, 29, 797, 1, 798], [17, 121, 43, 257, 9, 55, 3, 183, 95, 26, 189, 122, 89, 27, 317], [121, 799, 83, 78, 311, 10, 39, 800, 37, 188, 104, 209, 60, 302, 65, 15, 452, 58], [54, 86, 154, 318, 29, 25, 21, 98], [1, 62, 5, 19, 1, 11, 5, 287, 2, 29, 26, 43, 422, 319, 124], [6, 141, 154, 801, 802, 95, 28, 803, 47], [35, 99, 804, 94, 453, 805, 24, 356], [1, 11, 3, 234, 2, 16, 3, 20, 13], [13, 319, 806, 124, 2, 13, 11, 124], [1, 807, 808, 195, 3, 227, 95, 163, 809, 116, 188, 320, 25, 15, 31, 810, 2, 7, 3, 163, 209], [11, 3, 40, 811], [13, 16, 812], [37, 87, 37, 813, 38, 4, 48, 32, 111, 99, 393, 1, 814, 16, 2, 45, 83, 454], [6, 58, 12, 455, 8, 4, 28, 21, 13], [83, 67, 32], [1, 815, 816, 30, 1, 104, 817, 3, 21, 186], [70, 8, 439, 22, 321, 2, 18, 818, 819, 44, 8, 14, 3, 456, 2, 141, 820, 821, 7, 822, 2, 823, 824], [1, 50, 825, 5, 1, 16], [80, 1, 125, 23, 457, 826, 1, 159, 125, 92, 57, 18], [96, 304, 10, 827, 452, 828, 2, 18, 43, 81, 114], [829, 14, 15, 153, 9, 830], [29, 95, 458, 7, 24, 54, 1, 831, 2, 7, 248, 310, 9, 89, 210, 180, 34, 7, 3, 127, 20, 13], [74, 22, 322, 2, 78, 317, 158, 415, 78, 263, 2, 158, 50, 18, 323, 832, 10, 108], [1, 409, 23, 12, 324, 4, 213, 24, 2, 29, 86, 103, 833, 120, 834, 835], [157, 3, 836], [1, 837, 5, 838, 325, 839], [1, 235, 23, 21, 94, 2, 1, 162, 840, 38, 236, 284], [7, 174, 841, 49, 69, 842], [1, 124, 3, 163, 1, 159, 92, 843, 15, 128, 52, 3, 844], [8, 14, 5, 38, 845, 34, 89], [133, 9, 1, 846, 847, 326, 848], [6, 26, 285, 33, 849, 122, 2, 179, 36, 1, 11, 3, 47], [30, 1, 13, 193, 1, 62, 3, 850, 324, 2, 851, 221, 852], [37, 103, 1, 853, 3, 184, 2, 1, 11, 47], [1, 135, 5, 194, 2, 41, 1, 11, 29, 854, 3, 112], [73, 327, 46, 97], [22, 388, 18, 1, 855, 856, 237, 53, 3, 459], [1, 62, 23, 19, 1, 196, 5, 19], [1, 152, 857, 5, 858, 34, 859, 407, 2, 460], [29, 45, 860, 64, 195, 160, 77, 35, 38, 22, 861, 5, 461, 24, 328, 862, 863, 462, 106, 7], [2, 1, 329, 2, 274, 25, 223, 27, 61], [61, 864, 15, 153, 70, 312], [6, 256, 32, 22, 330, 2, 78, 865, 52], [15, 43, 424, 866, 10, 153, 8, 14, 5, 81], [1, 62, 23, 82, 12, 37, 42, 1, 134, 122, 9, 205, 222, 23, 270, 56, 75, 91, 867, 868, 9, 1, 100, 150], [6, 161, 28, 32], [1, 16, 3, 869, 88, 107, 1, 870], [1, 11, 3, 197], [45, 83, 57, 48, 32, 2, 26, 331, 188, 156, 55, 18, 871], [6, 86, 107, 872, 64, 873, 874, 148, 15, 875, 10, 7, 2, 35, 23, 876], [6, 45, 187, 32, 33, 175, 36, 164, 15, 128], [8, 5, 877], [93, 35, 171, 878, 236, 68, 879, 11, 182, 8, 14], [6, 26, 71, 33, 880, 122, 15, 1, 881, 2, 1, 113, 105, 103, 71, 19], [16, 3, 234, 2, 203, 23, 73, 882, 408, 8, 5, 128, 2, 883, 178, 1, 884, 885, 463, 70, 886], [464, 120, 5, 103, 297, 126, 24, 465, 10, 19, 193, 180, 332, 9, 1, 887], [16, 5, 123, 2, 1, 140, 228, 5, 59, 4, 333], [19, 14, 4, 102, 888, 85, 10, 1, 145, 322, 2, 889, 890, 15, 1, 891, 892, 466, 299], [893, 3, 22, 100, 63, 10, 894, 895, 238, 467, 2, 26, 4, 251, 35, 7, 3, 79, 118, 57, 468, 309], [269, 20, 896], [6, 138, 88, 28, 15, 165, 101], [11, 3, 40, 13, 2, 78, 298, 897, 308], [334, 286, 10, 36], [9, 16, 191, 119, 56, 133], [898, 49, 899, 4, 102, 160, 10, 1, 900, 901, 127, 902], [34, 82, 3, 903, 366, 44], [100, 36, 67, 34, 132, 45, 469, 470, 471], [69, 55, 22, 239, 904, 331, 85, 157, 3, 20, 94, 24, 59, 349, 2, 63], [30, 1, 905, 207, 185, 4, 39, 130, 3, 906, 907, 71, 908, 15, 2, 909, 910, 911, 10, 328, 912, 913], [8, 5, 90, 914, 13, 120, 2, 164, 43, 915, 916, 30, 1, 917], [146, 3, 918], [214, 23, 1, 919, 51, 240, 92, 57, 187, 920], [16, 5, 921, 2, 42], [7, 3, 922, 923, 924, 295, 10, 925, 31, 3, 926, 927, 2, 928], [348, 20, 136, 34, 47], [6, 138, 335, 22, 301, 239, 929, 472], [6, 106, 4, 48, 32], [473, 8, 930, 51, 105, 184, 183, 192], [179, 117, 10, 1, 931, 29, 26, 294, 213, 2, 7, 41, 21, 47], [12, 4, 932, 1, 933, 10, 934, 935, 2, 436, 5, 474, 936], [162, 3, 937], [1, 11, 5, 47, 2, 54, 136, 147, 21, 28, 173, 4, 383, 9, 938, 93, 35, 939, 7, 31, 77], [11, 3, 21, 940], [1, 241, 122, 18, 192, 33, 105, 71, 137], [1, 72, 229, 941, 1, 475, 72, 242, 26, 57, 285], [1, 11, 3, 20, 13, 2, 336, 175, 942, 43, 943, 944, 945, 9, 946, 194, 140, 947, 948], [61, 949, 950, 15, 1, 951], [952, 15, 953, 41, 1, 36, 2, 82, 26, 22, 476, 230], [1, 477, 3, 1, 159], [6, 86, 132, 138, 28, 259, 32, 4, 954, 337, 165, 9, 11], [86, 286, 64, 36, 33], [334, 955, 46, 87, 956, 54, 48, 4, 1, 957, 478, 958, 2, 959, 446], [1, 479, 23, 41, 66, 960, 2, 80, 961, 267], [17, 18, 962, 10, 74, 17, 963, 17, 46, 50, 26, 2, 29, 964, 60, 965], [6, 168, 7], [17, 255, 9, 1, 480, 4, 397, 457, 273, 2, 29, 141, 338, 31, 311], [375, 3, 966, 4, 967, 260, 2, 481, 482, 34, 1, 481, 482, 88, 58, 12, 63, 94], [47, 2, 45, 233, 28, 32], [8, 483, 96, 194, 140, 51, 8, 5, 968, 152, 364], [6, 969, 132, 45, 28, 32, 9, 20, 970, 36], [6, 45, 28, 32, 188, 122, 165], [2, 971, 972, 973], [144, 3, 484, 2, 974], [6, 80, 18, 4, 63, 22, 322, 975, 976, 977, 978, 24, 979, 485, 2, 29, 25, 81, 980, 2, 47], [449, 97, 147, 13, 316, 166, 8, 14], [1, 144, 2, 477, 23, 21, 42], [6, 46, 12, 107, 8, 14], [210, 115, 20, 198, 24, 981], [157, 3, 123, 1, 199, 17, 25, 15], [1, 11, 5, 20, 13, 9, 64, 982, 486, 11], [27, 100, 983, 7, 5, 984, 414, 447, 59, 196, 190, 42, 62], [473, 339, 12, 132, 45, 48, 32, 52], [385, 8, 5, 487, 265, 10, 985, 8, 51], [93, 35, 986, 987, 33, 48, 82], [96, 988, 989, 114], [488, 224, 25, 81], [28, 173, 4, 195, 266, 91, 93, 35, 489, 4, 990, 7, 4, 48, 1, 991, 2, 992, 23, 219, 4, 386, 9], [8, 3, 22, 100, 36, 2, 111, 134, 993, 1, 185], [8, 14, 5, 243, 292, 49, 77, 49], [197, 225], [19, 244, 19, 262, 19, 490, 81, 491], [1, 244, 2, 1, 260, 23, 15, 22, 994, 1, 61, 492, 27, 995], [17, 121, 9, 996, 150, 4, 28, 293, 493, 52, 25, 997, 258, 2, 17, 25, 1, 50, 998, 494], [6, 161, 182, 67, 32, 52, 91, 93, 7, 438], [54, 136, 147, 123, 495], [241, 199, 3, 22, 999, 36, 152, 33, 2, 3, 21, 340, 419, 4, 48, 32], [1, 491, 25, 245, 1000], [22, 496, 2, 65, 33, 9, 1, 100, 36, 30, 1001, 281, 4, 128, 2, 95, 12, 26, 71, 79, 1002, 24, 1, 129, 10, 11, 2, 16], [59, 196], [6, 46, 107, 1003, 497, 9, 8], [96, 13, 36], [498, 499, 2, 19, 63], [11, 3, 47], [6, 1004, 8, 1005], [17, 1006, 1007, 341, 363, 129, 10, 225, 372, 104, 1008, 37, 66], [121, 2, 121, 2, 121], [6, 1009, 15, 4, 191, 119, 182, 34, 3, 1010, 139], [16, 3, 13, 2, 1, 381, 3, 89], [1, 62, 23, 80, 20, 42, 2, 1011], [93, 35, 1012, 9, 236, 284, 11, 48, 1013, 181], [76, 479, 23, 359], [6, 1014, 488, 316, 37, 87, 37, 500, 129, 1015, 1016], [1, 464, 1017, 299, 5, 247], [19, 14, 1018, 335, 44, 68, 102, 15], [1, 144, 3, 42, 2, 340, 4, 1019, 9, 1020, 1021, 332], [7, 3, 1022, 501, 1023, 10, 59, 2, 368, 2, 105, 56, 246], [1, 1024, 80, 63, 1025, 53, 5, 43, 390, 444], [6, 78, 317, 4, 333, 1, 475, 250, 229, 57], [6, 40, 336, 1026, 1027, 271, 29, 1028, 91, 331, 321, 29, 18, 1, 61, 183], [12, 13, 9, 1, 330], [6, 1029, 7, 2, 1030, 29, 18, 75, 15, 1031], [29, 80, 26, 1, 61, 403, 1032, 15, 153], [13, 380, 19, 11, 19, 16], [1, 11, 5, 13], [7, 3, 167], [17, 142, 1, 1033, 41, 1, 77, 69, 1034, 1035, 2, 3, 12, 75, 245, 139], [1, 240, 40, 40, 489, 4, 1036, 205, 1037, 500, 253, 119, 399, 22, 1038, 155, 15, 243, 1039, 12, 75], [6, 405, 44, 8, 14, 304, 1040, 445, 2, 3, 12, 198], [1, 72, 78, 3, 88, 1041, 2, 3, 50, 342, 1, 1042, 25, 1043, 2, 435], [43, 1044, 296, 212], [1045, 116, 365, 1046, 1047, 1048, 495, 268, 9, 85, 4, 191, 1049], [6, 45, 12, 454], [6, 18, 1, 72, 204, 2, 7, 200, 20, 112], [1, 1050, 72, 3, 21, 176, 2, 1051, 69, 1, 1052, 1053], [73, 167, 14], [1, 62, 5, 103, 343, 42, 2, 277, 53, 5, 502, 327, 74, 35, 338, 243, 194, 1054, 2, 1055], [1056, 133, 9, 1, 11, 1, 1057, 15, 1, 1058, 1059, 9, 217, 19, 344, 127, 1060, 60, 15, 4, 102], [1, 384, 177, 155, 200, 40, 13], [110, 215, 268, 65, 15, 17, 138, 189], [6, 3, 1061, 1062, 313, 70, 8, 282, 486, 12, 50, 143, 1, 129, 5, 19, 34, 1, 16, 5, 308, 2, 1, 11, 1063], [8, 5, 13, 413], [6, 12, 273, 33], [8, 14, 105, 211, 10, 1064, 34, 1065, 4, 1066], [20, 137, 113], [55, 1067], [11, 3, 345, 27, 61], [17, 161, 28, 67, 32, 337, 165], [20, 20, 139, 110, 1, 474, 466, 1068], [19, 14, 4, 1069, 2, 26, 43, 167, 215, 2, 319], [7, 5, 123, 9, 1070, 148, 140, 114, 68, 99, 1071, 24, 323, 321], [12, 87, 246, 4, 119, 2, 20, 1072, 1073], [1, 451, 1074, 3, 20, 460], [1, 503, 274, 3, 504, 37, 66], [6, 1075, 106, 1, 505, 1076, 1077, 1078, 2, 1079, 1080, 7, 81, 55, 29, 339, 24, 461], [1, 240, 23, 343, 42, 2, 1, 62, 5, 1081], [219, 19], [1082, 124], [1, 62, 3, 20, 264], [2, 1, 303, 3, 498, 24, 217, 36, 91, 65, 209, 232, 21, 17, 111, 335, 1083, 24, 1084], [1, 307, 506, 4, 1085, 27, 1086, 21, 8, 14, 5, 40, 1087, 9, 507, 1, 278], [6, 111, 134, 4, 48, 32], [1, 1088, 25, 1, 159, 92, 57, 200], [7, 96, 19, 14, 2, 358, 107, 7], [64, 62, 1089, 79, 36, 1090, 4, 1091, 118, 85], [250, 13, 244], [334, 429, 508], [1, 425, 5, 59, 2, 1, 1092, 280, 1093, 5, 324], [6, 163, 161, 28, 32, 4, 28, 283], [1, 1094, 1095, 177, 155, 24, 1096, 162, 5, 43, 234, 155, 37, 66], [220, 9, 192, 16, 3, 98], [17, 18, 21, 87, 4, 97, 166, 1, 14, 271, 17, 1097, 15, 31, 84, 423, 7, 4, 28, 81, 34, 3, 469, 139], [6, 3, 1098], [6, 115, 40, 198, 24, 509, 244], [26, 71, 67, 510, 2, 175, 114, 105, 71, 167], [1, 355, 3, 42, 2, 91, 254, 1, 11, 44, 4, 85], [46, 12, 107, 4, 1099], [6, 1100, 40, 116, 339, 35, 99, 21, 1101, 9, 64, 453, 2, 320, 74, 7, 21, 197], [292, 49], [29, 26, 40, 59, 228], [1102, 18, 1, 1103, 1104, 325, 2, 7, 300], [17, 110, 90, 1105, 1106, 2, 90, 476, 231, 216, 67, 52, 323, 122, 2, 25, 1107, 139, 24, 157], [1108, 1109, 1110, 283], [1, 72, 3, 1111, 1112, 2, 18, 1, 123, 462, 30, 1, 369, 2, 261, 72, 30, 1, 178], [325, 1113, 4, 1114, 9, 1, 352, 30, 55, 4, 195, 41, 275, 9, 22, 1115], [19, 11, 2, 167, 16], [96, 511, 3, 15, 22, 1116, 1117, 511], [1, 11, 3, 512, 459, 21, 7, 296, 26, 71, 1118, 494, 9, 1, 131, 4, 338, 7, 44, 4, 60], [210, 38, 52, 11, 2, 1, 16], [29, 80, 82, 458, 396, 1119, 326, 24, 505, 2, 90, 136, 1120, 1121, 162, 31, 3, 44, 10, 8, 448], [163, 83, 151, 32, 2, 513, 107, 7], [182, 119, 15, 1, 1122, 4, 113, 90, 169, 11, 2, 1123, 42, 16], [83, 18, 514, 4, 1124, 166, 33], [1, 51, 5, 20, 190, 2, 105, 140, 51, 109, 4, 7], [7, 3, 77, 149, 503], [45, 12, 28, 32], [43, 1125, 202, 1126, 465, 10, 332, 9, 183], [6, 26, 411, 76, 203, 1127, 499, 99, 1128, 2, 225, 371, 1129, 1130], [184, 1131, 1132, 2, 1, 391, 142, 85, 109, 41, 208, 2, 1133, 178], [1134, 136, 3, 123, 181, 1135, 141, 149, 1136, 1, 237], [74, 164, 30, 8, 193, 10, 153, 8, 45, 88, 28, 230, 138, 297, 49, 101], [1, 72, 231, 23, 342, 1, 177, 5, 38, 1137, 1138], [1, 1139, 3, 81], [219, 1, 238, 1140, 1, 1141, 478, 1142, 25, 233, 133], [19, 36, 140, 239, 30, 1143, 199], [55, 58, 515, 85, 3, 1, 98, 16], [76, 516, 1144, 23, 77, 126, 1145, 9, 22, 63], [226, 7, 3, 12, 13], [6, 18, 73, 1146, 113], [112, 2, 517, 5, 13, 77, 10, 1147, 1, 512, 1148, 242], [1, 1149, 53, 164, 56, 1150, 10, 279, 8, 14, 1151], [201, 64, 11, 1152, 7, 1153], [1154, 9, 238, 467, 2, 125, 31, 1155, 38, 7, 65, 44, 10, 1156, 114, 27, 1, 1157, 5, 12, 22, 1158, 10, 13, 114], [22, 1159, 15, 1160, 302, 1161, 27, 1, 463, 518, 33, 1162, 117, 2, 1163, 55, 84, 3, 263, 41, 199, 126], [21, 13, 249, 67, 4, 26, 4, 519, 8, 14, 232, 201, 1164, 520, 4, 1, 14, 2, 201, 37, 520, 4, 43, 1165, 1166, 33, 241, 199], [1, 320, 2, 521, 25, 40, 13, 1, 521, 3, 20, 94], [223, 11], [201, 35, 99, 178, 35, 138, 28, 198, 24, 1, 14], [2, 16, 3, 343, 42], [318, 23, 214, 227, 145, 235, 21, 1167], [8, 14, 3, 487, 59, 1168], [29, 25, 1169, 398, 2, 47], [6, 18, 522, 1170, 9, 8, 14, 510, 1, 224, 23, 267, 149, 1171, 1172, 34, 226, 1, 63, 523, 524, 77, 524], [6, 95, 102, 76, 1173, 41, 117, 7, 5, 1174], [12, 1175, 1176, 65, 44, 4, 333, 93, 17, 25, 342, 68, 91, 1177, 378, 377, 201, 29, 1178, 222, 60, 39, 11], [1, 100, 36, 57, 65, 33, 18, 43, 81, 113, 127, 251, 156, 116, 167, 1, 367, 3], [1, 131, 3, 20, 1179, 10, 39, 525, 2, 142, 60, 109, 20, 1180, 46, 12, 1181, 8, 14], [8, 14, 5, 172, 12, 1182, 24, 76, 450, 2, 7, 40, 5, 172], [7, 3, 1183], [1, 1184, 1185, 3, 94, 431, 1186, 430], [7, 206, 170, 526, 2, 526, 21, 82, 164, 1187, 189], [8, 14, 346, 437, 28, 1188, 49], [34, 88, 46, 12, 102, 33, 101], [1, 1189, 1190, 3, 1191, 2, 1192, 2, 261], [1193, 16], [1, 16, 33, 5, 1194, 27, 61], [56, 75, 27, 1, 130, 468, 1, 11, 3, 1195, 345, 68, 174, 1, 134, 31, 17, 18, 9, 7], [61, 16, 2, 11, 57, 1196, 39, 131, 3, 21, 13, 2, 42, 158, 142, 39, 117], [29, 25, 234], [6, 1197, 1, 480, 34, 58, 12, 1198, 143, 428, 1, 131, 58, 197, 314], [54, 18, 192, 33, 2, 18, 19, 113], [1, 11, 65, 44, 27, 13, 410], [6, 518, 52, 232, 30, 22, 241, 212, 2, 502, 336, 1, 434, 108], [17, 95, 12, 1199, 116, 1200, 1, 1201, 25], [6, 46, 12, 107, 8, 14], [4, 22, 1202, 179, 180, 1203, 37, 1, 159, 1204, 10, 214, 1205, 26, 57, 200], [137, 117, 68, 12, 26, 20, 1206, 1207, 9, 186, 527, 16, 156, 7, 5, 64, 314, 4, 28, 59, 2, 1208, 1209, 231, 1210], [1, 353, 25, 19, 2, 21, 3, 1, 1211], [21, 443, 2, 105, 54, 1, 123, 528, 10, 1212], [220, 15, 9, 340, 257, 19, 1213, 10, 1214], [90, 248, 97, 8, 135, 5, 1215, 34, 132, 35, 99, 55, 35, 412, 9, 2, 8, 14, 35, 23, 170, 218, 211], [8, 14, 5, 73, 13, 59, 145, 344, 15, 1, 51], [374, 166, 19, 527, 16, 10, 529, 17, 45, 28, 32], [6, 106, 76, 125, 2, 76, 329], [29, 26, 1216, 10, 1217, 2, 1218, 2, 157, 92, 252, 1219, 22, 1220, 10, 1221], [9, 282, 30, 1, 509, 8, 5, 1, 14, 4, 48], [1, 109, 10, 1, 152, 497, 3, 79, 1222, 1223, 529, 118, 522, 1224, 152, 2, 1, 16, 3, 98, 27, 61], [6, 530, 8, 519, 24, 243, 133, 34, 164, 1225, 7, 4, 191, 7, 50, 75], [1226, 344, 69, 240], [52, 3, 1227, 160, 242], [6, 92, 18, 89, 401, 69, 1, 1228, 1229], [6, 106, 1, 307, 303, 217, 75, 236, 1230, 327, 1231], [82, 1, 224, 531, 37, 13, 1, 120, 53, 506, 4, 28, 81, 5, 1232, 2, 517], [1, 16, 3, 197, 11, 3, 223], [6, 110, 1233, 237, 53, 3, 54, 208, 2, 200, 38, 1234, 237, 24, 516, 1235], [30, 532, 294, 1236, 255, 9, 66, 189, 68, 1237, 66, 2, 41, 532, 122, 78, 1, 1238, 295, 10, 242, 30, 22, 1239], [1, 16, 3, 290, 98], [216, 150, 134, 78, 130], [56, 1240, 1241, 30, 1, 202, 2, 1, 144, 18, 233, 56, 1242, 37, 4, 53, 1243, 58, 68, 58, 12, 1244, 1245], [22, 496, 252, 1, 1246, 72, 108, 2, 523, 15, 106], [6, 171, 4, 100, 97, 39, 131, 3, 19, 2, 17, 18, 123, 16], [1, 120, 402, 23, 13], [6, 18, 1247, 315, 53, 3, 13], [1248, 64, 330, 472], [76, 471, 1249, 326, 3, 1250, 1251, 24, 1, 1252, 1253, 10, 485, 357], [1, 135, 27, 1254, 3, 312, 69, 55, 1255], [2, 1, 305, 23, 1256, 156], [22, 195, 3, 12, 1257], [20, 20, 227], [6, 12, 198, 24, 1, 1258, 68, 1, 11], [6, 78, 11, 1259, 33, 27, 1, 135], [29, 254, 94, 1260, 10, 125, 2, 3, 1261, 1262, 1263, 208, 34, 56], [55, 346, 26, 71, 1264, 275, 1265, 1266, 239, 4, 1267, 3, 1, 1268, 508, 10, 1, 1269, 281, 9, 60], [1270, 4, 97, 161, 28, 67, 32, 337, 165], [1, 1271, 533, 1272, 3, 456], [7, 3, 21, 137, 18, 534, 1, 420, 4, 379, 7], [17, 531, 1273, 4, 310, 1274, 27, 404, 34, 54, 86, 99, 7, 88, 534, 1, 106, 216, 8, 75], [1, 11, 5, 166, 30, 306, 24, 1275, 53, 5, 4, 97, 12, 13, 27, 41], [1276, 149, 1277, 5, 41, 249, 1278], [8, 14, 347, 533], [1, 1279, 3, 166, 507, 10, 1280, 490, 298, 2, 3, 1281], [86, 515, 151, 33], [1, 1282, 291, 1283, 73, 1284, 1, 1285, 5, 73, 1286, 34, 513, 102, 33, 101], [163, 12, 15, 1287, 4, 48, 32], [12, 13, 70, 160, 1288, 10, 1, 1289], [1, 1290, 288, 162, 3, 112, 2, 1, 235, 25, 535], [7, 3, 245, 126, 484, 12, 40, 136, 147, 2, 347, 246], [8, 14, 5, 270, 2, 77, 172], [7, 115, 394, 27, 41, 2, 82, 17, 154, 318], [1, 196, 33, 58, 12, 109, 38, 135, 1291, 34, 79, 10, 1292, 1293, 1294, 9, 315, 2, 1295], [1296, 1297, 16], [1, 125, 25, 12, 238, 2, 1298, 3, 22, 215], [1, 221, 1299, 3, 39, 146], [22, 370, 1300, 158, 3, 20, 186, 58, 12, 91, 1301, 9, 1, 137, 11, 68, 514], [158, 3, 218, 139, 493, 90, 1302, 525, 4, 28, 1303, 27, 341, 536], [1304, 1305, 5, 73, 247, 2, 346, 28, 1306, 93, 309], [17, 92, 26, 1307, 87, 89, 16, 69, 1, 120, 14, 185, 536, 118, 1, 1308, 17, 442, 69, 8, 51], [1, 196, 483, 87, 89], [226, 7, 50, 440, 60, 49, 9, 1309, 24, 39, 492], [1, 11, 115, 13], [126, 137, 1310, 154, 7, 140, 1311, 40, 1312, 4, 38, 8, 14], [6, 206, 1313, 27, 1, 36, 2, 7, 18, 165, 470, 150, 1314, 127, 56, 11], [17, 530, 24, 1, 400, 1315, 53, 3, 1316, 15, 501, 2, 1317, 115, 94], [11, 3, 1318, 345], [7, 173, 1319, 279, 1, 1320, 27, 1, 1321, 34, 46, 455, 145, 245, 79, 151, 69, 51], [1, 1322, 26, 5, 31, 29, 1323, 9, 155, 31, 5, 56, 1324, 118, 289, 441, 53, 1325, 89, 2, 79, 528, 10, 235], [7, 347, 246, 1326, 535, 2, 504], [1, 1327, 329, 31, 65, 24, 22, 114, 25, 1328, 44, 2, 1329, 2, 1, 11, 3, 112], [96, 1330, 27, 1, 130, 185, 4, 60, 272, 427, 328, 1331, 15, 341, 108]]\n"
          ],
          "name": "stdout"
        }
      ]
    },
    {
      "cell_type": "code",
      "metadata": {
        "id": "mYy0bw9VYUsh"
      },
      "source": [
        "# Adding 1 because of reserved 0 index\r\n",
        "vocab_size = len(tokenizer.word_index) + 1\r\n",
        "\r\n",
        "maxlen = 10\r\n",
        "\r\n",
        "X_train = pad_sequences(X_train, padding='post', maxlen=maxlen)\r\n",
        "y_train = trainingLabels\r\n",
        "X_test = pad_sequences(X_test, padding='post', maxlen=maxlen)\r\n",
        "y_test = testingLabels"
      ],
      "execution_count": 13,
      "outputs": []
    },
    {
      "cell_type": "code",
      "metadata": {
        "colab": {
          "base_uri": "https://localhost:8080/"
        },
        "id": "xButWWKRZnbj",
        "outputId": "441a1396-81c3-4475-8b60-a81515bdbb04"
      },
      "source": [
        "from numpy import array\r\n",
        "from numpy import asarray\r\n",
        "from numpy import zeros\r\n",
        "\r\n",
        "model = Sequential()\r\n",
        "embedding_layer = Embedding(vocab_size, 100, input_length=maxlen , trainable=False)\r\n",
        "model.add(embedding_layer)\r\n",
        "\r\n",
        "model.add(Flatten())\r\n",
        "model.add(Dense(1, activation='sigmoid'))\r\n",
        "model.compile(optimizer='adam', loss='binary_crossentropy', metrics=['acc'])\r\n",
        "\r\n",
        "print(model.summary())\r\n",
        "\r\n",
        "history = model.fit(X_train, y_train, batch_size=128, epochs=20, verbose=2 , validation_data=(X_test, y_test))\r\n",
        "score = model.evaluate(X_test, y_test, verbose=1)\r\n",
        "print(\"Test Score:\", score[0])\r\n",
        "print(\"Test Accuracy:\", score[1])\r\n",
        "\r\n",
        "\r\n"
      ],
      "execution_count": 14,
      "outputs": [
        {
          "output_type": "stream",
          "text": [
            "Model: \"sequential\"\n",
            "_________________________________________________________________\n",
            "Layer (type)                 Output Shape              Param #   \n",
            "=================================================================\n",
            "embedding (Embedding)        (None, 10, 100)           133200    \n",
            "_________________________________________________________________\n",
            "flatten (Flatten)            (None, 1000)              0         \n",
            "_________________________________________________________________\n",
            "dense (Dense)                (None, 1)                 1001      \n",
            "=================================================================\n",
            "Total params: 134,201\n",
            "Trainable params: 1,001\n",
            "Non-trainable params: 133,200\n",
            "_________________________________________________________________\n",
            "None\n",
            "Epoch 1/20\n",
            "4/4 - 1s - loss: 0.6930 - acc: 0.5190 - val_loss: 0.6913 - val_acc: 0.5553\n",
            "Epoch 2/20\n",
            "4/4 - 0s - loss: 0.6915 - acc: 0.5551 - val_loss: 0.6911 - val_acc: 0.5654\n",
            "Epoch 3/20\n",
            "4/4 - 0s - loss: 0.6902 - acc: 0.5832 - val_loss: 0.6908 - val_acc: 0.5553\n",
            "Epoch 4/20\n",
            "4/4 - 0s - loss: 0.6891 - acc: 0.5892 - val_loss: 0.6906 - val_acc: 0.5634\n",
            "Epoch 5/20\n",
            "4/4 - 0s - loss: 0.6880 - acc: 0.6052 - val_loss: 0.6904 - val_acc: 0.5594\n",
            "Epoch 6/20\n",
            "4/4 - 0s - loss: 0.6868 - acc: 0.6112 - val_loss: 0.6903 - val_acc: 0.5433\n",
            "Epoch 7/20\n",
            "4/4 - 0s - loss: 0.6857 - acc: 0.6192 - val_loss: 0.6901 - val_acc: 0.5473\n",
            "Epoch 8/20\n",
            "4/4 - 0s - loss: 0.6847 - acc: 0.6273 - val_loss: 0.6899 - val_acc: 0.5433\n",
            "Epoch 9/20\n",
            "4/4 - 0s - loss: 0.6836 - acc: 0.6273 - val_loss: 0.6897 - val_acc: 0.5433\n",
            "Epoch 10/20\n",
            "4/4 - 0s - loss: 0.6826 - acc: 0.6333 - val_loss: 0.6896 - val_acc: 0.5433\n",
            "Epoch 11/20\n",
            "4/4 - 0s - loss: 0.6815 - acc: 0.6433 - val_loss: 0.6894 - val_acc: 0.5433\n",
            "Epoch 12/20\n",
            "4/4 - 0s - loss: 0.6805 - acc: 0.6513 - val_loss: 0.6893 - val_acc: 0.5473\n",
            "Epoch 13/20\n",
            "4/4 - 0s - loss: 0.6794 - acc: 0.6693 - val_loss: 0.6891 - val_acc: 0.5453\n",
            "Epoch 14/20\n",
            "4/4 - 0s - loss: 0.6785 - acc: 0.6673 - val_loss: 0.6890 - val_acc: 0.5453\n",
            "Epoch 15/20\n",
            "4/4 - 0s - loss: 0.6774 - acc: 0.6713 - val_loss: 0.6888 - val_acc: 0.5473\n",
            "Epoch 16/20\n",
            "4/4 - 0s - loss: 0.6764 - acc: 0.6794 - val_loss: 0.6887 - val_acc: 0.5473\n",
            "Epoch 17/20\n",
            "4/4 - 0s - loss: 0.6754 - acc: 0.6894 - val_loss: 0.6885 - val_acc: 0.5493\n",
            "Epoch 18/20\n",
            "4/4 - 0s - loss: 0.6744 - acc: 0.6994 - val_loss: 0.6883 - val_acc: 0.5513\n",
            "Epoch 19/20\n",
            "4/4 - 0s - loss: 0.6734 - acc: 0.7034 - val_loss: 0.6882 - val_acc: 0.5493\n",
            "Epoch 20/20\n",
            "4/4 - 0s - loss: 0.6724 - acc: 0.7074 - val_loss: 0.6880 - val_acc: 0.5453\n",
            "16/16 [==============================] - 0s 1ms/step - loss: 0.6880 - acc: 0.5453\n",
            "Test Score: 0.6880409121513367\n",
            "Test Accuracy: 0.545271635055542\n"
          ],
          "name": "stdout"
        }
      ]
    },
    {
      "cell_type": "code",
      "metadata": {
        "colab": {
          "base_uri": "https://localhost:8080/"
        },
        "id": "rnLJfN9Op3mm",
        "outputId": "6dc97451-3184-4751-91aa-cdd79d5c16eb"
      },
      "source": [
        "from sklearn.metrics import classification_report\r\n",
        "# make a prediction\r\n",
        "testingPredictions = (model.predict(X_test) > 0.5).astype(\"int32\")\r\n",
        "print(len(testingPredictions))\r\n",
        "yhat_probabilities = model.predict(X_test > 0.5, batch_size=128)\r\n",
        "print(yhat_probabilities)\r\n",
        "target_names = ['negative', 'positive']\r\n",
        "print(classification_report(testingLabels, testingPredictions, target_names=target_names))"
      ],
      "execution_count": 15,
      "outputs": [
        {
          "output_type": "stream",
          "text": [
            "497\n",
            "[[0.5226097 ]\n",
            " [0.5226097 ]\n",
            " [0.53986204]\n",
            " [0.5247843 ]\n",
            " [0.5226097 ]\n",
            " [0.54984033]\n",
            " [0.5321772 ]\n",
            " [0.54377747]\n",
            " [0.54984033]\n",
            " [0.54377747]\n",
            " [0.5226097 ]\n",
            " [0.5513798 ]\n",
            " [0.54377747]\n",
            " [0.5226097 ]\n",
            " [0.5329096 ]\n",
            " [0.5513798 ]\n",
            " [0.5389705 ]\n",
            " [0.5389705 ]\n",
            " [0.54377747]\n",
            " [0.5226097 ]\n",
            " [0.5247843 ]\n",
            " [0.5513798 ]\n",
            " [0.54377747]\n",
            " [0.54377747]\n",
            " [0.54133373]\n",
            " [0.5513798 ]\n",
            " [0.54377747]\n",
            " [0.54377747]\n",
            " [0.54377747]\n",
            " [0.54133373]\n",
            " [0.5226097 ]\n",
            " [0.54377747]\n",
            " [0.54377747]\n",
            " [0.53986204]\n",
            " [0.54377747]\n",
            " [0.54377747]\n",
            " [0.54377747]\n",
            " [0.54377747]\n",
            " [0.5389705 ]\n",
            " [0.5513798 ]\n",
            " [0.53986204]\n",
            " [0.54377747]\n",
            " [0.53986204]\n",
            " [0.53986204]\n",
            " [0.5321772 ]\n",
            " [0.5226097 ]\n",
            " [0.5513798 ]\n",
            " [0.54377747]\n",
            " [0.54377747]\n",
            " [0.5329096 ]\n",
            " [0.5247843 ]\n",
            " [0.5226097 ]\n",
            " [0.53986204]\n",
            " [0.5513798 ]\n",
            " [0.54377747]\n",
            " [0.54377747]\n",
            " [0.5389705 ]\n",
            " [0.54377747]\n",
            " [0.54377747]\n",
            " [0.5226097 ]\n",
            " [0.5247843 ]\n",
            " [0.54377747]\n",
            " [0.5329096 ]\n",
            " [0.53986204]\n",
            " [0.54377747]\n",
            " [0.54377747]\n",
            " [0.5247843 ]\n",
            " [0.54377747]\n",
            " [0.54133373]\n",
            " [0.53986204]\n",
            " [0.54133373]\n",
            " [0.54377747]\n",
            " [0.54377747]\n",
            " [0.5226097 ]\n",
            " [0.54377747]\n",
            " [0.54133373]\n",
            " [0.5321772 ]\n",
            " [0.54377747]\n",
            " [0.54377747]\n",
            " [0.54377747]\n",
            " [0.54984033]\n",
            " [0.54377747]\n",
            " [0.54377747]\n",
            " [0.54377747]\n",
            " [0.5247843 ]\n",
            " [0.54377747]\n",
            " [0.54377747]\n",
            " [0.54133373]\n",
            " [0.54133373]\n",
            " [0.54377747]\n",
            " [0.5513798 ]\n",
            " [0.5247843 ]\n",
            " [0.53986204]\n",
            " [0.54377747]\n",
            " [0.54133373]\n",
            " [0.5226097 ]\n",
            " [0.54377747]\n",
            " [0.5513798 ]\n",
            " [0.54377747]\n",
            " [0.5247843 ]\n",
            " [0.5321772 ]\n",
            " [0.5247843 ]\n",
            " [0.5247843 ]\n",
            " [0.53986204]\n",
            " [0.54377747]\n",
            " [0.5226097 ]\n",
            " [0.54377747]\n",
            " [0.54377747]\n",
            " [0.54377747]\n",
            " [0.54377747]\n",
            " [0.54377747]\n",
            " [0.54377747]\n",
            " [0.54984033]\n",
            " [0.54377747]\n",
            " [0.54377747]\n",
            " [0.54377747]\n",
            " [0.54984033]\n",
            " [0.54133373]\n",
            " [0.53986204]\n",
            " [0.5513798 ]\n",
            " [0.54377747]\n",
            " [0.5247843 ]\n",
            " [0.54377747]\n",
            " [0.54984033]\n",
            " [0.54377747]\n",
            " [0.5247843 ]\n",
            " [0.53986204]\n",
            " [0.5226097 ]\n",
            " [0.54377747]\n",
            " [0.54133373]\n",
            " [0.5226097 ]\n",
            " [0.54377747]\n",
            " [0.54377747]\n",
            " [0.54377747]\n",
            " [0.5226097 ]\n",
            " [0.5226097 ]\n",
            " [0.54377747]\n",
            " [0.54377747]\n",
            " [0.54377747]\n",
            " [0.54377747]\n",
            " [0.5389705 ]\n",
            " [0.54984033]\n",
            " [0.54133373]\n",
            " [0.53986204]\n",
            " [0.5513798 ]\n",
            " [0.5321772 ]\n",
            " [0.54984033]\n",
            " [0.53986204]\n",
            " [0.54377747]\n",
            " [0.54377747]\n",
            " [0.54377747]\n",
            " [0.54984033]\n",
            " [0.5513798 ]\n",
            " [0.53986204]\n",
            " [0.5226097 ]\n",
            " [0.54377747]\n",
            " [0.54377747]\n",
            " [0.54377747]\n",
            " [0.5226097 ]\n",
            " [0.5226097 ]\n",
            " [0.54377747]\n",
            " [0.54377747]\n",
            " [0.5247843 ]\n",
            " [0.54133373]\n",
            " [0.54377747]\n",
            " [0.53986204]\n",
            " [0.5389705 ]\n",
            " [0.5513798 ]\n",
            " [0.5247843 ]\n",
            " [0.5226097 ]\n",
            " [0.54984033]\n",
            " [0.5247843 ]\n",
            " [0.54377747]\n",
            " [0.54133373]\n",
            " [0.5513798 ]\n",
            " [0.54377747]\n",
            " [0.54377747]\n",
            " [0.54133373]\n",
            " [0.54377747]\n",
            " [0.54377747]\n",
            " [0.5321772 ]\n",
            " [0.54377747]\n",
            " [0.5226097 ]\n",
            " [0.5321772 ]\n",
            " [0.5247843 ]\n",
            " [0.54377747]\n",
            " [0.53986204]\n",
            " [0.54377747]\n",
            " [0.54377747]\n",
            " [0.54377747]\n",
            " [0.54377747]\n",
            " [0.54133373]\n",
            " [0.5226097 ]\n",
            " [0.54377747]\n",
            " [0.54377747]\n",
            " [0.5247843 ]\n",
            " [0.54377747]\n",
            " [0.5226097 ]\n",
            " [0.5389705 ]\n",
            " [0.5513798 ]\n",
            " [0.53986204]\n",
            " [0.54377747]\n",
            " [0.54133373]\n",
            " [0.54377747]\n",
            " [0.5226097 ]\n",
            " [0.5329096 ]\n",
            " [0.5247843 ]\n",
            " [0.5226097 ]\n",
            " [0.5226097 ]\n",
            " [0.54377747]\n",
            " [0.5321772 ]\n",
            " [0.54984033]\n",
            " [0.54377747]\n",
            " [0.54133373]\n",
            " [0.5321772 ]\n",
            " [0.5226097 ]\n",
            " [0.5513798 ]\n",
            " [0.54377747]\n",
            " [0.54377747]\n",
            " [0.5226097 ]\n",
            " [0.5226097 ]\n",
            " [0.5226097 ]\n",
            " [0.53986204]\n",
            " [0.54377747]\n",
            " [0.5513798 ]\n",
            " [0.54377747]\n",
            " [0.54377747]\n",
            " [0.5226097 ]\n",
            " [0.54377747]\n",
            " [0.5321772 ]\n",
            " [0.5389705 ]\n",
            " [0.5247843 ]\n",
            " [0.5389705 ]\n",
            " [0.54984033]\n",
            " [0.54377747]\n",
            " [0.5389705 ]\n",
            " [0.54377747]\n",
            " [0.5513798 ]\n",
            " [0.5226097 ]\n",
            " [0.54377747]\n",
            " [0.54377747]\n",
            " [0.5321772 ]\n",
            " [0.54133373]\n",
            " [0.54377747]\n",
            " [0.5513798 ]\n",
            " [0.54377747]\n",
            " [0.53986204]\n",
            " [0.5226097 ]\n",
            " [0.5226097 ]\n",
            " [0.5321772 ]\n",
            " [0.5329096 ]\n",
            " [0.54377747]\n",
            " [0.5513798 ]\n",
            " [0.5389705 ]\n",
            " [0.5329096 ]\n",
            " [0.54984033]\n",
            " [0.54377747]\n",
            " [0.5389705 ]\n",
            " [0.54377747]\n",
            " [0.53986204]\n",
            " [0.53986204]\n",
            " [0.53986204]\n",
            " [0.54377747]\n",
            " [0.54377747]\n",
            " [0.54984033]\n",
            " [0.54377747]\n",
            " [0.5321772 ]\n",
            " [0.5513798 ]\n",
            " [0.54133373]\n",
            " [0.54377747]\n",
            " [0.5389705 ]\n",
            " [0.54377747]\n",
            " [0.54377747]\n",
            " [0.5513798 ]\n",
            " [0.54377747]\n",
            " [0.5247843 ]\n",
            " [0.5513798 ]\n",
            " [0.54133373]\n",
            " [0.5226097 ]\n",
            " [0.5513798 ]\n",
            " [0.5247843 ]\n",
            " [0.54377747]\n",
            " [0.54377747]\n",
            " [0.54377747]\n",
            " [0.5247843 ]\n",
            " [0.5321772 ]\n",
            " [0.54377747]\n",
            " [0.54377747]\n",
            " [0.5513798 ]\n",
            " [0.54377747]\n",
            " [0.5226097 ]\n",
            " [0.5321772 ]\n",
            " [0.54377747]\n",
            " [0.54377747]\n",
            " [0.5389705 ]\n",
            " [0.5389705 ]\n",
            " [0.54377747]\n",
            " [0.54984033]\n",
            " [0.5389705 ]\n",
            " [0.54377747]\n",
            " [0.53986204]\n",
            " [0.53986204]\n",
            " [0.54133373]\n",
            " [0.5513798 ]\n",
            " [0.54984033]\n",
            " [0.54133373]\n",
            " [0.5513798 ]\n",
            " [0.5321772 ]\n",
            " [0.54377747]\n",
            " [0.5247843 ]\n",
            " [0.54377747]\n",
            " [0.5513798 ]\n",
            " [0.54377747]\n",
            " [0.54133373]\n",
            " [0.54133373]\n",
            " [0.53986204]\n",
            " [0.5513798 ]\n",
            " [0.54377747]\n",
            " [0.5226097 ]\n",
            " [0.54133373]\n",
            " [0.54133373]\n",
            " [0.5321772 ]\n",
            " [0.53986204]\n",
            " [0.54377747]\n",
            " [0.54984033]\n",
            " [0.5513798 ]\n",
            " [0.54984033]\n",
            " [0.54377747]\n",
            " [0.53986204]\n",
            " [0.5247843 ]\n",
            " [0.5226097 ]\n",
            " [0.54133373]\n",
            " [0.5321772 ]\n",
            " [0.5226097 ]\n",
            " [0.5321772 ]\n",
            " [0.54984033]\n",
            " [0.54377747]\n",
            " [0.5247843 ]\n",
            " [0.53986204]\n",
            " [0.54377747]\n",
            " [0.54377747]\n",
            " [0.5226097 ]\n",
            " [0.5226097 ]\n",
            " [0.5226097 ]\n",
            " [0.54377747]\n",
            " [0.54377747]\n",
            " [0.54377747]\n",
            " [0.5513798 ]\n",
            " [0.54377747]\n",
            " [0.5513798 ]\n",
            " [0.53986204]\n",
            " [0.54377747]\n",
            " [0.5389705 ]\n",
            " [0.5247843 ]\n",
            " [0.54133373]\n",
            " [0.5389705 ]\n",
            " [0.54377747]\n",
            " [0.5247843 ]\n",
            " [0.5513798 ]\n",
            " [0.5226097 ]\n",
            " [0.54377747]\n",
            " [0.54984033]\n",
            " [0.5389705 ]\n",
            " [0.54133373]\n",
            " [0.54984033]\n",
            " [0.54133373]\n",
            " [0.54133373]\n",
            " [0.54377747]\n",
            " [0.54377747]\n",
            " [0.54377747]\n",
            " [0.54377747]\n",
            " [0.5389705 ]\n",
            " [0.54377747]\n",
            " [0.54377747]\n",
            " [0.54377747]\n",
            " [0.54377747]\n",
            " [0.54984033]\n",
            " [0.53986204]\n",
            " [0.54133373]\n",
            " [0.5513798 ]\n",
            " [0.54377747]\n",
            " [0.53986204]\n",
            " [0.54984033]\n",
            " [0.5321772 ]\n",
            " [0.54377747]\n",
            " [0.5513798 ]\n",
            " [0.5513798 ]\n",
            " [0.54377747]\n",
            " [0.5226097 ]\n",
            " [0.5389705 ]\n",
            " [0.5513798 ]\n",
            " [0.5226097 ]\n",
            " [0.53986204]\n",
            " [0.54377747]\n",
            " [0.53986204]\n",
            " [0.54984033]\n",
            " [0.54377747]\n",
            " [0.54377747]\n",
            " [0.54984033]\n",
            " [0.54377747]\n",
            " [0.5226097 ]\n",
            " [0.5226097 ]\n",
            " [0.5321772 ]\n",
            " [0.5389705 ]\n",
            " [0.5226097 ]\n",
            " [0.5226097 ]\n",
            " [0.5389705 ]\n",
            " [0.5226097 ]\n",
            " [0.54984033]\n",
            " [0.54377747]\n",
            " [0.53986204]\n",
            " [0.53986204]\n",
            " [0.54377747]\n",
            " [0.54377747]\n",
            " [0.54984033]\n",
            " [0.5247843 ]\n",
            " [0.54377747]\n",
            " [0.5389705 ]\n",
            " [0.54377747]\n",
            " [0.54984033]\n",
            " [0.5226097 ]\n",
            " [0.5226097 ]\n",
            " [0.54377747]\n",
            " [0.54133373]\n",
            " [0.5513798 ]\n",
            " [0.54377747]\n",
            " [0.5389705 ]\n",
            " [0.54133373]\n",
            " [0.54133373]\n",
            " [0.54377747]\n",
            " [0.5247843 ]\n",
            " [0.54377747]\n",
            " [0.54377747]\n",
            " [0.5389705 ]\n",
            " [0.54377747]\n",
            " [0.54377747]\n",
            " [0.5226097 ]\n",
            " [0.5389705 ]\n",
            " [0.5321772 ]\n",
            " [0.5389705 ]\n",
            " [0.5321772 ]\n",
            " [0.54133373]\n",
            " [0.5226097 ]\n",
            " [0.5247843 ]\n",
            " [0.54377747]\n",
            " [0.5226097 ]\n",
            " [0.5247843 ]\n",
            " [0.5513798 ]\n",
            " [0.5513798 ]\n",
            " [0.54984033]\n",
            " [0.5247843 ]\n",
            " [0.54133373]\n",
            " [0.54377747]\n",
            " [0.54377747]\n",
            " [0.5513798 ]\n",
            " [0.54377747]\n",
            " [0.54377747]\n",
            " [0.5247843 ]\n",
            " [0.54984033]\n",
            " [0.54377747]\n",
            " [0.54377747]\n",
            " [0.54377747]\n",
            " [0.5321772 ]\n",
            " [0.54377747]\n",
            " [0.53986204]\n",
            " [0.54377747]\n",
            " [0.54377747]\n",
            " [0.5226097 ]\n",
            " [0.54984033]\n",
            " [0.54377747]\n",
            " [0.5226097 ]\n",
            " [0.54377747]\n",
            " [0.54377747]\n",
            " [0.54984033]\n",
            " [0.54984033]\n",
            " [0.54377747]\n",
            " [0.54377747]\n",
            " [0.54377747]\n",
            " [0.5513798 ]\n",
            " [0.53986204]\n",
            " [0.5226097 ]\n",
            " [0.5226097 ]\n",
            " [0.54377747]\n",
            " [0.54377747]\n",
            " [0.54984033]\n",
            " [0.54984033]\n",
            " [0.54984033]\n",
            " [0.53986204]\n",
            " [0.54377747]\n",
            " [0.5389705 ]\n",
            " [0.54377747]\n",
            " [0.54133373]\n",
            " [0.54377747]\n",
            " [0.5389705 ]\n",
            " [0.54984033]\n",
            " [0.54133373]\n",
            " [0.54377747]]\n",
            "              precision    recall  f1-score   support\n",
            "\n",
            "    negative       0.65      0.21      0.32       251\n",
            "    positive       0.52      0.89      0.66       246\n",
            "\n",
            "    accuracy                           0.55       497\n",
            "   macro avg       0.59      0.55      0.49       497\n",
            "weighted avg       0.59      0.55      0.49       497\n",
            "\n"
          ],
          "name": "stdout"
        }
      ]
    },
    {
      "cell_type": "code",
      "metadata": {
        "colab": {
          "base_uri": "https://localhost:8080/",
          "height": 573
        },
        "id": "SMmpXCgBcrmc",
        "outputId": "5c991436-0fa5-454e-ebeb-27426f49ed23"
      },
      "source": [
        "import matplotlib.pyplot as plt\r\n",
        "\r\n",
        "plt.plot(history.history['acc'])\r\n",
        "plt.plot(history.history['val_acc'])\r\n",
        "\r\n",
        "plt.title('model accuracy')\r\n",
        "plt.ylabel('accuracy')\r\n",
        "plt.xlabel('epoch')\r\n",
        "plt.legend(['train','test'], loc='upper left')\r\n",
        "plt.show()\r\n",
        "\r\n",
        "plt.plot(history.history['loss'])\r\n",
        "plt.plot(history.history['val_loss'])\r\n",
        "\r\n",
        "plt.title('model loss')\r\n",
        "plt.ylabel('loss')\r\n",
        "plt.xlabel('epoch')\r\n",
        "plt.legend(['train','test'], loc='upper left')\r\n",
        "plt.show()"
      ],
      "execution_count": 16,
      "outputs": [
        {
          "output_type": "display_data",
          "data": {
            "image/png": "[encoded data removed]",
            "text/plain": [
              "<Figure size 432x288 with 1 Axes>"
            ]
          },
          "metadata": {
            "tags": [],
            "needs_background": "light"
          }
        },
        {
          "output_type": "display_data",
          "data": {
            "image/png": "[encoded data removed]",
            "text/plain": [
              "<Figure size 432x288 with 1 Axes>"
            ]
          },
          "metadata": {
            "tags": [],
            "needs_background": "light"
          }
        }
      ]
    },
    {
      "cell_type": "code",
      "metadata": {
        "colab": {
          "base_uri": "https://localhost:8080/",
          "height": 295
        },
        "id": "RIsrDlWoufUs",
        "outputId": "874c35e1-ce10-4743-aa9e-c84203501f4c"
      },
      "source": [
        "data = {'Actual':    testingLabels,\r\n",
        "        'Predicted': testingPredictions.reshape(len(testingLabels),)\r\n",
        "        }\r\n",
        "#print(testingLabels.reshape(len(testingLabels),1))\r\n",
        "df = pd.DataFrame(data, columns=['Actual','Predicted'])\r\n",
        "confusion_matrix = pd.crosstab(df['Actual'], df['Predicted'], rownames=['Actual'], colnames=['Predicted'])\r\n",
        "\r\n",
        "sns.heatmap(confusion_matrix, annot=True,cmap=\"YlGnBu\", fmt='d').set_title('Confusion Matrix of Testing')\r\n",
        "plt.show()"
      ],
      "execution_count": 17,
      "outputs": [
        {
          "output_type": "display_data",
          "data": {
            "image/png": "[encoded data removed]",
            "text/plain": [
              "<Figure size 432x288 with 2 Axes>"
            ]
          },
          "metadata": {
            "tags": [],
            "needs_background": "light"
          }
        }
      ]
    },
    {
      "cell_type": "code",
      "metadata": {
        "colab": {
          "base_uri": "https://localhost:8080/",
          "height": 17
        },
        "id": "SFg0E22Qw1lQ",
        "outputId": "b6c112d6-d4b7-47ce-988b-d2f9f0233b51"
      },
      "source": [
        "import json\r\n",
        "\r\n",
        "data = []\r\n",
        "for i in range(len(testingPredictions)):\r\n",
        "  data.append({\r\n",
        "      'index': i,\r\n",
        "      'true_label': int(testingLabels[i]),\r\n",
        "      'predicted_label': int(testingPredictions[i]),\r\n",
        "      'confidence_score': yhat_probabilities.tolist()[i],\r\n",
        "      'text': testingSentences[i]\r\n",
        "  })\r\n",
        "\r\n",
        "with open('predict.json', 'w') as outfile:\r\n",
        "    json.dump(data, outfile, indent=4, sort_keys=False)\r\n",
        "\r\n",
        "from google.colab import files\r\n",
        "files.download('predict.json')\r\n",
        "\r\n",
        "\r\n",
        "\r\n",
        "######################### dont run below cells ################################################"
      ],
      "execution_count": 18,
      "outputs": [
        {
          "output_type": "display_data",
          "data": {
            "application/javascript": [
              "\n",
              "    async function download(id, filename, size) {\n",
              "      if (!google.colab.kernel.accessAllowed) {\n",
              "        return;\n",
              "      }\n",
              "      const div = document.createElement('div');\n",
              "      const label = document.createElement('label');\n",
              "      label.textContent = `Downloading \"${filename}\": `;\n",
              "      div.appendChild(label);\n",
              "      const progress = document.createElement('progress');\n",
              "      progress.max = size;\n",
              "      div.appendChild(progress);\n",
              "      document.body.appendChild(div);\n",
              "\n",
              "      const buffers = [];\n",
              "      let downloaded = 0;\n",
              "\n",
              "      const channel = await google.colab.kernel.comms.open(id);\n",
              "      // Send a message to notify the kernel that we're ready.\n",
              "      channel.send({})\n",
              "\n",
              "      for await (const message of channel.messages) {\n",
              "        // Send a message to notify the kernel that we're ready.\n",
              "        channel.send({})\n",
              "        if (message.buffers) {\n",
              "          for (const buffer of message.buffers) {\n",
              "            buffers.push(buffer);\n",
              "            downloaded += buffer.byteLength;\n",
              "            progress.value = downloaded;\n",
              "          }\n",
              "        }\n",
              "      }\n",
              "      const blob = new Blob(buffers, {type: 'application/binary'});\n",
              "      const a = document.createElement('a');\n",
              "      a.href = window.URL.createObjectURL(blob);\n",
              "      a.download = filename;\n",
              "      div.appendChild(a);\n",
              "      a.click();\n",
              "      div.remove();\n",
              "    }\n",
              "  "
            ],
            "text/plain": [
              "<IPython.core.display.Javascript object>"
            ]
          },
          "metadata": {
            "tags": []
          }
        },
        {
          "output_type": "display_data",
          "data": {
            "application/javascript": [
              "download(\"download_671d0cde-3336-422b-91d4-367ed3eb6209\", \"predict.json\", 118551)"
            ],
            "text/plain": [
              "<IPython.core.display.Javascript object>"
            ]
          },
          "metadata": {
            "tags": []
          }
        }
      ]
    },
    {
      "cell_type": "code",
      "metadata": {
        "colab": {
          "base_uri": "https://localhost:8080/"
        },
        "id": "XZhAayfBdd6V",
        "outputId": "b2ec8b6d-5873-4377-b2c6-c70d6d30bb9b"
      },
      "source": [
        "# this model uses pre-trained Word2Vec from Google\r\n",
        "import gensim\r\n",
        "from gensim import models\r\n",
        "from gensim.models import Word2Vec\r\n",
        "\r\n",
        "from keras.models import Sequential\r\n",
        "from keras.layers import Dense\r\n",
        "from keras.layers import Flatten\r\n",
        "from keras.layers import Embedding\r\n",
        "from keras.layers.convolutional import Conv1D\r\n",
        "from keras.layers.convolutional import MaxPooling1D\r\n",
        "\r\n",
        "# train word2vec model\r\n",
        "model = Word2Vec(train_words, size=100, window=5, workers=8, min_count=1)\r\n",
        "# summarize vocabulary size in model\r\n",
        "words = list(model.wv.vocab)\r\n",
        "print(words)\r\n",
        "print('Vocabulary size: %d' % len(words))\r\n",
        "\r\n",
        "filename = 'embedding_word2vec.txt'\r\n",
        "model.wv.save_word2vec_format(filename, binary=False)\r\n",
        "\r\n",
        "# load embedding as a dict\r\n",
        "def load_embedding(filename):\r\n",
        "\t# load embedding into memory, skip first line\r\n",
        "\tfile = open(filename,'r')\r\n",
        "\tlines = file.readlines()[1:]\r\n",
        "\tfile.close()\r\n",
        "\t# create a map of words to vectors\r\n",
        "\tembedding = dict()\r\n",
        "\tfor line in lines:\r\n",
        "\t\tparts = line.split()\r\n",
        "\t\t# key is string word, value is numpy array for vector\r\n",
        "\t\tembedding[parts[0]] = asarray(parts[1:], dtype='float32')\r\n",
        "\treturn embedding\r\n",
        "\r\n",
        "# create a weight matrix for the Embedding layer from a loaded embedding\r\n",
        "def get_weight_matrix(embedding, vocab):\r\n",
        "\t# total vocabulary size plus 0 for unknown words\r\n",
        "\tvocab_size = len(vocab) + 1\r\n",
        "\t# define weight matrix dimensions with all 0\r\n",
        "\tweight_matrix = zeros((vocab_size, 100))\r\n",
        "\t# step vocab, store vectors using the Tokenizer's integer mapping\r\n",
        "\tfor word, i in vocab.items():\r\n",
        "\t\tweight_matrix[i] = embedding.get(word)\r\n",
        "\treturn weight_matrix\r\n",
        "\r\n",
        "# load embedding from file\r\n",
        "raw_embedding = load_embedding('embedding_word2vec.txt')\r\n",
        "# get vectors in the right order\r\n",
        "embedding_vectors = get_weight_matrix(raw_embedding, tokenizer.word_index)\r\n",
        "# create the embedding layer\r\n",
        "embedding_layer = Embedding(vocab_size, 100, weights=[embedding_vectors], input_length=maxlen, trainable=False)\r\n",
        "\r\n",
        "model = Sequential()\r\n",
        "\r\n",
        "model.add(embedding_layer)\r\n",
        "\r\n",
        "model.add(Conv1D(128, 5, activation='relu'))\r\n",
        "model.add(MaxPooling1D(pool_size=2))\r\n",
        "model.add(Flatten())\r\n",
        "model.add(Dense(1, activation='sigmoid'))\r\n",
        "model.compile(optimizer='adam', loss='binary_crossentropy', metrics=['acc'])\r\n",
        "print(model2.summary())\r\n",
        "\r\n",
        "history = model2.fit(X_train, y_train, batch_size=128, epochs=50, verbose=1)\r\n",
        "score = model2.evaluate(X_test, y_test, verbose=0)\r\n",
        "\r\n",
        "print(\"Test Accuracy:\", score[1])"
      ],
      "execution_count": null,
      "outputs": [
        {
          "output_type": "stream",
          "text": [
            "['wow', 'loved', 'this', 'place', 'not', 'tasty', 'and', 'the', 'texture', 'was', 'just', 'nasty', 'stopped', 'by', 'during', 'late', 'may', 'bank', 'holiday', 'off', 'rick', 'steve', 'recommendation', 'it', 'selection', 'on', 'menu', 'great', 'so', 'were', 'prices', 'now', 'i', 'am', 'getting', 'angry', 'want', 'my', 'damn', 'pho', 'honeslty', 'didn', 't', 'taste', 'that', 'fresh', 'potatoes', 'like', 'rubber', 'you', 'could', 'tell', 'they', 'had', 'been', 'made', 'up', 'ahead', 'of', 'time', 'being', 'kept', 'under', 'a', 'warmer', 'fries', 'too', 'touch', 'service', 'very', 'prompt', 'cashier', 'no', 'care', 'what', 'ever', 'to', 'say', 'still', 'ended', 'wayyy', 'overpriced', 'tried', 'cape', 'cod', 'ravoli', 'chicken', 'with', 'cranberry', 'mmmm', 'disgusted', 'because', 'pretty', 'sure', 'human', 'hair', 'highly', 'recommended', 'waitress', 'little', 'slow', 'in', 'is', 'worth', 'your', 'let', 'alone', 'vegas', 'did', 'at', 'all', 'burrittos', 'blah', 's', 'right', 'red', 'velvet', 'cake', 'ohhh', 'stuff', 'good', 'never', 'brought', 'salad', 'we', 'asked', 'for', 'took', 'an', 'hour', 'get', 'our', 'food', 'only', '4', 'tables', 'restaurant', 'luke', 'warm', 'sever', 'running', 'around', 'he', 'totally', 'overwhelmed', 'overall', 'lot', 'redeeming', 'quality', 'inexpensive', 'poor', 'waiter', 'me', 'feel', 'stupid', 'every', 'came', 'table', 'first', 'visit', 'hiro', 'delight', 'shrimp', 'tender', 'moist', 'there', 'deal', 'enough', 'would', 'drag', 'into', 'establishment', 'again', 'hard', 'judge', 'whether', 'these', 'sides', 'grossed', 'out', 'melted', 'styrofoam', 'eat', 'fear', 'sick', 'positive', 'note', 'server', 'attentive', 'provided', 'thing', 'prime', 'rib', 'dessert', 'section', 'burger', 'beef', 'cooked', 'ordered', 'duck', 'rare', 'pink', 'inside', 'nice', 'char', 'outside', 'after', 'us', 'when', 'realized', 'husband', 'left', 'his', 'sunglasses', 'have', 'horrible', 'attitudes', 'towards', 'customers', 'talk', 'down', 'each', 'one', 'don', 'enjoy', 'their', 'much', 'seafood', '5', 'strings', 'pasta', 'bottom', 'least', 'think', 'refill', 'water', 'before', 'struggle', 'wave', 'over', '10', 'minutes', 'receives', 'stars', 'appetizers', 'cocktails', 'are', 'handmade', 'delicious', 'd', 'definitely', 'go', 'back', 'here', 'glad', 'found', 'always', 'dos', 'gringos', 'way', 'finish', 'scallop', 'dish', 'quite', 'appalling', 'value', 'as', 'well', 'cheated', 'wasting', 'eating', 'opportunity', 'going', 'rice', 'company', 'coming', 'experiencing', 'underwhelming', 'relationship', 'where', 'both', 'parties', 'can', 'wait', 'other', 'person', 'ask', 'break', 'turkey', 'roast', 'bland', 'has', 'love', 'spring', 'rolls', 'oh', 'yummy', 'try', 'omelets', 'die', 'summary', 'largely', 'disappointing', 'dining', 'experience', 'really', 'sexy', 'party', 'mouth', 're', 'outrageously', 'flirting', 'hottest', 'best', 'breakfast', 'buffet', 'will', 'be', 'fantastic', 'wife', 'loves', 'roasted', 'garlic', 'bone', 'marrow', 'added', 'extra', 'meal', 'another', 'helpful', 'bloddy', 'mary', 'town', 'price', 'cannot', 'beat', 'went', 'tigerlilly', 'afternoon', 'bartender', 'personable', 'got', 'ambience', 'wonderful', 'music', 'playing', 'next', 'trip', 'real', 'sushi', 'lovers', 'honest', 'yama', '40min', 'passed', 'between', 'ordering', 'arriving', 'wasn', 'busy', 'thai', 'which', 'spicy', 'know', 'how', 'managed', 'served', 'blandest', 'eaten', 'preparing', 'indian', 'cuisine', 'host', 'staff', 'lack', 'better', 'word', 'bitches', 'liking', 'number', 'reasons', 'waste', 'bad', 'reviewing', 'll', 'leave', 'mediocre', 'including', 'massive', 'meatloaf', 'sandwich', 'crispy', 'wrap', 'delish', 'tuna', 'melt', 'some', 'burgers', 'management', 'rude', 'nyc', 'bagels', 'selections', 'cream', 'cheese', 'lox', 'capers', 'even', 'subway', 'fact', 'come', 'meet', 'expectations', 'extremely', 'many', 'restaurants', 'dine', 'weekend', 'or', 'friendly', 'rarely', 'checked', 'curry', 'bamboo', 'shoots', 'blanket', 'moz', 'top', 'but', 'done', 'cover', 'subpar', 'bathrooms', 'clean', 'itself', 'decorated', 'changing', 'considering', '3', 'people', 'servers', 'pace', 'give', '2', 'thumbs', 'watched', 'pay', 'more', 'attention', 'ignore', 'fiancé', 'middle', 'day', 'greeted', 'seated', 'away', 'highlights', 'nigiri', 'joint', 'different', 'cut', 'than', 'piece', 'flavored', 'unfortunately', 'must', 'hit', 'bakery', 'leftover', 'everything', 'stale', 'immediately', 'avoid', 'cost', 'full', 'hands', 'places', 'phoenix', 'metro', 'area', 'also', 'spinach', 'avocado', 'ingredients', 'sad', 'dressing', 'literally', 'zero', 'waitresses', 'lordy', 'khao', 'soi', 'missed', 'atmosphere', 'modern', 'hip', 'while', 'maintaining', 'coziness', 'decided', 'send', 'looked', 'she', 'verge', 'having', 'heart', 'attack', 'dressed', 'treated', 'rudely', 'lemon', 'raspberry', 'ice', 'cocktail', 'incredible', 'sucked', 'expected', 'imagined', 'interesting', 'decor', 'crepe', 'station', 'watch', 'them', 'wings', 'feeling', 'satisfied', 'live', 'fridays', 'blows', 've', 'insulted', 'felt', 'disrespected', 'brunch', 'spot', 'inviting', 'lunch', 'worst', 'mixed', 'mushrooms', 'yukon', 'gold', 'puree', 'white', 'corn', 'beateous', 'if', 'bug', 'showed', 'given', 'side', 'wall', 'climbing', 'kitchen', 'friend', 'salmon', 'tartar', 'soggy', 'small', 'hopefully', 'bodes', 'business', 'someone', 'who', 'cook', 'bacon', 'wrapped', 'dates', 'unbelievable', 'bargain', 'mains', 'uninspired', 'fun', 'chef', 'couple', 'drinks', 'any', 'sporting', 'events', 'walls', 'covered', 'tv', 'hardest', 'decision', 'honestly', 'm', 'dishes', 'supposed', 'amazing', 'almost', 'empty', 'excuse', 'close', '30', 'point', 'lighting', 'dark', 'set', 'mood', 'based', 'sub', 'par', 'received', 'effort', 'show', 'gratitude', 'won', 'owner', 'greek', 'creamy', 'flavorful', 'pizza', 'peanut', 'sauce', '7', 'fast', 'godfathers', 'possible', 'make', 'exquisite', 'boot', 'plus', '8', 'bucks', 'either', 'thus', 'far', 'visited', 'twice', 'absolutely', 'year', 'ago', 'self', 'proclaimed', 'coffee', 'cafe', 'wildly', 'disappointed', 'veggitarian', 'platter', 'world', 'cant', 'wrong', 'madison', 'ironman', 'kind', 'chefs', 'job', 'from', 'dedicated', 'boba', 'tea', 'spots', 'jenni', 'liked', 'patio', 'outstanding', 'mac', 'stinks', 'waited', 'recommend', 'things', 'burned', 'saganaki', '100', 'times', 'home', 'hours', 'pizzas', 'later', 'why', 'beer', 'pulled', 'pork', 'soooo', 'incredibly', 'fish', 'prepared', 'excellent', 'drink', 'potato', 'chip', 'order', 'probably', 'count', 'chips', 'box', '12', 'boring', 'check', 'atrocious', 'return', 'expect', 'bus', 'boy', 'hand', 'friends', 'basically', 'figured', 'joke', 'mind', 'making', 'publicly', 'loudly', 'known', 'downside', 'without', 'doubt', 'months', 'returned', 'favorite', 'shawarrrrrrma', 'serve', 'vinaigrette', 'mom', 'few', 'bites', 'pleasant', 'honor', 'hut', 'coupons', 'gross', 'spaghetti', 'nothing', 'special', 'whatsoever', 'vegetables', 'feels', 'authentic', 'driving', 'tucson', 'seen', 'none', 'chipotle', 'brick', 'oven', 'bread', 'app', 'multiple', 'genuinely', 'enthusiastic', 'treat', 'evening', 'offered', 'cool', 'lobster', 'bisque', 'soup', 'lukewarm', 'ambiance', 'space', 'tiny', 'elegantly', 'comfortable', 'customize', 'usual', 'eggplant', 'green', 'bean', 'stir', 'fry', 'beans', 'tacos', 'money', 'outta', 'part', 'says', 'hi', 'outshining', 'halibut', 'terrible', 'told', 'happened', 'unless', 'car', 'breaks', 'front', 'starving', 'disgrace', 'healthy', 'ethic', 'several', 'past', 'reasonable', 'located', 'crystals', 'shopping', 'mall', 'aria', 'kids', 'lots', 'options', 'kiddos', 'perfect', 'family', 'see', 'reminds', 'pop', 'shops', 'san', 'francisco', 'bay', 'today', 'buldogis', 'gourmet', 'hot', 'dog', 'thought', 'frustrated', 'soon', 'petty', 'total', 'gave', 'trying', 'crust', 'teeth', 'sore', 'completely', 'quickly', 'become', 'regular', 'dinner', 'companions', 'ground', 'large', 'smeared', 'stepped', 'tracked', 'everywhere', 'pile', 'bird', 'poop', 'seriously', 'expert', 'connisseur', 'topic', 'jerk', 'nicest', 'owners', 'across', 'quick', 'huge', 'awkward', '1', '5lb', 'cow', '4ths', 'gristle', 'fat', 'take', 'dollars', 'elsewhere', 'anyway', 'fs', 'week', 'mention', 'combination', 'pears', 'almonds', 'big', 'winner', 'tasteless', 'spicier', 'prefer', 'gooodd', 'last', 'contained', 'driest', 'meat', 'enjoyed', 'mouthful', 'enjoyable', 'relaxed', 'venue', 'couples', 'groups', 'etc', 'tater', 'tots', 'southwest', 'im', 'az', 'new', 'manager', 'carly', 'anytime', 'letdown', 'rather', 'camelback', 'flower', 'shop', 'cartel', 'steaks', 'trimmed', 'perfectly', 'group', '70', 'claimed', '40', 'handled', 'beautifully', 'bill', 'bring', 'limited', 'boiled', 'crab', 'legs', 'isn', 'fine', 'dont', 'long', 'then', 'tragedy', 'struck', 'sweet', 'funny', 'multi', 'grain', 'pumpkin', 'pancakes', 'pecan', 'butter', 'fluffy', 'about', 'impressed', 'noca', 'night', 'typical', 'bar', 'glance', 'lovely', 'do', 'such', 'beauty', 'haven', 'gone', 'greasy', 'unhealthy', 'those', 'need', 'pack', 'tiramisu', 'cannoli', 'until', 'two', 'steak', 'wine', 'desserts', 'opinion', 'entrees', 'gc', 'thirty', 'although', 'vacant', 'folks', 'waiting', 'actually', 'second', 'happy', 'bit', 'strange', 'boyfriend', 'recent', 'pleased', 'saving', 'room', 'generous', 'portions', 'consider', 'theft', 'recently', 'witnessed', 'her', 'guests', 'swung', 'deeply', 'efficient', 'look', 'else', 'hate', 'cheap', 'black', 'olives', 'play', 'fo', 'accomodate', 'vegan', 'veggie', 'pale', 'color', 'instead', 'flavor', 'croutons', 'homemade', 'crema', 'café', 'expanded', 'miss', 'wish', 'philadelphia', 'crisp', 'awesome', 'drive', 'north', 'scottsdale', 'quit', 'soooooo', 'freaking', 'papers', 'years', 'reheated', 'ok', 'wedges', 'cold', 'absolute', 'despite', 'rate', 'businesses', 'its', 'star', 'tasted', 'grilled', 'yellow', 'saffron', 'seasoning', 'super', 'especially', 'boys', 'baby', 'four', 'guy', 'blue', 'shirt', 'vibe', 'letting', 'proven', 'dead', 'impeccable', 'promise', 'fails', 'deliver', 'mistake', 'average', '35', 'plater', 'relax', 'sit', 'together', 'poorly', 'constructed', 'seating', 'fried', 'dry', 'personally', 'hummus', 'pita', 'baklava', 'falafels', 'baba', 'ganoush', 'courteous', 'eclectic', 'pictures', 'him', 'used', 'work', 'nobu', 'similar', 'half', 'plantains', 'spends', 'talking', 'themselves', 'fail', 'piano', 'soundtrack', 'sergeant', 'pepper', 'auju', 'walked', 'mortified', 'strip', 'since', '2007', 'others', 'mean', 'famous', 'tonight', 'elk', 'filet', 'old', 'classics', 'sorely', 'cute', 'quaint', 'simple', 'deliciously', 'seasoned', 'thanks', 'dylan', 'tummy', 'fly', 'apple', 'juice', 'barely', 'sitting', 'naan', 'pine', 'nut', 'wouldn', 'airport', 'speedy', 'anything', 'complain', 'extensive', 'provides', 'inflate', 'smaller', 'grow', 'rapidly', 'lil', 'tapas', 'fuzzy', 'level', 'spice', 'whelm', 'shoe', 'leather', 'block', 'sour', 'egg', 'soups', 'sunday', 'bother', 'frozen', 'margaritas', 'sugary', 'satifying', 'flavorless', 'describing', 'tepid', 'chains', 'fan', 'easily', 'once', 'arrives', 'meh', 'paying', '85', 'looks', 'kid', 'wienerschnitzel', 'idea', 'brother', 'law', 'works', 'ate', 'same', 'guess', 'review', 'hereas', 'tribute', 'event', 'held', 'salsa', 'overcooked', 'surprise', 'golden', 'high', 'hopes', 'charcoal', 'grill', 'fell', 'flat', 'bruschetta', 'devine', 'single', 'employee', 'needed', 'finally', 'negligent', 'needs', 'unwelcome', 'suggest', 'consistent', 'packed', 'seasonal', 'fruit', 'peach', 'worse', 'officially', 'should', 'blown', 'crêpe', 'delicate', 'thin', 'awful', 'fair', 'above', 'maria', 'paid', 'tip', 'believe', 'dirty', 'oysters', 'disbelief', 'qualified', 'version', 'foods', 'low', 'tolerance', 'customer', 'polite', 'wash', 'otherwise', 'biscuit', 'amount', 'heat', 'list', 'wines', 'pricey', 'course', 'plethora', 'salads', 'sandwiches', 'gets', 'seal', 'approval', 'college', 'cooking', 'class', 'started', 'editing', 'weird', 'hardly', 'grocery', 'store', 'japanese', 'dude', 'aren', 'doughy', 'albondigas', 'tomato', 'meatballs', 'three', 'occasions', 'medium', 'bloodiest', 'plate', '20', 'allergy', 'warnings', 'clue', 'meals', 'contain', 'peanuts', 'mediterranean', 'strawberry', 'spend', 'toasted', 'equally', 'satisfying', 'occasional', 'pats', 'bellagio', 'anticipated', 'weak', 'correct', 'concept', 'poisoning', 'batch', 'thinking', 'yay', 'something', 'hilarious', 'christmas', 'eve', 'remember', 'biggest', 'entire', 'needless', 'ri', 'style', 'calamari', 'lost', 'ones', 'scene', 'denny', 'waaaaaayyyyyyyyyy', 'rated', 'saying', 'lacked', 'sangria', 'glass', 'ridiculous', 'building', 'seems', 'neat', 'bathroom', 'trippy', 'hurry', 'stretch', 'imagination', 'cashew', 'undercooked', 'setting', 'douchey', 'indoor', 'garden', 'biscuits', 'con', 'spotty', 'neither', 'disappointment', 'said', 'apologize', 'blame', 'placed', 'door', 'del', 'taco', 'avoided', 'gotten', 'services', 'disapppointment', 'cause', 'owned', 'wanted', 'looking', 'yet', 'sashimi', 'brownish', 'obviously', 'below', 'does', 'nachos', 'movies', 'problem', 'charge', '11', '99', 'bigger', 'offers', 'seemed', 'refried', 'dried', 'crusty', 'lady', 'caterpillar']\n",
            "Vocabulary size: 1350\n",
            "Model: \"sequential_18\"\n",
            "_________________________________________________________________\n",
            "Layer (type)                 Output Shape              Param #   \n",
            "=================================================================\n",
            "embedding_19 (Embedding)     (None, 100, 100)          133200    \n",
            "_________________________________________________________________\n",
            "conv1d_5 (Conv1D)            (None, 96, 128)           64128     \n",
            "_________________________________________________________________\n",
            "global_max_pooling1d_5 (Glob (None, 128)               0         \n",
            "_________________________________________________________________\n",
            "dense_13 (Dense)             (None, 1)                 129       \n",
            "=================================================================\n",
            "Total params: 197,457\n",
            "Trainable params: 64,257\n",
            "Non-trainable params: 133,200\n",
            "_________________________________________________________________\n",
            "None\n",
            "Epoch 1/50\n",
            "WARNING:tensorflow:Model was constructed with shape (None, 100) for input KerasTensor(type_spec=TensorSpec(shape=(None, 100), dtype=tf.float32, name='embedding_19_input'), name='embedding_19_input', description=\"created by layer 'embedding_19_input'\"), but it was called on an input with incompatible shape (None, 10).\n",
            "4/4 [==============================] - 0s 10ms/step - loss: nan - acc: 0.4910\n",
            "Epoch 2/50\n",
            "4/4 [==============================] - 0s 10ms/step - loss: nan - acc: 0.4910\n",
            "Epoch 3/50\n",
            "4/4 [==============================] - 0s 13ms/step - loss: nan - acc: 0.4910\n",
            "Epoch 4/50\n",
            "4/4 [==============================] - 0s 9ms/step - loss: nan - acc: 0.4910\n",
            "Epoch 5/50\n",
            "4/4 [==============================] - 0s 10ms/step - loss: nan - acc: 0.4910\n",
            "Epoch 6/50\n",
            "4/4 [==============================] - 0s 9ms/step - loss: nan - acc: 0.4910\n",
            "Epoch 7/50\n",
            "4/4 [==============================] - 0s 10ms/step - loss: nan - acc: 0.4910\n",
            "Epoch 8/50\n",
            "4/4 [==============================] - 0s 10ms/step - loss: nan - acc: 0.4910\n",
            "Epoch 9/50\n",
            "4/4 [==============================] - 0s 13ms/step - loss: nan - acc: 0.4910\n",
            "Epoch 10/50\n",
            "4/4 [==============================] - 0s 11ms/step - loss: nan - acc: 0.4910\n",
            "Epoch 11/50\n",
            "4/4 [==============================] - 0s 10ms/step - loss: nan - acc: 0.4910\n",
            "Epoch 12/50\n",
            "4/4 [==============================] - 0s 11ms/step - loss: nan - acc: 0.4910\n",
            "Epoch 13/50\n",
            "4/4 [==============================] - 0s 10ms/step - loss: nan - acc: 0.4910\n",
            "Epoch 14/50\n",
            "4/4 [==============================] - 0s 10ms/step - loss: nan - acc: 0.4910\n",
            "Epoch 15/50\n",
            "4/4 [==============================] - 0s 13ms/step - loss: nan - acc: 0.4910\n",
            "Epoch 16/50\n",
            "4/4 [==============================] - 0s 10ms/step - loss: nan - acc: 0.4910\n",
            "Epoch 17/50\n",
            "4/4 [==============================] - 0s 10ms/step - loss: nan - acc: 0.4910\n",
            "Epoch 18/50\n",
            "4/4 [==============================] - 0s 11ms/step - loss: nan - acc: 0.4910\n",
            "Epoch 19/50\n",
            "4/4 [==============================] - 0s 10ms/step - loss: nan - acc: 0.4910\n",
            "Epoch 20/50\n",
            "4/4 [==============================] - 0s 10ms/step - loss: nan - acc: 0.4910\n",
            "Epoch 21/50\n",
            "4/4 [==============================] - 0s 9ms/step - loss: nan - acc: 0.4910\n",
            "Epoch 22/50\n",
            "4/4 [==============================] - 0s 9ms/step - loss: nan - acc: 0.4910\n",
            "Epoch 23/50\n",
            "4/4 [==============================] - 0s 11ms/step - loss: nan - acc: 0.4910\n",
            "Epoch 24/50\n",
            "4/4 [==============================] - 0s 10ms/step - loss: nan - acc: 0.4910\n",
            "Epoch 25/50\n",
            "4/4 [==============================] - 0s 9ms/step - loss: nan - acc: 0.4910\n",
            "Epoch 26/50\n",
            "4/4 [==============================] - 0s 12ms/step - loss: nan - acc: 0.4910\n",
            "Epoch 27/50\n",
            "4/4 [==============================] - 0s 10ms/step - loss: nan - acc: 0.4910\n",
            "Epoch 28/50\n",
            "4/4 [==============================] - 0s 11ms/step - loss: nan - acc: 0.4910\n",
            "Epoch 29/50\n",
            "4/4 [==============================] - 0s 11ms/step - loss: nan - acc: 0.4910\n",
            "Epoch 30/50\n",
            "4/4 [==============================] - 0s 10ms/step - loss: nan - acc: 0.4910\n",
            "Epoch 31/50\n",
            "4/4 [==============================] - 0s 13ms/step - loss: nan - acc: 0.4910\n",
            "Epoch 32/50\n",
            "4/4 [==============================] - 0s 10ms/step - loss: nan - acc: 0.4910\n",
            "Epoch 33/50\n",
            "4/4 [==============================] - 0s 11ms/step - loss: nan - acc: 0.4910\n",
            "Epoch 34/50\n",
            "4/4 [==============================] - 0s 9ms/step - loss: nan - acc: 0.4910\n",
            "Epoch 35/50\n",
            "4/4 [==============================] - 0s 10ms/step - loss: nan - acc: 0.4910\n",
            "Epoch 36/50\n",
            "4/4 [==============================] - 0s 10ms/step - loss: nan - acc: 0.4910\n",
            "Epoch 37/50\n",
            "4/4 [==============================] - 0s 11ms/step - loss: nan - acc: 0.4910\n",
            "Epoch 38/50\n",
            "4/4 [==============================] - 0s 11ms/step - loss: nan - acc: 0.4910\n",
            "Epoch 39/50\n",
            "4/4 [==============================] - 0s 10ms/step - loss: nan - acc: 0.4910\n",
            "Epoch 40/50\n",
            "4/4 [==============================] - 0s 9ms/step - loss: nan - acc: 0.4910\n",
            "Epoch 41/50\n",
            "4/4 [==============================] - 0s 10ms/step - loss: nan - acc: 0.4910\n",
            "Epoch 42/50\n",
            "4/4 [==============================] - 0s 11ms/step - loss: nan - acc: 0.4910\n",
            "Epoch 43/50\n",
            "4/4 [==============================] - 0s 16ms/step - loss: nan - acc: 0.4910\n",
            "Epoch 44/50\n",
            "4/4 [==============================] - 0s 11ms/step - loss: nan - acc: 0.4910\n",
            "Epoch 45/50\n",
            "4/4 [==============================] - 0s 10ms/step - loss: nan - acc: 0.4910\n",
            "Epoch 46/50\n",
            "4/4 [==============================] - 0s 11ms/step - loss: nan - acc: 0.4910\n",
            "Epoch 47/50\n",
            "4/4 [==============================] - 0s 10ms/step - loss: nan - acc: 0.4910\n",
            "Epoch 48/50\n",
            "4/4 [==============================] - 0s 10ms/step - loss: nan - acc: 0.4910\n",
            "Epoch 49/50\n",
            "4/4 [==============================] - 0s 9ms/step - loss: nan - acc: 0.4910\n",
            "Epoch 50/50\n",
            "4/4 [==============================] - 0s 10ms/step - loss: nan - acc: 0.4910\n",
            "WARNING:tensorflow:Model was constructed with shape (None, 100) for input KerasTensor(type_spec=TensorSpec(shape=(None, 100), dtype=tf.float32, name='embedding_19_input'), name='embedding_19_input', description=\"created by layer 'embedding_19_input'\"), but it was called on an input with incompatible shape (None, 10).\n",
            "Test Accuracy: 0.5050301551818848\n"
          ],
          "name": "stdout"
        }
      ]
    },
    {
      "cell_type": "code",
      "metadata": {
        "colab": {
          "base_uri": "https://localhost:8080/",
          "height": 573
        },
        "id": "tpI2p8_LhYr7",
        "outputId": "adf4980e-c751-4dd9-fddc-7c721f951d23"
      },
      "source": [
        "plt.plot(history.history['acc'])\r\n",
        "plt.plot(history.history['val_acc'])\r\n",
        "\r\n",
        "plt.title('model accuracy')\r\n",
        "plt.ylabel('accuracy')\r\n",
        "plt.xlabel('epoch')\r\n",
        "plt.legend(['train','test'], loc = 'upper left')\r\n",
        "plt.show()\r\n",
        "\r\n",
        "plt.plot(history.history['loss'])\r\n",
        "plt.plot(history.history['val_loss'])\r\n",
        "\r\n",
        "plt.title('model loss')\r\n",
        "plt.ylabel('loss')\r\n",
        "plt.xlabel('epoch')\r\n",
        "plt.legend(['train','test'], loc = 'upper left')\r\n",
        "plt.show()"
      ],
      "execution_count": null,
      "outputs": [
        {
          "output_type": "display_data",
          "data": {
            "image/png": "[encoded data removed]",
            "text/plain": [
              "<Figure size 432x288 with 1 Axes>"
            ]
          },
          "metadata": {
            "tags": [],
            "needs_background": "light"
          }
        },
        {
          "output_type": "display_data",
          "data": {
            "image/png": "[encoded data removed]",
            "text/plain": [
              "<Figure size 432x288 with 1 Axes>"
            ]
          },
          "metadata": {
            "tags": [],
            "needs_background": "light"
          }
        }
      ]
    },
    {
      "cell_type": "code",
      "metadata": {
        "id": "PRmKEtfUFobp"
      },
      "source": [
        "def accuracy(predictions, actual):\n",
        "    return sum((predictions == actual)) / len(actual)"
      ],
      "execution_count": null,
      "outputs": []
    },
    {
      "cell_type": "code",
      "metadata": {
        "tags": [
          "outputPrepend"
        ],
        "id": "qV6Cau4lFobq",
        "outputId": "7e768292-6db9-49df-c3ee-67d998050a90"
      },
      "source": [
        "train_confidence_scores, trainingPredictions = nbClassifier.predict(training)\n",
        "test_confidence_scores, testingPredictions = nbClassifier.predict(testing)\n",
        "\n"
      ],
      "execution_count": null,
      "outputs": [
        {
          "output_type": "stream",
          "text": [
            "312820103e-06, 3.343127081284343e-06], [1.0429319733369346e-08, 1.2346776152470574e-07], [2.4520622256110316e-12, 1.2538845790920111e-12], [0.03380197895791584, 0.0019877812304771487], [1.350687046504654e-23, 3.5826967735871363e-25], [8.836086066793038e-29, 1.303078547387358e-25], [1.0741319721877296e-06, 3.059617774625391e-08], [2.563643104178912e-23, 4.7919856096583716e-23], [4.5893091238197026e-18, 3.980582076268672e-21], [3.830383589526779e-37, 2.662190344559893e-32], [1.1390109171469797e-13, 4.351699056912264e-12], [8.315149295561593e-18, 6.482662238494719e-19], [3.546610488584047e-21, 2.1777803272645443e-18], [6.990298957289591e-05, 8.047697289381167e-06], [5.506281109065553e-13, 5.436337451350784e-13], [3.703424559755498e-12, 3.460047800669032e-14], [3.072861634906724e-25, 2.9804247677836746e-27], [3.827299199009152e-14, 9.970704412261283e-13], [3.725179608670154e-18, 7.731832658368737e-15], [1.0315545336278034e-05, 6.516354080470573e-08], [1.9643860747795065e-06, 7.253875182695637e-08], [2.126159045643705e-06, 7.202286088941147e-08], [4.586530382743106e-07, 4.173632451540264e-06], [1.317573535314133e-22, 2.797395623396782e-26], [1.0531508405730368e-42, 2.639854845381159e-37], [3.02334766440586e-10, 5.130758312142784e-12], [3.845574621686008e-06, 2.0476653372866602e-05], [1.4713231635048038e-11, 5.0798115110889105e-11], [2.9668481661452424e-28, 3.1918340671731467e-25], [1.0077825548019534e-09, 2.1500320546122157e-11], [4.925779561570037e-08, 2.0187036686537057e-09], [3.8818290999778826e-10, 2.4774232992918103e-09], [5.582530417279876e-06, 4.235630152305878e-07], [1.046620340734028e-30, 9.291205980488452e-35], [2.6509374208964345e-33, 6.459560071746085e-34], [1.0647724219337308e-23, 1.851950263488733e-21], [1.6420944184269167e-22, 8.786797537744166e-19], [1.9522269386686963e-14, 1.0296093657861298e-15], [3.030120892323405e-39, 6.837254007025159e-32], [2.8000470078832024e-09, 1.1383667304438203e-11], [1.2874077680667033e-11, 5.77251308078283e-13], [1.1049909508323898e-14, 4.335197329625827e-16], [3.531166734181808e-16, 1.04036493145358e-15], [4.263129740146821e-21, 2.6360392613232245e-18], [1.2060188519190074e-11, 2.8758738453317463e-11], [4.138627025053353e-07, 2.172509662455891e-08], [8.673963301127149e-11, 5.632031567754942e-13], [6.770632151124232e-11, 1.4360934137906664e-11], [1.0075365141391563e-11, 2.5111642918135705e-09], [8.632772348348909e-20, 5.575290949698715e-23], [1.3227809482917113e-17, 2.7036958895378267e-17], [8.441678986249076e-18, 2.5079472794396644e-15], [1.882894516655399e-11, 1.0989976826875013e-12], [1.1197710920423434e-13, 3.690078679383866e-15], [1.7504303982947917e-20, 9.328149070884454e-24], [1.0170529697228552e-11, 1.4723413930741694e-12], [4.192688507582034e-28, 8.284134078531925e-24], [4.03014605655663e-10, 4.102924682033343e-11], [8.53307978184764e-07, 2.0058762487706048e-05], [7.03235096648659e-24, 2.0696026176660572e-20], [1.1650498262149325e-05, 1.778964663968468e-05], [0.00018932059675992626, 0.0013246444574780607], [1.5137267339831128e-13, 4.807645365140145e-13], [8.521720872793802e-15, 7.496770234782929e-14], [6.544101207759914e-29, 9.202101184853513e-26], [2.0817420721033615e-37, 3.812606211290197e-31], [1.2076566643857503e-16, 3.0764262146338247e-13], [2.7493324507503287e-16, 2.344104277522973e-21], [1.7316264587177574e-17, 5.099077146228134e-18], [4.953661061840485e-15, 3.3171549711428815e-16], [7.531335443190232e-08, 2.5456782686252376e-09], [1.056218615575381e-08, 1.398472177115031e-10], [2.716294230209375e-36, 5.399120738663614e-31], [2.4639267870085107e-06, 5.12866086333393e-06], [5.6796179027977884e-05, 9.579040498291758e-06], [2.145918757617748e-29, 8.095379705246793e-26], [7.033392413382607e-12, 7.192460012120862e-11], [4.004858777613829e-06, 5.2782468051811675e-05], [7.726313538038819e-16, 1.0668714190241024e-13], [1.3353126723682234e-38, 3.674309129480531e-34], [5.733162978428877e-07, 6.387178407620333e-07], [3.779789079432383e-19, 1.330651722638387e-16], [1.7930324018644393e-17, 5.8455678126342625e-19], [9.926499026009361e-10, 3.8788792296604113e-11], [1.6952383520987065e-28, 1.2941782751595694e-30], [3.2205051376843306e-28, 2.5957179000774397e-25], [8.126606962322816e-28, 3.413941097643173e-25], [7.645639484535474e-06, 1.8767099751755272e-05], [2.3328299879674863e-11, 1.6418426598856944e-10], [1.5347096539338842e-16, 1.519496739841115e-17], [9.917918190123382e-13, 9.044223028821091e-13], [2.932317188647461e-20, 2.8448317409650404e-17], [3.4252137977400476e-10, 2.668266384307797e-10], [5.923201141323714e-14, 1.249461705797154e-15], [1.7679917769418426e-16, 7.87699406537227e-18], [1.8712215599705118e-18, 1.7721428338073612e-20], [3.568358487576187e-11, 1.0516724236244064e-13], [6.97291994939525e-15, 3.90957572945e-14], [2.7999168034187612e-08, 1.4098882765200469e-08], [2.6608477745796842e-17, 1.7293149787408518e-15], [4.0134007112992544e-07, 1.0671977289257027e-09], [8.947706802231534e-16, 7.642174779789151e-18], [1.376009276133842e-34, 1.0366710756060994e-37], [7.700161483720769e-13, 4.810427567319034e-11], [1.1848606264467426e-10, 3.4810454625157514e-12], [1.9976275651493666e-15, 1.2700823780146936e-12], [1.0285698471121132e-13, 9.999558656234756e-17], [2.7130645416594105e-38, 2.62781583286543e-33], [3.422120537511817e-08, 3.937817956320499e-06], [4.5209971788295615e-11, 1.598542083909092e-11], [2.889514141128159e-05, 0.00019317955918557783], [1.9247136987049755e-21, 8.530688541618665e-20], [1.6769150096154504e-28, 5.666115693919004e-25], [7.121172338726877e-15, 4.357902896279077e-15], [1.1484103206403295e-05, 1.0371291968075279e-05], [3.549576557862703e-18, 3.840383539223813e-19], [4.560296250048432e-19, 1.1525021192809184e-21], [7.966923369970923e-31, 1.244057967103134e-34], [3.596678029461124e-25, 7.389482895331642e-29], [1.9985923284620812e-12, 2.888742066760269e-15], [4.602721586310614e-28, 4.186808679202303e-31], [2.065728704153719e-34, 7.951232223795971e-35], [2.0934489064799516e-06, 1.6942520609223515e-06], [6.479706550880605e-11, 2.524714291494955e-10], [1.533803414866247e-13, 1.928262719657941e-14], [4.811708876986314e-08, 7.661332894609928e-07], [5.2895563680657985e-12, 1.1810255258162393e-09], [6.7489840056172e-22, 4.9082673239562643e-20], [1.1748918471376917e-11, 4.6122890357320697e-10], [1.1049264923107372e-17, 8.182414638322532e-18], [9.71795590877226e-25, 9.58883496150185e-26], [8.487781817701324e-40, 4.8397995198073246e-36], [1.7191489051552345e-20, 2.5807352169320633e-23], [7.615773705299018e-07, 5.926452553185874e-06], [4.6378588443057446e-18, 4.9251394928823215e-18], [1.9643860747795065e-06, 7.253875182695637e-08], [5.276393448315061e-30, 9.195622081974432e-26], [4.1814035317722496e-08, 2.4993473992855424e-10], [1.072851727296994e-15, 4.715463374363114e-14], [2.0481162257150824e-08, 7.767514035176055e-09], [7.720745170602892e-15, 4.834719795997712e-17], [7.089268196749539e-21, 3.2293444254349087e-23], [5.826271348599301e-21, 3.382343176150533e-22], [9.557049355669368e-06, 1.4075324813816468e-05], [9.73656515660488e-29, 1.1205708593531297e-30], [9.407720459487037e-06, 4.843735259815379e-06], [6.569994505135034e-18, 2.1574299929710332e-16], [1.1145526392639755e-17, 1.247702004863528e-15], [1.2401145192994513e-29, 4.840824198523709e-34], [4.852286374972383e-10, 2.8097009804591422e-11], [2.36062394120153e-17, 8.873636043866684e-19], [1.9263427607521053e-06, 1.5025076825544972e-05], [9.299907195880557e-25, 1.4986678105937808e-20], [1.6203222242006708e-11, 4.285318314159625e-09], [5.578906381457315e-29, 5.254012703065911e-25], [2.4695670774159013e-15, 3.548152576330647e-17], [8.037744674497099e-27, 8.183149464529837e-28], [0.0002839808951398892, 0.00011755502761168931], [1.818761048748233e-27, 2.432433032070768e-22], [1.5308519110718976e-26, 9.690104386578712e-24], [5.077621476251967e-09, 3.245684876996635e-10], [1.256631700944491e-17, 1.1649163402312223e-18], [2.1413066188947695e-16, 3.941060010548044e-15], [1.723174709135287e-11, 3.161381373698019e-10], [1.2325559684891018e-08, 8.125656100343896e-08], [4.85318912592584e-08, 2.3686123045536773e-08], [4.794666795162652e-32, 2.575552267854134e-36], [8.538707691809353e-13, 4.822632996507745e-14], [6.225331785140332e-09, 4.0397970710345347e-10], [2.8697063963611067e-08, 3.550863558937618e-07], [5.361609619874385e-14, 3.3204721261140276e-12], [1.9101213080554857e-10, 2.3343789161847047e-11], [1.4592896366548512e-11, 8.700199140892813e-13], [4.0324942650844194e-22, 2.092861627292624e-25], [4.131845049283291e-15, 2.6391322140565157e-13], [2.398945820865909e-13, 9.306835607295598e-16], [6.604881415787291e-14, 3.3185371190475277e-14], [3.022132422737706e-08, 1.0974912135529394e-07], [9.244169763668282e-08, 4.748760058642527e-08], [2.050828841099934e-30, 1.0798778599588406e-32], [1.0529951024432996e-16, 7.422552100062369e-17], [1.261101443713381e-10, 5.558888300641262e-11], [7.766998841432862e-06, 0.00024143091868143515], [2.951301194079799e-11, 1.0378272186382423e-13], [7.125437678978824e-18, 5.40997291274697e-19], [7.417294111291685e-34, 1.358885187734719e-28], [3.175143504380176e-20, 6.184758886637792e-17], [2.6249220032050857e-09, 4.4860081525638e-11], [3.0075899871477526e-22, 1.0403991305042253e-23], [6.186665128089761e-10, 4.0655151578121865e-09], [2.8776958715717018e-36, 1.897944936333918e-36], [0.00037281594438877755, 7.242927560443055e-05], [5.0250785496625076e-11, 1.168047223334739e-10], [0.0008448431630411703, 0.0002609148173820418], [6.875351261728283e-08, 4.934608967820171e-10], [0.0009748190342782734, 7.037662406908229e-05], [2.702141930918422e-07, 1.2536726554816276e-06], [7.33621671252611e-27, 1.0058861772430191e-22], [0.0008077678795090181, 0.0037180361476940984], [4.420752301148518e-19, 2.120784299636227e-16], [4.4707753587401616e-08, 2.579620645540249e-08], [5.859408265031636e-10, 3.126777918757369e-12], [1.1054579624850017e-17, 1.2788192712760593e-17], [1.1499658299755609e-09, 8.331157997618435e-11], [4.042078568435488e-21, 4.210534199303463e-18], [6.998489963902443e-11, 2.189123546514257e-10], [8.149222779551391e-13, 1.7932483070494674e-14], [4.792631343208764e-17, 1.507451601870069e-19], [1.0622783110004107e-21, 2.8147209954702684e-19], [4.598996153594522e-16, 3.032609039598852e-18], [2.2877659437523606e-17, 9.0957476154551e-15], [1.926802412265683e-24, 1.1644300229111739e-26], [4.844522716772394e-07, 6.326348137071548e-06], [2.4296901938237243e-14, 8.492530520711761e-15], [4.3851355324584955e-13, 1.939110609536733e-15], [8.839737336507806e-07, 9.420617120383951e-09], [0.0008943734246349043, 0.00017529256296469102], [0.0003478765965463643, 9.618138622774567e-05], [1.794405170487211e-24, 5.884494227433749e-23], [2.078304581887059e-37, 4.3547755943737544e-33], [4.2584519544280474e-19, 3.3459797799811374e-17], [6.514669535325143e-23, 3.345174569819234e-20], [3.318419915162971e-08, 1.9786500244343867e-09], [3.713155136041581e-31, 1.0735022230952434e-26], [6.257591840021612e-07, 1.337250832513735e-05], [8.755737819929104e-14, 4.693969314980356e-12], [8.407539843289987e-17, 8.766327345237152e-19], [4.311291153779741e-05, 3.258177040235288e-06], [5.14745474986849e-29, 1.3796348965792373e-33], [5.837776090445465e-27, 2.9930633029132482e-30], [2.5019601620951297e-11, 1.121704246379396e-11], [1.0124541485750988e-14, 1.9770562585220406e-13], [4.574793022011678e-31, 1.5456272794531e-33], [5.2485940435514935e-06, 2.9392325415597876e-07], [1.7777249545515953e-08, 7.038162276388093e-07], [2.4150154194889794e-17, 2.033516001592197e-16], [4.186897812959912e-06, 1.3554016487378816e-05], [9.283990802650242e-06, 3.0496537096602295e-05], [6.999792008546884e-08, 5.998433758285292e-07], [5.711279812474914e-15, 1.3065763099797803e-11], [1.964908070919879e-15, 6.122362358406078e-14], [7.524875129769185e-14, 1.159369119563451e-17], [6.587434263748802e-24, 2.7537652990692535e-25], [3.2177273642001777e-16, 4.914009200652092e-13], [6.084487174616793e-09, 2.2868522762693567e-10], [2.755655423286582e-12, 1.9998384278306945e-10], [6.469679031231057e-30, 1.9696751782412613e-33], [7.463580500634746e-12, 1.6359348811935216e-14], [0.0010563118424348704, 1.6095394578762334e-05], [9.320398609719445e-05, 1.6095394578762334e-05], [3.807536863049081e-06, 2.2594100489541315e-07], [2.6413577848882893e-27, 1.8881172218696213e-30], [7.650788235833208e-24, 2.929258196826667e-25], [3.2001816026798147e-10, 3.668866278423225e-09], [8.329501604986437e-14, 4.440394677525286e-11], [1.9786137827792654e-10, 2.238604191408172e-12], [1.0115301617509805e-18, 3.756355947385605e-17], [9.466029837996318e-06, 2.736868713797645e-06], [6.06796784486943e-08, 7.819624896564699e-07], [9.370689305609779e-14, 4.1947048235731587e-16], [1.5909993763322943e-13, 2.539984346600699e-10], [7.657998355916891e-21, 1.6696034931220636e-23], [8.530996510416545e-10, 1.0327262978586327e-08], [1.4467494007651492e-33, 5.2423385787523665e-30], [0.00011468459226803216, 0.0004128761945386161], [5.128496158140735e-14, 2.2987883950020257e-12], [6.522836921836608e-17, 3.206156577558214e-18], [2.6543804362387093e-14, 1.9848615241823164e-14], [4.33320457671951e-09, 1.9933256796763476e-07], [3.6297541906031514e-29, 2.6267950736704533e-27], [1.0922342120764982e-06, 1.9549062241411765e-06], [2.1974281953170377e-08, 6.314140798195032e-10], [3.172368775336628e-16, 2.888596501526384e-14], [4.653531013593756e-34, 1.2641091268715941e-30], [1.8962399515216993e-09, 3.9573000488687624e-10], [2.4939357689446667e-19, 3.719011594147006e-23], [3.839001690459492e-24, 2.255905738162745e-24], [8.25042151407393e-06, 2.590669708105582e-08], [1.0622090381622155e-11, 1.2663676966794165e-10], [1.4986129246887948e-28, 3.957704577663522e-25], [3.1985286163147993e-09, 5.744094554846708e-09], [4.450158222448958e-33, 6.438880669635494e-37], [7.694565436130897e-16, 1.6642769797138536e-12], [2.0058445911867098e-19, 2.065550263494933e-21], [3.808480585007384e-12, 9.733726861122848e-12], [6.631054772517751e-14, 8.332299150484753e-16], [1.3649594416666427e-08, 1.6553370082960376e-07], [1.6061152389388771e-06, 1.7323476693927912e-05], [8.192290822733728e-16, 5.539783099580723e-18], [2.7894789531926585e-27, 1.7542705053132685e-24], [5.1199189008130275e-22, 2.028551778625654e-24], [1.7763075277383607e-22, 1.3172414146919754e-23], [5.99506789617549e-25, 2.4261432556803964e-26], [2.998211778137039e-17, 3.2112572812043144e-16], [1.9263427607521073e-05, 3.2196593197596287e-06], [4.236603599541441e-20, 1.020489923415147e-21], [1.9694180216994467e-12, 3.405612437040019e-15], [6.458567398327926e-13, 9.269727561577421e-11], [3.426328529712851e-18, 1.1221639105447322e-16], [2.3659296988888524e-07, 5.297078426547323e-06], [8.366938885216211e-09, 4.353339239781206e-09], [5.826271348599135e-21, 2.5585312163093925e-18], [9.535103043833418e-20, 3.4743170252624145e-17], [1.2397397737654214e-12, 1.0465458076207293e-11], [1.5414482489710257e-42, 8.957465525878875e-39], [2.557288840993774e-38, 5.504343420815145e-35], [3.0640892361901436e-34, 4.96669521139842e-37], [1.0955616947186295e-12, 1.7882688984706468e-13], [0.00023300996524298637, 0.0012071545934071747], [5.938180033557873e-15, 8.755181681854843e-16], [4.950252908444368e-06, 1.8652821898360252e-07], [1.5993437786557165e-16, 2.506294867085737e-14], [1.8008528616227085e-09, 5.3093055606124556e-11], [4.738314067095107e-09, 4.328604357736977e-11], [1.2416125267259652e-36, 7.638985919803753e-34], [1.5606465352729367e-15, 3.8027307121681534e-16], [1.7270921850938245e-43, 4.331663064279755e-37], [4.4884611309639777e-26, 1.9039837531458298e-28], [4.083920794907802e-28, 3.481361679157684e-25], [1.1119070317361239e-17, 4.594392315788015e-16], [4.969665664948065e-05, 0.00019236277245549138], [9.68785109749194e-14, 1.441686583612102e-15], [1.120729440576368e-18, 1.8660123340186211e-16], [1.3078089045916495e-12, 1.4369915334990994e-11], [2.9372296178442392e-12, 6.305248169148412e-11], [1.9105877601453677e-10, 5.4838874267437065e-12], [0.0001864079721943886, 0.0003380032861540089], [1.3996979927804878e-09, 1.965890553284181e-09], [7.644746093554214e-29, 8.224022914627035e-24], [4.8291881729881506e-21, 2.7732300055527915e-22], [3.746970144206867e-05, 8.471260304611752e-06], [2.724315821371096e-25, 9.759220978755753e-21], [3.09558062550131e-10, 3.4090180494770704e-12], [1.9031245267073047e-10, 3.501991269008261e-10], [2.8635910045385506e-21, 1.0118120612416105e-23], [4.049063280201733e-16, 9.861836646441301e-14], [2.8697063963611067e-08, 3.550863558937618e-07], [4.4784053266068757e-29, 1.6160667917837686e-25], [8.231417235120849e-44, 8.277486513977568e-39], [8.659216596518223e-10, 1.5097341903585956e-11], [2.340659092371939e-14, 1.5878740931339604e-16], [6.89712865456823e-15, 3.822450338710699e-17], [5.186081233816852e-32, 7.186899916806348e-33], [9.857965578457588e-14, 9.703902462374791e-16], [2.9537458823253214e-17, 3.139214846817967e-18], [3.2499034325396247e-09, 3.955678443839648e-09], [2.755798174113308e-25, 4.67724476832131e-27], [2.8040435423168103e-12, 8.19352295299281e-13], [1.0999592030262657e-30, 1.9873695870620196e-27], [1.2855030449332167e-24, 2.9030107189322788e-22], [5.3331748636547865e-09, 1.1080440136832558e-08], [5.83316000712243e-10, 1.8456719256262427e-08], [1.802055635694189e-15, 1.2656023696266378e-13], [2.607140676640927e-18, 1.1225389157566506e-21], [5.769096371734314e-26, 1.6456105128210517e-24], [1.0581716825420523e-08, 3.32473138626853e-07], [4.29226485963716e-26, 4.3545148793072144e-23], [3.090057349534179e-38, 1.8272544722370432e-33], [9.0297316910255e-08, 3.284834609633305e-06], [6.079493121349664e-15, 2.4520409546688274e-12], [1.354298840269657e-35, 1.2268584848738318e-30], [9.517106326009951e-17, 1.7790487847687166e-18], [1.802484827191482e-17, 7.355042234101683e-20], [9.64246348434506e-07, 4.393297317410801e-08], [4.498767691039968e-10, 5.637242154783638e-10], [5.925749848505304e-10, 2.8492560351855214e-08], [1.0540217659013064e-23, 3.268343359762032e-27], [5.91299505462153e-16, 2.724981178621942e-14], [3.348077598730933e-09, 7.336984386364199e-09], [1.679950082051254e-08, 2.3255466262890695e-07], [0.0001786409733529558, 0.0005231003238097762], [1.7620099549009767e-13, 1.602548455046711e-11], [9.841626511737829e-12, 3.216114430721877e-10], [1.3087775045644922e-26, 3.1270722165348595e-23], [8.16617883190527e-37, 8.360106190633118e-33], [3.4139142959095487e-19, 1.8728270392948095e-15], [2.927883887242e-12, 1.3332256185537973e-10], [6.14801351040577e-16, 2.007725688678567e-13], [2.3527140582222364e-37, 2.43340836182425e-32], [2.0619637985866415e-22, 5.943981809278422e-21], [5.463596759382871e-15, 9.430926748726279e-14], [1.3060352666105704e-07, 8.547768105556554e-07], [1.5058670562533336e-21, 3.1826238647969054e-20], [1.1851499697010615e-10, 4.811243743624658e-08], [5.13508805656818e-28, 1.6800020941523035e-25], [1.3813283870942182e-12, 1.6611462903810975e-10], [7.729777489427418e-13, 9.946484077656614e-12], [1.387911339209777e-16, 9.432627156768237e-15], [8.058663048968638e-21, 1.1337617436299799e-18], [2.4287879656702057e-10, 1.4267813304979224e-09], [6.574946051381422e-19, 5.056756218401249e-15], [5.1812081910281474e-33, 4.404143129223322e-29], [7.281561413843325e-07, 2.736868713797645e-06], [1.7987330956158716e-14, 6.602839009737786e-13], [7.05447788361368e-10, 6.966103856943589e-09], [9.421719518335086e-29, 2.6788167363216057e-24], [2.589810986016742e-27, 4.079018724150581e-23], [8.381523594054047e-21, 1.294794002475437e-18], [1.9610317326127448e-31, 3.814414562062337e-28], [5.972044769196756e-11, 4.515067314685656e-09], [1.502844811744326e-19, 2.1295053721806178e-17], [5.589833903968152e-07, 7.983973009525403e-06], [2.66887961715114e-24, 2.8947400331233625e-22], [4.4377664397956716e-28, 1.0722736173097778e-23], [5.831816804083413e-27, 2.6299382782645683e-23], [2.2399334427350055e-07, 2.2794048281484123e-06], [1.5306553376014938e-32, 1.4668708236502344e-28], [5.946567374300794e-44, 1.0284711121246457e-38], [1.9101175773570908e-14, 9.948645331703219e-12], [7.654259555359545e-25, 3.4927243537426274e-22], [1.76577458706201e-26, 5.469348989068768e-23]]\n"
          ],
          "name": "stdout"
        }
      ]
    },
    {
      "cell_type": "code",
      "metadata": {
        "id": "Qc1xEghaFobq",
        "colab": {
          "referenced_widgets": [
            "7c02f4784a4748a1a6ca11e2fdf5970f"
          ]
        },
        "outputId": "38513a25-e4ce-45c3-8aa1-d7cbaa281660"
      },
      "source": [
        "def accuracy_button(arg):\n",
        "    print(\"Training accuracy:\", accuracy(trainingPredictions, trainingLabels))\n",
        "    print(\"Testing accuracy:\", accuracy(testingPredictions, testingLabels))\n",
        "\n",
        "button_download = widgets.Button(description = 'Model Accuracy')   \n",
        "button_download.on_click(accuracy_button)\n",
        "display(button_download)"
      ],
      "execution_count": null,
      "outputs": [
        {
          "output_type": "display_data",
          "data": {
            "text/plain": [
              "Button(description='Model Accuracy', style=ButtonStyle())"
            ],
            "application/vnd.jupyter.widget-view+json": {
              "version_major": 2,
              "version_minor": 0,
              "model_id": "7c02f4784a4748a1a6ca11e2fdf5970f"
            }
          },
          "metadata": {
            "tags": []
          }
        }
      ]
    },
    {
      "cell_type": "code",
      "metadata": {
        "id": "m5LKjulOFobr",
        "outputId": "ff6af9b9-7ba1-45c3-a3e3-6d23fd31d7e4"
      },
      "source": [
        "import pandas as pd\n",
        "import seaborn as sn\n",
        "import matplotlib.pyplot as plt\n",
        "\n",
        "data = {'Actual':    testingLabels,\n",
        "        'Predicted': testingPredictions\n",
        "        }\n",
        "\n",
        "df = pd.DataFrame(data, columns=['Actual','Predicted'])\n",
        "confusion_matrix = pd.crosstab(df['Actual'], df['Predicted'], rownames=['Actual'], colnames=['Predicted'])\n",
        "\n",
        "sn.heatmap(confusion_matrix, annot=True,cmap=\"YlGnBu\").set_title('Confusion Matrix of Testing')\n",
        "plt.show()"
      ],
      "execution_count": null,
      "outputs": [
        {
          "output_type": "display_data",
          "data": {
            "text/plain": [
              "<Figure size 432x288 with 2 Axes>"
            ],
            "image/png": "[encoded data removed]"
          },
          "metadata": {
            "tags": [],
            "needs_background": "light"
          }
        }
      ]
    },
    {
      "cell_type": "code",
      "metadata": {
        "id": "5tkMhDd7Fobr",
        "outputId": "4e23dee3-b5ce-4566-b2c4-494e0051687d"
      },
      "source": [
        "from sklearn.metrics import classification_report\n",
        "\n",
        "target_names = ['negative', 'positive']\n",
        "print(classification_report(testingLabels, testingPredictions, target_names=target_names))"
      ],
      "execution_count": null,
      "outputs": [
        {
          "output_type": "stream",
          "text": [
            "              precision    recall  f1-score   support\n",
            "\n",
            "    negative       0.74      0.91      0.82       251\n",
            "    positive       0.88      0.68      0.77       246\n",
            "\n",
            "    accuracy                           0.79       497\n",
            "   macro avg       0.81      0.79      0.79       497\n",
            "weighted avg       0.81      0.79      0.79       497\n",
            "\n"
          ],
          "name": "stdout"
        }
      ]
    },
    {
      "cell_type": "code",
      "metadata": {
        "tags": [
          "outputPrepend"
        ],
        "id": "osDesq0QFobr",
        "colab": {
          "base_uri": "https://localhost:8080/",
          "height": 229
        },
        "outputId": "4e5f6b5d-27d5-42ec-86cd-83bf9094de8f"
      },
      "source": [
        "import json\n",
        "\n",
        "data = []\n",
        "for i in range(len(testingPredictions)):\n",
        "  data.append({\n",
        "      'index': i,\n",
        "      'true_label': int(testingLabels[i]),\n",
        "      'predicted_label': int(testingPredictions[i]),\n",
        "      'confidence_score': test_confidence_scores[i],\n",
        "      'text': testingSentences[i]\n",
        "  })\n",
        "\n",
        "with open('predcit.json', 'w') as outfile:\n",
        "    json.dump(data, outfile, indent=4, sort_keys=False)"
      ],
      "execution_count": 1,
      "outputs": [
        {
          "output_type": "error",
          "ename": "NameError",
          "evalue": "ignored",
          "traceback": [
            "\u001b[0;31m---------------------------------------------------------------------------\u001b[0m",
            "\u001b[0;31mNameError\u001b[0m                                 Traceback (most recent call last)",
            "\u001b[0;32m<ipython-input-1-11d2756749ae>\u001b[0m in \u001b[0;36m<module>\u001b[0;34m()\u001b[0m\n\u001b[1;32m      2\u001b[0m \u001b[0;34m\u001b[0m\u001b[0m\n\u001b[1;32m      3\u001b[0m \u001b[0mdata\u001b[0m \u001b[0;34m=\u001b[0m \u001b[0;34m[\u001b[0m\u001b[0;34m]\u001b[0m\u001b[0;34m\u001b[0m\u001b[0;34m\u001b[0m\u001b[0m\n\u001b[0;32m----> 4\u001b[0;31m \u001b[0;32mfor\u001b[0m \u001b[0mi\u001b[0m \u001b[0;32min\u001b[0m \u001b[0mrange\u001b[0m\u001b[0;34m(\u001b[0m\u001b[0mlen\u001b[0m\u001b[0;34m(\u001b[0m\u001b[0mtestingPredictions\u001b[0m\u001b[0;34m)\u001b[0m\u001b[0;34m)\u001b[0m\u001b[0;34m:\u001b[0m\u001b[0;34m\u001b[0m\u001b[0;34m\u001b[0m\u001b[0m\n\u001b[0m\u001b[1;32m      5\u001b[0m   data.append({\n\u001b[1;32m      6\u001b[0m       \u001b[0;34m'index'\u001b[0m\u001b[0;34m:\u001b[0m \u001b[0mi\u001b[0m\u001b[0;34m,\u001b[0m\u001b[0;34m\u001b[0m\u001b[0;34m\u001b[0m\u001b[0m\n",
            "\u001b[0;31mNameError\u001b[0m: name 'testingPredictions' is not defined"
          ]
        }
      ]
    },
    {
      "cell_type": "code",
      "metadata": {
        "id": "wl8YHAa8Fobs"
      },
      "source": [],
      "execution_count": null,
      "outputs": []
    }
  ]
}
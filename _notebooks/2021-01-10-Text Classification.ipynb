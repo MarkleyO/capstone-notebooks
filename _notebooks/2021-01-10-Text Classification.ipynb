{
    "metadata": {
        "kernelspec": {
            "name": "python3",
            "display_name": "Python 3",
            "language": "python"
        },
        "language_info": {
            "name": "python",
            "version": "3.7.1",
            "mimetype": "text/x-python",
            "codemirror_mode": {
                "name": "ipython",
                "version": 3
            },
            "pygments_lexer": "ipython3",
            "nbconvert_exporter": "python",
            "file_extension": ".py"
        },
        "widgets": {
            "application/vnd.jupyter.widget-state+json": {
                "state": {
                    "04f327f8729c4dfb8064560e564bc0c6": {
                        "model_module": "@jupyter-widgets/controls",
                        "model_module_version": "1.5.0",
                        "model_name": "ButtonStyleModel",
                        "state": {}
                    },
                    "527b16c6484f41a8bbea8b6f91ee4137": {
                        "model_module": "@jupyter-widgets/controls",
                        "model_module_version": "1.5.0",
                        "model_name": "ButtonStyleModel",
                        "state": {}
                    },
                    "55400c05e9674a448f4e1fca689799eb": {
                        "model_module": "@jupyter-widgets/controls",
                        "model_module_version": "1.5.0",
                        "model_name": "ButtonStyleModel",
                        "state": {}
                    },
                    "6d2c241530244303bf40c0e3b075e4ce": {
                        "model_module": "@jupyter-widgets/base",
                        "model_module_version": "1.2.0",
                        "model_name": "LayoutModel",
                        "state": {}
                    },
                    "876403260ccd4a0a8d22c264a6912605": {
                        "model_module": "@jupyter-widgets/base",
                        "model_module_version": "1.2.0",
                        "model_name": "LayoutModel",
                        "state": {}
                    },
                    "91e9ccd185a845428527d57ccb73fb26": {
                        "model_module": "@jupyter-widgets/base",
                        "model_module_version": "1.2.0",
                        "model_name": "LayoutModel",
                        "state": {}
                    },
                    "9f021bc8541a4b19862488ae989a54bf": {
                        "model_module": "@jupyter-widgets/controls",
                        "model_module_version": "1.5.0",
                        "model_name": "ButtonModel",
                        "state": {
                            "description": "Model Accuracy",
                            "layout": "IPY_MODEL_dd9515246a5c4b2c8378751eaa36df79",
                            "style": "IPY_MODEL_04f327f8729c4dfb8064560e564bc0c6"
                        }
                    },
                    "9f1a03a9c53344238bee47b914fa8692": {
                        "model_module": "@jupyter-widgets/controls",
                        "model_module_version": "1.5.0",
                        "model_name": "ButtonModel",
                        "state": {
                            "description": "Click to see Vocab",
                            "layout": "IPY_MODEL_876403260ccd4a0a8d22c264a6912605",
                            "style": "IPY_MODEL_527b16c6484f41a8bbea8b6f91ee4137"
                        }
                    },
                    "dd9515246a5c4b2c8378751eaa36df79": {
                        "model_module": "@jupyter-widgets/base",
                        "model_module_version": "1.2.0",
                        "model_name": "LayoutModel",
                        "state": {}
                    },
                    "eec603a2a46d48bfbb6570ddefcc6477": {
                        "model_module": "@jupyter-widgets/controls",
                        "model_module_version": "1.5.0",
                        "model_name": "ButtonModel",
                        "state": {
                            "description": "Model Accuracy",
                            "layout": "IPY_MODEL_91e9ccd185a845428527d57ccb73fb26",
                            "style": "IPY_MODEL_f8efef0d43ab4f32b7ab103f009ffe3b"
                        }
                    },
                    "f7141bc2f4b84b2daf37332f22af3d8f": {
                        "model_module": "@jupyter-widgets/controls",
                        "model_module_version": "1.5.0",
                        "model_name": "ButtonModel",
                        "state": {
                            "description": "Click to see Vocab",
                            "layout": "IPY_MODEL_6d2c241530244303bf40c0e3b075e4ce",
                            "style": "IPY_MODEL_55400c05e9674a448f4e1fca689799eb"
                        }
                    },
                    "f8efef0d43ab4f32b7ab103f009ffe3b": {
                        "model_module": "@jupyter-widgets/controls",
                        "model_module_version": "1.5.0",
                        "model_name": "ButtonStyleModel",
                        "state": {}
                    }
                },
                "version_major": 2,
                "version_minor": 0
            }
        }
    },
    "nbformat_minor": 2,
    "nbformat": 4,
    "cells": [
        {
            "cell_type": "code",
            "source": [
                "# Text Classification\n",
                "> \"Chapter 1 - start out with sentiment text classification.\"\n",
                "\n",
                "- toc: true\n",
                "- branch: master\n",
                "- badges: false\n",
                "- comments: false"
            ],
            "metadata": {
                "azdata_cell_guid": "60819cb6-a70a-4c2e-a659-3e1d2cc77a9a"
            },
            "outputs": [],
            "execution_count": null
        },
        {
            "cell_type": "markdown",
            "source": [
                "Text classification is the process of assigning tags or categories to text according to its content. It’s one of the fundamental tasks in natural language processing.\n",
                "\n",
                "The text we wanna classify is given as input to an algorithm, the algorithm will then analyze the text’s content, and then categorize the input as one of the tags or categories previously given.\n",
                "\n",
                "**Input → Classifying Algorithm → Classification of Input**\n",
                "\n",
                "Real life examples:\n",
                "\n",
                "- sentiment analysis: how does the writer of the sentence feel about what they are writing about, do they think positively or negatively of the subject? Ex. restaurant reviews topic labeling: given sentences and a set of topics, which topic does this sentence fall under? Ex. is this essay about history? Math? etc? spam detection Ex. Email filtering: is this email a real important email or spam?\n",
                "\n",
                "Example. A restaurant wants to evaluate their ratings but don’t want to read through all of them. Therefore, they wanna use a computer algorithm to do all their work. They simply want to know if the customer’s review is positive or negative.\n",
                "\n",
                "Here’s an example of a customer’s review and a simple way an algorithm could classify their review.\n",
                "\n",
                "Input: “The food here was too salty and too expensive”\n",
                "\n",
                "Algorithm: Goes through every word in the sentence and counts how many positive words and how many negative words are in the sentence.\n",
                "\n",
                "```\n",
                "    “The, food, here, was, too, and” are all neutral words\n",
                "\n",
                "    “Salty, expensive” are negative words.\n",
                "\n",
                "    Negative words: 2\n",
                "    Positive words: 0\n",
                "```\n",
                "\n",
                "Classification: Negative Review, because there are more negative words (2) than positive (0).\n",
                "\n",
                "However, this algorithm obviously doesn’t work in a lot of cases.\n",
                "\n",
                "For example, “The food here was good, not expensive and not salty” would be classified as negative but it’s actually a positive review.\n",
                "\n",
                "Language and text can get very complicated which makes creating these algorithms difficult. Some things that make language difficult could be words that have multiple meanings, negation words (words such as not), slang, etc."
            ],
            "metadata": {
                "azdata_cell_guid": "66b3dda0-aef7-42e3-adaa-8b0e2772f915"
            }
        },
        {
            "cell_type": "markdown",
            "source": [
                "## Importing Data\n",
                "\n",
                "This section of code is to import any necessary Python libraries that we'll need for the rest of this notebook, as well as set up the data that we'll be using."
            ],
            "metadata": {
                "azdata_cell_guid": "d5e32e42-b3b6-4282-999d-acf05252fb06"
            }
        },
        {
            "cell_type": "code",
            "source": [
                "# collapse-hide\n",
                "!pip3 install seaborn\n",
                "\n",
                "import sys\n",
                "import string\n",
                "from scipy import sparse\n",
                "from pprint import pprint\n",
                "import pandas as pd\n",
                "import seaborn as sn\n",
                "import matplotlib.pyplot as plt\n",
                "import numpy as np\n",
                "from IPython.display import display\n",
                "import ipywidgets as widgets \n",
                "\n",
                "# Our two files that contain our data, split up into a training set and a testing set.\n",
                "\n",
                "trainingFile = \"trainingSet.txt\"\n",
                "testingFile = \"testSet.txt\""
            ],
            "metadata": {
                "azdata_cell_guid": "6305a379-9ec8-4ba3-94e4-e54c9ef30f38"
            },
            "outputs": [
                {
                    "name": "stdout",
                    "text": "Collecting seaborn\r\n",
                    "output_type": "stream"
                },
                {
                    "name": "stdout",
                    "text": "  Using cached https://files.pythonhosted.org/packages/68/ad/6c2406ae175f59ec616714e408979b674fe27b9587f79d59a528ddfbcd5b/seaborn-0.11.1-py3-none-any.whl\r\n",
                    "output_type": "stream"
                },
                {
                    "name": "stdout",
                    "text": "Requirement already satisfied: matplotlib>=2.2 in /Library/Frameworks/Python.framework/Versions/3.7/lib/python3.7/site-packages (from seaborn) (3.1.1)\r\nRequirement already satisfied: numpy>=1.15 in /Library/Frameworks/Python.framework/Versions/3.7/lib/python3.7/site-packages (from seaborn) (1.17.1)\r\nRequirement already satisfied: scipy>=1.0 in /Library/Frameworks/Python.framework/Versions/3.7/lib/python3.7/site-packages (from seaborn) (1.3.2)\r\nRequirement already satisfied: pandas>=0.23 in /Library/Frameworks/Python.framework/Versions/3.7/lib/python3.7/site-packages (from seaborn) (0.25.3)\r\nRequirement already satisfied: cycler>=0.10 in /Library/Frameworks/Python.framework/Versions/3.7/lib/python3.7/site-packages (from matplotlib>=2.2->seaborn) (0.10.0)\r\nRequirement already satisfied: python-dateutil>=2.1 in /Library/Frameworks/Python.framework/Versions/3.7/lib/python3.7/site-packages (from matplotlib>=2.2->seaborn) (2.8.1)\r\nRequirement already satisfied: pyparsing!=2.0.4,!=2.1.2,!=2.1.6,>=2.0.1 in /Library/Frameworks/Python.framework/Versions/3.7/lib/python3.7/site-packages (from matplotlib>=2.2->seaborn) (2.4.5)\r\nRequirement already satisfied: kiwisolver>=1.0.1 in /Library/Frameworks/Python.framework/Versions/3.7/lib/python3.7/site-packages (from matplotlib>=2.2->seaborn) (1.1.0)\r\nRequirement already satisfied: pytz>=2017.2 in /Library/Frameworks/Python.framework/Versions/3.7/lib/python3.7/site-packages (from pandas>=0.23->seaborn) (2019.3)\r\n",
                    "output_type": "stream"
                },
                {
                    "name": "stdout",
                    "text": "Requirement already satisfied: six in /Library/Frameworks/Python.framework/Versions/3.7/lib/python3.7/site-packages (from cycler>=0.10->matplotlib>=2.2->seaborn) (1.12.0)\r\nRequirement already satisfied: setuptools in /Library/Frameworks/Python.framework/Versions/3.7/lib/python3.7/site-packages (from kiwisolver>=1.0.1->matplotlib>=2.2->seaborn) (39.0.1)\r\n",
                    "output_type": "stream"
                },
                {
                    "name": "stdout",
                    "text": "Installing collected packages: seaborn\r\n",
                    "output_type": "stream"
                },
                {
                    "name": "stdout",
                    "text": "Successfully installed seaborn-0.11.1\r\n",
                    "output_type": "stream"
                },
                {
                    "name": "stdout",
                    "text": "\u001b[33mYou are using pip version 10.0.1, however version 20.3.3 is available.\r\nYou should consider upgrading via the 'pip install --upgrade pip' command.\u001b[0m\r\n",
                    "output_type": "stream"
                }
            ],
            "execution_count": 4
        },
        {
            "cell_type": "markdown",
            "source": [
                "Let's take a peek at what these text files look like:"
            ],
            "metadata": {
                "azdata_cell_guid": "9859f856-7986-472f-a18b-a176e955b7e8"
            }
        },
        {
            "cell_type": "code",
            "source": [
                "#hide_input \n",
                "\n",
                "f = open(\"trainingSet.txt\")\n",
                "file = f.readlines()\n",
                "\n",
                "sentences = []\n",
                "sentiments = []\n",
                "\n",
                "for line in file:\n",
                "    sentence, sentiment = line.split('\\t')\n",
                "    sentences.append(sentence.strip())\n",
                "    sentiments.append(int(sentiment.strip())) \n",
                "    \n",
                "print(\"Sample sentences:\")\n",
                "pprint(sentences[:10]) \n",
                "print(\"Corresponding sentiments:\")\n",
                "pprint(sentiments[:10]) "
            ],
            "metadata": {
                "azdata_cell_guid": "0e6f77c6-9cee-4b4d-a474-9cd47d057bf7",
                "tags": []
            },
            "outputs": [
                {
                    "output_type": "stream",
                    "name": "stdout",
                    "text": "Sample sentences:\n['Wow... Loved this place.',\n 'Not tasty and the texture was just nasty.',\n 'Stopped by during the late May bank holiday off Rick Steve recommendation '\n 'and loved it.',\n 'The selection on the menu was great and so were the prices.',\n 'Now I am getting angry and I want my damn pho.',\n \"Honeslty it didn't taste THAT fresh.)\",\n 'The potatoes were like rubber and you could tell they had been made up ahead '\n 'of time being kept under a warmer.',\n 'The fries were great too.',\n 'A great touch.',\n 'Service was very prompt.']\nCorresponding sentiments:\n[1, 0, 1, 1, 0, 0, 0, 1, 1, 1]\n"
                }
            ],
            "execution_count": 59
        },
        {
            "cell_type": "markdown",
            "source": [
                "Below is a definition of getData, a basic function to pull from the ```trainingSet.txt``` and ```testSet.txt```. We open the file, create temporary arrays, and pull from the file line by line. \n",
                "  \n",
                "\n",
                "Open the cell if you'd like to peek into what the function looks like."
            ],
            "metadata": {
                "azdata_cell_guid": "9a1685b0-0396-4ed6-a19f-a43bf2293859"
            }
        },
        {
            "cell_type": "code",
            "source": [
                "# collapse-show\n",
                "\n",
                "def getData(fileName):\n",
                "    f = open(fileName)\n",
                "    file = f.readlines()\n",
                "\n",
                "    sentences = []\n",
                "    sentiments = []\n",
                "\n",
                "    for line in file:\n",
                "        sentence, sentiment = line.split('\\t')\n",
                "        sentences.append(sentence.strip())\n",
                "        sentiments.append(int(sentiment.strip())) # Sentiment in {0,1}\n",
                "\n",
                "    return sentences, np.array(sentiments)"
            ],
            "metadata": {
                "azdata_cell_guid": "73b2409b-c9e0-4fc0-b5c3-93d0d70e9fc5"
            },
            "outputs": [],
            "execution_count": 7
        },
        {
            "cell_type": "code",
            "source": [
                "# get data from the training and testing files using the getData function defined above\n",
                "\n",
                "trainingSentences, trainingLabels = getData(trainingFile)\n",
                "testingSentences, testingLabels = getData(testingFile) "
            ],
            "metadata": {
                "azdata_cell_guid": "ea307c06-6f6f-4e2b-9dad-d353d5d63211",
                "tags": []
            },
            "outputs": [],
            "execution_count": 8
        },
        {
            "cell_type": "markdown",
            "source": [
                "## Pre-Processing Data"
            ],
            "metadata": {
                "azdata_cell_guid": "38a166de-5063-4638-8c15-19a57e742c68"
            }
        },
        {
            "cell_type": "code",
            "source": [
                "def preProcess(sentences):\n",
                "\n",
                "    def cleanText(text):\n",
                "        # Make lower case\n",
                "        text = text.lower()\n",
                "\n",
                "        # Replace non-text characters with spaces\n",
                "        nonText = string.punctuation + (\"\")\n",
                "        text = text.translate(str.maketrans(nonText, ' ' * (len(nonText))))\n",
                "\n",
                "        # Tokenize\n",
                "        words = text.split()\n",
                "\n",
                "        return words\n",
                "\n",
                "    return list(map(cleanText, sentences))"
            ],
            "metadata": {
                "azdata_cell_guid": "a0954a22-336d-469c-a32d-835d7329ba76"
            },
            "outputs": [],
            "execution_count": 9
        },
        {
            "cell_type": "code",
            "source": [
                "trainingTokens = preProcess(trainingSentences)\n",
                "testingTokens = preProcess(testingSentences)"
            ],
            "metadata": {
                "azdata_cell_guid": "ad995853-5e2e-4ee7-a51f-b1a9a56561e0"
            },
            "outputs": [],
            "execution_count": 10
        },
        {
            "cell_type": "markdown",
            "source": [
                "## Getting Data and Setting it Up"
            ],
            "metadata": {
                "azdata_cell_guid": "b88a3dd5-4436-454c-8ce9-3ada65a8f614"
            }
        },
        {
            "cell_type": "code",
            "source": [
                "def getVocab(sentences):\n",
                "    vocab = set()\n",
                "    for sentence in sentences:\n",
                "        for word in sentence:\n",
                "            vocab.add(word)\n",
                "    return sorted(vocab)"
            ],
            "metadata": {
                "azdata_cell_guid": "7536bef9-a077-4690-8efe-a380f9ca0874"
            },
            "outputs": [],
            "execution_count": 11
        },
        {
            "cell_type": "code",
            "source": [
                "vocabulary = getVocab(trainingTokens)"
            ],
            "metadata": {
                "azdata_cell_guid": "c82b93b2-09b1-466f-881b-5c2730b57388"
            },
            "outputs": [],
            "execution_count": 12
        },
        {
            "cell_type": "code",
            "source": [
                "def clicked(arg):\n",
                "    print(vocabulary)\n",
                "\n",
                "button_download = widgets.Button(description = 'Click to see Vocab')   \n",
                "button_download.on_click(clicked)\n",
                "display(button_download)"
            ],
            "metadata": {
                "azdata_cell_guid": "582421f1-1e8c-4e5b-9bee-a84b742b7a6a"
            },
            "outputs": [
                {
                    "data": {
                        "text/plain": "Button(description='Click to see Vocab', style=ButtonStyle())",
                        "application/vnd.jupyter.widget-view+json": {
                            "version_major": 2,
                            "version_minor": 0,
                            "model_id": "8931df766ef24f92896d8dcbf246c6ac"
                        }
                    },
                    "metadata": {},
                    "output_type": "display_data"
                }
            ],
            "execution_count": 13
        },
        {
            "cell_type": "code",
            "source": [
                "def createVector(vocab, sentences):\n",
                "    indices = []\n",
                "    wordOccurrences = []\n",
                "\n",
                "    for sentenceIndex, sentence in enumerate(sentences):\n",
                "        alreadyCounted = set() # Keep track of words so we don't double count.\n",
                "        for word in sentence:\n",
                "            if (word in vocab) and word not in alreadyCounted:\n",
                "                # If we just want {0,1} for the presence of the word (bernoulli NB),\n",
                "                # only count each word once. Otherwise (multinomial NB) count each\n",
                "                # occurrence of the word.\n",
                "                \n",
                "            \n",
                "                #which sentence, which word\n",
                "                indices.append((sentenceIndex, vocab.index(word)))\n",
                "                \n",
                "                wordOccurrences.append(1)\n",
                "                alreadyCounted.add(word)\n",
                "\n",
                "    # Unzip\n",
                "    rows = [row for row, _ in indices]\n",
                "    columns = [column for _, column in indices]\n",
                "\n",
                "    sentenceVectors = sparse.csr_matrix((wordOccurrences, (rows, columns)), dtype=int, shape=(len(sentences), len(vocab)))\n",
                "\n",
                "    return sentenceVectors"
            ],
            "metadata": {
                "azdata_cell_guid": "f25af79b-16e4-49b7-acec-18f489f356a6"
            },
            "outputs": [],
            "execution_count": 14
        },
        {
            "cell_type": "code",
            "source": [
                "training = createVector(vocabulary, trainingTokens)\n",
                "testing = createVector(vocabulary, testingTokens)"
            ],
            "metadata": {
                "azdata_cell_guid": "a1683930-c447-4f33-ba91-4a8c3f55ea6e"
            },
            "outputs": [],
            "execution_count": 15
        },
        {
            "cell_type": "code",
            "source": [
                "import numpy as np\n",
                "\n",
                "\n",
                "class NaiveBayesClassifier:\n",
                "    def __init__(self):\n",
                "        self.priorPositive = None  # Probability that a review is positive\n",
                "        self.priorNegative = None  # Probability that a review is negative\n",
                "        self.positiveLogConditionals = None\n",
                "        self.negativeLogConditionals = None\n",
                "\n",
                "    def computePriorProbabilities(self, labels):\n",
                "        self.priorPositive = len([y for y in labels if y == 1]) / len(labels)\n",
                "        self.priorNegative = 1 - self.priorPositive\n",
                "\n",
                "    def computeConditionProbabilities(self, examples, labels, dirichlet=1):\n",
                "        _, vocabularyLength = examples.shape\n",
                "\n",
                "        # How many of each word are there in all of the positive reviews\n",
                "        positiveCounts = np.array([dirichlet for _ in range(vocabularyLength)])\n",
                "        # How many of each word are there in all of the negative reviews\n",
                "        negativeCounts = np.array([dirichlet for _ in range(vocabularyLength)])\n",
                "\n",
                "        # Here's how to iterate through a spare array\n",
                "        coordinates = examples.tocoo()  # Converted to a `coordinate` format\n",
                "        for exampleIndex, featureIndex, observationCount in zip(coordinates.row, coordinates.col, coordinates.data):\n",
                "            # For sentence {exampleIndex}, for word at index {featureIndex}, the word occurred {observationCount} times\n",
                "            if labels[exampleIndex] == 1:\n",
                "                positiveCounts[featureIndex] += observationCount\n",
                "            else:\n",
                "                negativeCounts[featureIndex] += observationCount\n",
                "\n",
                "        # [!] Make sure to use the logs of the probabilities\n",
                "        positiveReviewCount = len([y for y in labels if y == 1])\n",
                "        negativeReviewCount = len([y for y in labels if y == 0])\n",
                "\n",
                "        # We are using bernoulli NB\n",
                "        self.positiveLogConditionals = np.log(positiveCounts) - np.log(positiveReviewCount + dirichlet*2)\n",
                "        self.negativeLogConditionals = np.log(negativeCounts) - np.log(negativeReviewCount + dirichlet*2)\n",
                "\n",
                "        # This works for multinomial NB\n",
                "        # self.positiveLogConditionals = np.log(positiveCounts) - np.log(sum(positiveCounts))\n",
                "        # self.negativeLogConditionals = np.log(negativeCounts) - np.log(sum(negativeCounts))\n",
                "\n",
                "    # Calculate all of the parameters for making a naive bayes classification\n",
                "    def fit(self, trainingExamples, trainingLabels):\n",
                "        # Compute the probability of positive/negative review\n",
                "        self.computePriorProbabilities(trainingLabels)\n",
                "\n",
                "        # Compute\n",
                "        self.computeConditionProbabilities(trainingExamples, trainingLabels)\n",
                "\n",
                "    def computeLogPosteriors(self, sentence):\n",
                "        return ((np.log(self.priorPositive) + sum(sentence * self.positiveLogConditionals)),\n",
                "                (np.log(self.priorNegative) + sum(sentence * self.negativeLogConditionals)))\n",
                "\n",
                "    def predict(self, examples):\n",
                "        totalReviewCount, _ = examples.shape\n",
                "\n",
                "        predictions = np.array([0 for _ in range(totalReviewCount)])\n",
                "\n",
                "        for index, sentence in enumerate(examples):\n",
                "            logProbabilityPositive, logProbabilityNegative = self.computeLogPosteriors(\n",
                "                sentence)\n",
                "            predictions[index] = 1 if logProbabilityPositive > logProbabilityNegative else 0\n",
                "\n",
                "        return predictions"
            ],
            "metadata": {
                "azdata_cell_guid": "17220d70-73b4-4fe6-a5e4-b4ba2dd08e59"
            },
            "outputs": [],
            "execution_count": 16
        },
        {
            "cell_type": "code",
            "source": [
                "nbClassifier = NaiveBayesClassifier()\n",
                "nbClassifier.fit(training, trainingLabels)"
            ],
            "metadata": {
                "azdata_cell_guid": "65960622-8f88-49d2-aebe-53ffce20d0bb"
            },
            "outputs": [],
            "execution_count": 17
        },
        {
            "cell_type": "code",
            "source": [
                "def accuracy(predictions, actual):\n",
                "    return sum((predictions == actual)) / len(actual)"
            ],
            "metadata": {
                "azdata_cell_guid": "15eea9e6-790e-4ada-bd84-26de239c8295"
            },
            "outputs": [],
            "execution_count": 18
        },
        {
            "cell_type": "code",
            "source": [
                "trainingPredictions = nbClassifier.predict(training)\n",
                "testingPredictions = nbClassifier.predict(testing)"
            ],
            "metadata": {
                "azdata_cell_guid": "48ca6a8b-5d89-44f0-a018-78a890bb1916"
            },
            "outputs": [],
            "execution_count": 19
        },
        {
            "cell_type": "code",
            "source": [
                "def accuracy_button(arg):\n",
                "    print(\"Training accuracy:\", accuracy(trainingPredictions, trainingLabels))\n",
                "    print(\"Testing accuracy:\", accuracy(testingPredictions, testingLabels))\n",
                "\n",
                "button_download = widgets.Button(description = 'Model Accuracy')   \n",
                "button_download.on_click(accuracy_button)\n",
                "display(button_download)"
            ],
            "metadata": {
                "azdata_cell_guid": "4abd7d0b-f009-4fcb-bbcf-92ef339ffa73",
                "tags": []
            },
            "outputs": [
                {
                    "data": {
                        "text/plain": "Button(description='Model Accuracy', style=ButtonStyle())",
                        "application/vnd.jupyter.widget-view+json": {
                            "version_major": 2,
                            "version_minor": 0,
                            "model_id": "7cf6f922292f49cf86110af545cbc1ae"
                        }
                    },
                    "metadata": {},
                    "output_type": "display_data"
                }
            ],
            "execution_count": 20
        },
        {
            "cell_type": "code",
            "source": [
                "data = {'Actual':    testingLabels,\n",
                "        'Predicted': testingPredictions\n",
                "        }\n",
                "\n",
                "df = pd.DataFrame(data, columns=['Actual','Predicted'])\n",
                "confusion_matrix = pd.crosstab(df['Actual'], df['Predicted'], rownames=['Actual'], colnames=['Predicted'])\n",
                "\n",
                "sn.heatmap(confusion_matrix, annot=True,cmap=\"YlGnBu\").set_title('Confusion Matrix of Testing')\n",
                "plt.show()\n",
                ""
            ],
            "metadata": {
                "azdata_cell_guid": "04e2d67d-41a2-47a5-9504-6b8a02cd331a"
            },
            "outputs": [
                {
                    "data": {
                        "text/plain": "<Figure size 432x288 with 2 Axes>",
                        "image/png": "[encoded data removed]"
                    },
                    "metadata": {
                        "needs_background": "light"
                    },
                    "output_type": "display_data"
                }
            ],
            "execution_count": 21
        }
    ]
}